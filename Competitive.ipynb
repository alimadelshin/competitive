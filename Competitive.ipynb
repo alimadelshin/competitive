{
  "nbformat": 4,
  "nbformat_minor": 0,
  "metadata": {
    "colab": {
      "name": "Competitive.ipynb",
      "provenance": [],
      "collapsed_sections": [],
      "authorship_tag": "ABX9TyPGsHWwVEGbxYZl2VWPXhEa",
      "include_colab_link": true
    },
    "kernelspec": {
      "name": "python3",
      "display_name": "Python 3"
    },
    "widgets": {
      "application/vnd.jupyter.widget-state+json": {
        "ed194bb2c0a04d688ad7089a17bd557b": {
          "model_module": "@jupyter-widgets/controls",
          "model_name": "HBoxModel",
          "state": {
            "_view_name": "HBoxView",
            "_dom_classes": [],
            "_model_name": "HBoxModel",
            "_view_module": "@jupyter-widgets/controls",
            "_model_module_version": "1.5.0",
            "_view_count": null,
            "_view_module_version": "1.5.0",
            "box_style": "",
            "layout": "IPY_MODEL_e569acfe9a3247119a0bde10e31edf7c",
            "_model_module": "@jupyter-widgets/controls",
            "children": [
              "IPY_MODEL_99c46b0b7bbf4d808c2613d8ff170315",
              "IPY_MODEL_73c4ee1b09cb474ca30df5c2381de702"
            ]
          }
        },
        "e569acfe9a3247119a0bde10e31edf7c": {
          "model_module": "@jupyter-widgets/base",
          "model_name": "LayoutModel",
          "state": {
            "_view_name": "LayoutView",
            "grid_template_rows": null,
            "right": null,
            "justify_content": null,
            "_view_module": "@jupyter-widgets/base",
            "overflow": null,
            "_model_module_version": "1.2.0",
            "_view_count": null,
            "flex_flow": null,
            "width": null,
            "min_width": null,
            "border": null,
            "align_items": null,
            "bottom": null,
            "_model_module": "@jupyter-widgets/base",
            "top": null,
            "grid_column": null,
            "overflow_y": null,
            "overflow_x": null,
            "grid_auto_flow": null,
            "grid_area": null,
            "grid_template_columns": null,
            "flex": null,
            "_model_name": "LayoutModel",
            "justify_items": null,
            "grid_row": null,
            "max_height": null,
            "align_content": null,
            "visibility": null,
            "align_self": null,
            "height": null,
            "min_height": null,
            "padding": null,
            "grid_auto_rows": null,
            "grid_gap": null,
            "max_width": null,
            "order": null,
            "_view_module_version": "1.2.0",
            "grid_template_areas": null,
            "object_position": null,
            "object_fit": null,
            "grid_auto_columns": null,
            "margin": null,
            "display": null,
            "left": null
          }
        },
        "99c46b0b7bbf4d808c2613d8ff170315": {
          "model_module": "@jupyter-widgets/controls",
          "model_name": "FloatProgressModel",
          "state": {
            "_view_name": "ProgressView",
            "style": "IPY_MODEL_73afba2d55254d73ba2091278b56ccd1",
            "_dom_classes": [],
            "description": "  5%",
            "_model_name": "FloatProgressModel",
            "bar_style": "danger",
            "max": 194,
            "_view_module": "@jupyter-widgets/controls",
            "_model_module_version": "1.5.0",
            "value": 9,
            "_view_count": null,
            "_view_module_version": "1.5.0",
            "orientation": "horizontal",
            "min": 0,
            "description_tooltip": null,
            "_model_module": "@jupyter-widgets/controls",
            "layout": "IPY_MODEL_0f2755803cd74b2e95084ffbf25d43ff"
          }
        },
        "73c4ee1b09cb474ca30df5c2381de702": {
          "model_module": "@jupyter-widgets/controls",
          "model_name": "HTMLModel",
          "state": {
            "_view_name": "HTMLView",
            "style": "IPY_MODEL_682e1a0521f942f3bcd644d6f4e24b29",
            "_dom_classes": [],
            "description": "",
            "_model_name": "HTMLModel",
            "placeholder": "​",
            "_view_module": "@jupyter-widgets/controls",
            "_model_module_version": "1.5.0",
            "value": " 9/194 [02:06&lt;38:58, 12.64s/it]",
            "_view_count": null,
            "_view_module_version": "1.5.0",
            "description_tooltip": null,
            "_model_module": "@jupyter-widgets/controls",
            "layout": "IPY_MODEL_29e29520dd704bceae9fb05b43b8165e"
          }
        },
        "73afba2d55254d73ba2091278b56ccd1": {
          "model_module": "@jupyter-widgets/controls",
          "model_name": "ProgressStyleModel",
          "state": {
            "_view_name": "StyleView",
            "_model_name": "ProgressStyleModel",
            "description_width": "initial",
            "_view_module": "@jupyter-widgets/base",
            "_model_module_version": "1.5.0",
            "_view_count": null,
            "_view_module_version": "1.2.0",
            "bar_color": null,
            "_model_module": "@jupyter-widgets/controls"
          }
        },
        "0f2755803cd74b2e95084ffbf25d43ff": {
          "model_module": "@jupyter-widgets/base",
          "model_name": "LayoutModel",
          "state": {
            "_view_name": "LayoutView",
            "grid_template_rows": null,
            "right": null,
            "justify_content": null,
            "_view_module": "@jupyter-widgets/base",
            "overflow": null,
            "_model_module_version": "1.2.0",
            "_view_count": null,
            "flex_flow": null,
            "width": null,
            "min_width": null,
            "border": null,
            "align_items": null,
            "bottom": null,
            "_model_module": "@jupyter-widgets/base",
            "top": null,
            "grid_column": null,
            "overflow_y": null,
            "overflow_x": null,
            "grid_auto_flow": null,
            "grid_area": null,
            "grid_template_columns": null,
            "flex": null,
            "_model_name": "LayoutModel",
            "justify_items": null,
            "grid_row": null,
            "max_height": null,
            "align_content": null,
            "visibility": null,
            "align_self": null,
            "height": null,
            "min_height": null,
            "padding": null,
            "grid_auto_rows": null,
            "grid_gap": null,
            "max_width": null,
            "order": null,
            "_view_module_version": "1.2.0",
            "grid_template_areas": null,
            "object_position": null,
            "object_fit": null,
            "grid_auto_columns": null,
            "margin": null,
            "display": null,
            "left": null
          }
        },
        "682e1a0521f942f3bcd644d6f4e24b29": {
          "model_module": "@jupyter-widgets/controls",
          "model_name": "DescriptionStyleModel",
          "state": {
            "_view_name": "StyleView",
            "_model_name": "DescriptionStyleModel",
            "description_width": "",
            "_view_module": "@jupyter-widgets/base",
            "_model_module_version": "1.5.0",
            "_view_count": null,
            "_view_module_version": "1.2.0",
            "_model_module": "@jupyter-widgets/controls"
          }
        },
        "29e29520dd704bceae9fb05b43b8165e": {
          "model_module": "@jupyter-widgets/base",
          "model_name": "LayoutModel",
          "state": {
            "_view_name": "LayoutView",
            "grid_template_rows": null,
            "right": null,
            "justify_content": null,
            "_view_module": "@jupyter-widgets/base",
            "overflow": null,
            "_model_module_version": "1.2.0",
            "_view_count": null,
            "flex_flow": null,
            "width": null,
            "min_width": null,
            "border": null,
            "align_items": null,
            "bottom": null,
            "_model_module": "@jupyter-widgets/base",
            "top": null,
            "grid_column": null,
            "overflow_y": null,
            "overflow_x": null,
            "grid_auto_flow": null,
            "grid_area": null,
            "grid_template_columns": null,
            "flex": null,
            "_model_name": "LayoutModel",
            "justify_items": null,
            "grid_row": null,
            "max_height": null,
            "align_content": null,
            "visibility": null,
            "align_self": null,
            "height": null,
            "min_height": null,
            "padding": null,
            "grid_auto_rows": null,
            "grid_gap": null,
            "max_width": null,
            "order": null,
            "_view_module_version": "1.2.0",
            "grid_template_areas": null,
            "object_position": null,
            "object_fit": null,
            "grid_auto_columns": null,
            "margin": null,
            "display": null,
            "left": null
          }
        }
      }
    }
  },
  "cells": [
    {
      "cell_type": "markdown",
      "metadata": {
        "id": "view-in-github",
        "colab_type": "text"
      },
      "source": [
        "<a href=\"https://colab.research.google.com/github/alimadelshin/competitive/blob/main/Competitive.ipynb\" target=\"_parent\"><img src=\"https://colab.research.google.com/assets/colab-badge.svg\" alt=\"Open In Colab\"/></a>"
      ]
    },
    {
      "cell_type": "markdown",
      "metadata": {
        "id": "SjB-EYFl7htk"
      },
      "source": [
        "# Preprocessing\r\n"
      ]
    },
    {
      "cell_type": "code",
      "metadata": {
        "colab": {
          "base_uri": "https://localhost:8080/"
        },
        "id": "eVcaPlM_3m6b",
        "outputId": "036b5cbd-53f6-4546-f226-fd4f52221f92"
      },
      "source": [
        "!git clone https://github.com/IlyaGusev/purano"
      ],
      "execution_count": 1,
      "outputs": [
        {
          "output_type": "stream",
          "text": [
            "Cloning into 'purano'...\n",
            "remote: Enumerating objects: 251, done.\u001b[K\n",
            "remote: Counting objects: 100% (251/251), done.\u001b[K\n",
            "remote: Compressing objects: 100% (177/177), done.\u001b[K\n",
            "remote: Total 987 (delta 118), reused 180 (delta 70), pack-reused 736\u001b[K\n",
            "Receiving objects: 100% (987/987), 1.24 MiB | 16.97 MiB/s, done.\n",
            "Resolving deltas: 100% (528/528), done.\n"
          ],
          "name": "stdout"
        }
      ]
    },
    {
      "cell_type": "code",
      "metadata": {
        "colab": {
          "base_uri": "https://localhost:8080/"
        },
        "id": "DseAf1c633wM",
        "outputId": "77b55b14-9b09-466e-c041-718b8f45be35"
      },
      "source": [
        "%cd purano"
      ],
      "execution_count": 2,
      "outputs": [
        {
          "output_type": "stream",
          "text": [
            "/content/purano\n"
          ],
          "name": "stdout"
        }
      ]
    },
    {
      "cell_type": "code",
      "metadata": {
        "colab": {
          "base_uri": "https://localhost:8080/"
        },
        "id": "mc8g3ghZ36GP",
        "outputId": "c75308c4-d7b9-4bf4-c189-b9f5f9b252de"
      },
      "source": [
        "!pip install -r requirements.txt\r\n",
        "!pip install pip install sentence-transformers"
      ],
      "execution_count": 3,
      "outputs": [
        {
          "output_type": "stream",
          "text": [
            "Requirement already satisfied: numpy<1.19.0,>=1.16.0 in /usr/local/lib/python3.7/dist-packages (from -r requirements.txt (line 5)) (1.18.5)\n",
            "Requirement already satisfied: pandas>=0.24.0 in /usr/local/lib/python3.7/dist-packages (from -r requirements.txt (line 6)) (1.1.5)\n",
            "Requirement already satisfied: scikit-learn>=0.21.0 in /usr/local/lib/python3.7/dist-packages (from -r requirements.txt (line 7)) (0.22.2.post1)\n",
            "Requirement already satisfied: hyperopt>=0.2.5 in /usr/local/lib/python3.7/dist-packages (from -r requirements.txt (line 8)) (0.2.5)\n",
            "Requirement already satisfied: neptune-client>=0.4.125 in /usr/local/lib/python3.7/dist-packages (from -r requirements.txt (line 9)) (0.5.1)\n",
            "Requirement already satisfied: torch>=1.5.0 in /usr/local/lib/python3.7/dist-packages (from -r requirements.txt (line 12)) (1.7.1+cu101)\n",
            "Requirement already satisfied: pytorch_lightning>=1.0.5 in /usr/local/lib/python3.7/dist-packages (from -r requirements.txt (line 13)) (1.2.1)\n",
            "Requirement already satisfied: tensorboard>=2.4 in /usr/local/lib/python3.7/dist-packages (from -r requirements.txt (line 14)) (2.4.1)\n",
            "Requirement already satisfied: tensorboardX>=2.1 in /usr/local/lib/python3.7/dist-packages (from -r requirements.txt (line 15)) (2.1)\n",
            "Requirement already satisfied: transformers==3.4.0 in /usr/local/lib/python3.7/dist-packages (from -r requirements.txt (line 16)) (3.4.0)\n",
            "Requirement already satisfied: python-dateutil>=2.8.1 in /usr/local/lib/python3.7/dist-packages (from -r requirements.txt (line 19)) (2.8.1)\n",
            "Requirement already satisfied: jsonnet>=0.10.0 in /usr/local/lib/python3.7/dist-packages (from -r requirements.txt (line 20)) (0.17.0)\n",
            "Requirement already satisfied: sqlalchemy>=1.2.0 in /usr/local/lib/python3.7/dist-packages (from -r requirements.txt (line 21)) (1.3.23)\n",
            "Requirement already satisfied: protobuf>=3.10.0 in /usr/local/lib/python3.7/dist-packages (from -r requirements.txt (line 22)) (3.12.4)\n",
            "Requirement already satisfied: flask>=1.1.1 in /usr/local/lib/python3.7/dist-packages (from -r requirements.txt (line 23)) (1.1.2)\n",
            "Requirement already satisfied: flask-sqlalchemy>=2.4.4 in /usr/local/lib/python3.7/dist-packages (from -r requirements.txt (line 24)) (2.4.4)\n",
            "Requirement already satisfied: nltk>=3.2.5 in /usr/local/lib/python3.7/dist-packages (from -r requirements.txt (line 27)) (3.2.5)\n",
            "Requirement already satisfied: pyonmttok>=1.22.1 in /usr/local/lib/python3.7/dist-packages (from -r requirements.txt (line 28)) (1.24.0)\n",
            "Requirement already satisfied: fasttext>=0.9.1 in /usr/local/lib/python3.7/dist-packages (from -r requirements.txt (line 29)) (0.9.2)\n",
            "Requirement already satisfied: slovnet==0.4.0 in /usr/local/lib/python3.7/dist-packages (from -r requirements.txt (line 30)) (0.4.0)\n",
            "Requirement already satisfied: pymorphy2[fast]==0.9.1 in /usr/local/lib/python3.7/dist-packages (from -r requirements.txt (line 31)) (0.9.1)\n",
            "Requirement already satisfied: jupyter>=1.0.0 in /usr/local/lib/python3.7/dist-packages (from -r requirements.txt (line 34)) (1.0.0)\n",
            "Requirement already satisfied: ipymarkup>=0.5.0 in /usr/local/lib/python3.7/dist-packages (from -r requirements.txt (line 35)) (0.9.0)\n",
            "Requirement already satisfied: pyinstrument==3.2.0 in /usr/local/lib/python3.7/dist-packages (from -r requirements.txt (line 38)) (3.2.0)\n",
            "Requirement already satisfied: hnswlib==0.4.0 in /usr/local/lib/python3.7/dist-packages (from -r requirements.txt (line 39)) (0.4.0)\n",
            "Requirement already satisfied: pytz>=2017.2 in /usr/local/lib/python3.7/dist-packages (from pandas>=0.24.0->-r requirements.txt (line 6)) (2018.9)\n",
            "Requirement already satisfied: joblib>=0.11 in /usr/local/lib/python3.7/dist-packages (from scikit-learn>=0.21.0->-r requirements.txt (line 7)) (1.0.1)\n",
            "Requirement already satisfied: scipy>=0.17.0 in /usr/local/lib/python3.7/dist-packages (from scikit-learn>=0.21.0->-r requirements.txt (line 7)) (1.4.1)\n",
            "Requirement already satisfied: six in /usr/local/lib/python3.7/dist-packages (from hyperopt>=0.2.5->-r requirements.txt (line 8)) (1.15.0)\n",
            "Requirement already satisfied: tqdm in /usr/local/lib/python3.7/dist-packages (from hyperopt>=0.2.5->-r requirements.txt (line 8)) (4.41.1)\n",
            "Requirement already satisfied: cloudpickle in /usr/local/lib/python3.7/dist-packages (from hyperopt>=0.2.5->-r requirements.txt (line 8)) (1.3.0)\n",
            "Requirement already satisfied: future in /usr/local/lib/python3.7/dist-packages (from hyperopt>=0.2.5->-r requirements.txt (line 8)) (0.16.0)\n",
            "Requirement already satisfied: networkx>=2.2 in /usr/local/lib/python3.7/dist-packages (from hyperopt>=0.2.5->-r requirements.txt (line 8)) (2.5)\n",
            "Requirement already satisfied: websocket-client>=0.35.0 in /usr/local/lib/python3.7/dist-packages (from neptune-client>=0.4.125->-r requirements.txt (line 9)) (0.57.0)\n",
            "Requirement already satisfied: click>=7.0 in /usr/local/lib/python3.7/dist-packages (from neptune-client>=0.4.125->-r requirements.txt (line 9)) (7.1.2)\n",
            "Requirement already satisfied: PyJWT in /usr/local/lib/python3.7/dist-packages (from neptune-client>=0.4.125->-r requirements.txt (line 9)) (2.0.1)\n",
            "Requirement already satisfied: bravado in /usr/local/lib/python3.7/dist-packages (from neptune-client>=0.4.125->-r requirements.txt (line 9)) (11.0.2)\n",
            "Requirement already satisfied: oauthlib>=2.1.0 in /usr/local/lib/python3.7/dist-packages (from neptune-client>=0.4.125->-r requirements.txt (line 9)) (3.1.0)\n",
            "Requirement already satisfied: Pillow>=1.1.6 in /usr/local/lib/python3.7/dist-packages (from neptune-client>=0.4.125->-r requirements.txt (line 9)) (7.0.0)\n",
            "Requirement already satisfied: requests-oauthlib>=1.0.0 in /usr/local/lib/python3.7/dist-packages (from neptune-client>=0.4.125->-r requirements.txt (line 9)) (1.3.0)\n",
            "Requirement already satisfied: requests>=2.20.0 in /usr/local/lib/python3.7/dist-packages (from neptune-client>=0.4.125->-r requirements.txt (line 9)) (2.23.0)\n",
            "Requirement already satisfied: GitPython>=2.0.8 in /usr/local/lib/python3.7/dist-packages (from neptune-client>=0.4.125->-r requirements.txt (line 9)) (3.1.13)\n",
            "Requirement already satisfied: packaging in /usr/local/lib/python3.7/dist-packages (from neptune-client>=0.4.125->-r requirements.txt (line 9)) (20.9)\n",
            "Requirement already satisfied: typing-extensions in /usr/local/lib/python3.7/dist-packages (from torch>=1.5.0->-r requirements.txt (line 12)) (3.7.4.3)\n",
            "Requirement already satisfied: fsspec[http]>=0.8.1 in /usr/local/lib/python3.7/dist-packages (from pytorch_lightning>=1.0.5->-r requirements.txt (line 13)) (0.8.7)\n",
            "Requirement already satisfied: PyYAML!=5.4.*,>=5.1 in /usr/local/lib/python3.7/dist-packages (from pytorch_lightning>=1.0.5->-r requirements.txt (line 13)) (5.3.1)\n",
            "Requirement already satisfied: grpcio>=1.24.3 in /usr/local/lib/python3.7/dist-packages (from tensorboard>=2.4->-r requirements.txt (line 14)) (1.32.0)\n",
            "Requirement already satisfied: google-auth-oauthlib<0.5,>=0.4.1 in /usr/local/lib/python3.7/dist-packages (from tensorboard>=2.4->-r requirements.txt (line 14)) (0.4.2)\n",
            "Requirement already satisfied: tensorboard-plugin-wit>=1.6.0 in /usr/local/lib/python3.7/dist-packages (from tensorboard>=2.4->-r requirements.txt (line 14)) (1.8.0)\n",
            "Requirement already satisfied: markdown>=2.6.8 in /usr/local/lib/python3.7/dist-packages (from tensorboard>=2.4->-r requirements.txt (line 14)) (3.3.4)\n",
            "Requirement already satisfied: wheel>=0.26; python_version >= \"3\" in /usr/local/lib/python3.7/dist-packages (from tensorboard>=2.4->-r requirements.txt (line 14)) (0.36.2)\n",
            "Requirement already satisfied: setuptools>=41.0.0 in /usr/local/lib/python3.7/dist-packages (from tensorboard>=2.4->-r requirements.txt (line 14)) (53.0.0)\n",
            "Requirement already satisfied: absl-py>=0.4 in /usr/local/lib/python3.7/dist-packages (from tensorboard>=2.4->-r requirements.txt (line 14)) (0.10.0)\n",
            "Requirement already satisfied: google-auth<2,>=1.6.3 in /usr/local/lib/python3.7/dist-packages (from tensorboard>=2.4->-r requirements.txt (line 14)) (1.27.0)\n",
            "Requirement already satisfied: werkzeug>=0.11.15 in /usr/local/lib/python3.7/dist-packages (from tensorboard>=2.4->-r requirements.txt (line 14)) (1.0.1)\n",
            "Requirement already satisfied: regex!=2019.12.17 in /usr/local/lib/python3.7/dist-packages (from transformers==3.4.0->-r requirements.txt (line 16)) (2019.12.20)\n",
            "Requirement already satisfied: filelock in /usr/local/lib/python3.7/dist-packages (from transformers==3.4.0->-r requirements.txt (line 16)) (3.0.12)\n",
            "Requirement already satisfied: tokenizers==0.9.2 in /usr/local/lib/python3.7/dist-packages (from transformers==3.4.0->-r requirements.txt (line 16)) (0.9.2)\n",
            "Requirement already satisfied: sacremoses in /usr/local/lib/python3.7/dist-packages (from transformers==3.4.0->-r requirements.txt (line 16)) (0.0.43)\n",
            "Requirement already satisfied: sentencepiece!=0.1.92 in /usr/local/lib/python3.7/dist-packages (from transformers==3.4.0->-r requirements.txt (line 16)) (0.1.95)\n",
            "Requirement already satisfied: itsdangerous>=0.24 in /usr/local/lib/python3.7/dist-packages (from flask>=1.1.1->-r requirements.txt (line 23)) (1.1.0)\n",
            "Requirement already satisfied: Jinja2>=2.10.1 in /usr/local/lib/python3.7/dist-packages (from flask>=1.1.1->-r requirements.txt (line 23)) (2.11.3)\n",
            "Requirement already satisfied: pybind11>=2.2 in /usr/local/lib/python3.7/dist-packages (from fasttext>=0.9.1->-r requirements.txt (line 29)) (2.6.2)\n",
            "Requirement already satisfied: razdel in /usr/local/lib/python3.7/dist-packages (from slovnet==0.4.0->-r requirements.txt (line 30)) (0.5.0)\n",
            "Requirement already satisfied: navec in /usr/local/lib/python3.7/dist-packages (from slovnet==0.4.0->-r requirements.txt (line 30)) (0.10.0)\n",
            "Requirement already satisfied: dawg-python>=0.7.1 in /usr/local/lib/python3.7/dist-packages (from pymorphy2[fast]==0.9.1->-r requirements.txt (line 31)) (0.7.2)\n",
            "Requirement already satisfied: pymorphy2-dicts-ru<3.0,>=2.4 in /usr/local/lib/python3.7/dist-packages (from pymorphy2[fast]==0.9.1->-r requirements.txt (line 31)) (2.4.417127.4579844)\n",
            "Requirement already satisfied: docopt>=0.6 in /usr/local/lib/python3.7/dist-packages (from pymorphy2[fast]==0.9.1->-r requirements.txt (line 31)) (0.6.2)\n",
            "Requirement already satisfied: DAWG>=0.8; extra == \"fast\" in /usr/local/lib/python3.7/dist-packages (from pymorphy2[fast]==0.9.1->-r requirements.txt (line 31)) (0.8.0)\n",
            "Requirement already satisfied: jupyter-console in /usr/local/lib/python3.7/dist-packages (from jupyter>=1.0.0->-r requirements.txt (line 34)) (5.2.0)\n",
            "Requirement already satisfied: ipywidgets in /usr/local/lib/python3.7/dist-packages (from jupyter>=1.0.0->-r requirements.txt (line 34)) (7.6.3)\n",
            "Requirement already satisfied: notebook in /usr/local/lib/python3.7/dist-packages (from jupyter>=1.0.0->-r requirements.txt (line 34)) (5.3.1)\n",
            "Requirement already satisfied: ipykernel in /usr/local/lib/python3.7/dist-packages (from jupyter>=1.0.0->-r requirements.txt (line 34)) (4.10.1)\n",
            "Requirement already satisfied: nbconvert in /usr/local/lib/python3.7/dist-packages (from jupyter>=1.0.0->-r requirements.txt (line 34)) (5.6.1)\n",
            "Requirement already satisfied: qtconsole in /usr/local/lib/python3.7/dist-packages (from jupyter>=1.0.0->-r requirements.txt (line 34)) (5.0.2)\n",
            "Requirement already satisfied: intervaltree>=3 in /usr/local/lib/python3.7/dist-packages (from ipymarkup>=0.5.0->-r requirements.txt (line 35)) (3.1.0)\n",
            "Requirement already satisfied: pyinstrument-cext>=0.2.2 in /usr/local/lib/python3.7/dist-packages (from pyinstrument==3.2.0->-r requirements.txt (line 38)) (0.2.4)\n",
            "Requirement already satisfied: decorator>=4.3.0 in /usr/local/lib/python3.7/dist-packages (from networkx>=2.2->hyperopt>=0.2.5->-r requirements.txt (line 8)) (4.4.2)\n",
            "Requirement already satisfied: msgpack in /usr/local/lib/python3.7/dist-packages (from bravado->neptune-client>=0.4.125->-r requirements.txt (line 9)) (1.0.2)\n",
            "Requirement already satisfied: bravado-core>=5.16.1 in /usr/local/lib/python3.7/dist-packages (from bravado->neptune-client>=0.4.125->-r requirements.txt (line 9)) (5.17.0)\n",
            "Requirement already satisfied: monotonic in /usr/local/lib/python3.7/dist-packages (from bravado->neptune-client>=0.4.125->-r requirements.txt (line 9)) (1.5)\n",
            "Requirement already satisfied: simplejson in /usr/local/lib/python3.7/dist-packages (from bravado->neptune-client>=0.4.125->-r requirements.txt (line 9)) (3.17.2)\n",
            "Requirement already satisfied: urllib3!=1.25.0,!=1.25.1,<1.26,>=1.21.1 in /usr/local/lib/python3.7/dist-packages (from requests>=2.20.0->neptune-client>=0.4.125->-r requirements.txt (line 9)) (1.24.3)\n",
            "Requirement already satisfied: certifi>=2017.4.17 in /usr/local/lib/python3.7/dist-packages (from requests>=2.20.0->neptune-client>=0.4.125->-r requirements.txt (line 9)) (2020.12.5)\n",
            "Requirement already satisfied: idna<3,>=2.5 in /usr/local/lib/python3.7/dist-packages (from requests>=2.20.0->neptune-client>=0.4.125->-r requirements.txt (line 9)) (2.10)\n",
            "Requirement already satisfied: chardet<4,>=3.0.2 in /usr/local/lib/python3.7/dist-packages (from requests>=2.20.0->neptune-client>=0.4.125->-r requirements.txt (line 9)) (3.0.4)\n",
            "Requirement already satisfied: gitdb<5,>=4.0.1 in /usr/local/lib/python3.7/dist-packages (from GitPython>=2.0.8->neptune-client>=0.4.125->-r requirements.txt (line 9)) (4.0.5)\n",
            "Requirement already satisfied: pyparsing>=2.0.2 in /usr/local/lib/python3.7/dist-packages (from packaging->neptune-client>=0.4.125->-r requirements.txt (line 9)) (2.4.7)\n",
            "Requirement already satisfied: importlib-metadata; python_version < \"3.8\" in /usr/local/lib/python3.7/dist-packages (from fsspec[http]>=0.8.1->pytorch_lightning>=1.0.5->-r requirements.txt (line 13)) (3.7.0)\n",
            "Requirement already satisfied: aiohttp; extra == \"http\" in /usr/local/lib/python3.7/dist-packages (from fsspec[http]>=0.8.1->pytorch_lightning>=1.0.5->-r requirements.txt (line 13)) (3.7.4)\n",
            "Requirement already satisfied: rsa<5,>=3.1.4; python_version >= \"3.6\" in /usr/local/lib/python3.7/dist-packages (from google-auth<2,>=1.6.3->tensorboard>=2.4->-r requirements.txt (line 14)) (4.7.2)\n",
            "Requirement already satisfied: cachetools<5.0,>=2.0.0 in /usr/local/lib/python3.7/dist-packages (from google-auth<2,>=1.6.3->tensorboard>=2.4->-r requirements.txt (line 14)) (4.2.1)\n",
            "Requirement already satisfied: pyasn1-modules>=0.2.1 in /usr/local/lib/python3.7/dist-packages (from google-auth<2,>=1.6.3->tensorboard>=2.4->-r requirements.txt (line 14)) (0.2.8)\n",
            "Requirement already satisfied: MarkupSafe>=0.23 in /usr/local/lib/python3.7/dist-packages (from Jinja2>=2.10.1->flask>=1.1.1->-r requirements.txt (line 23)) (1.1.1)\n",
            "Requirement already satisfied: ipython in /usr/local/lib/python3.7/dist-packages (from jupyter-console->jupyter>=1.0.0->-r requirements.txt (line 34)) (5.5.0)\n",
            "Requirement already satisfied: prompt-toolkit<2.0.0,>=1.0.0 in /usr/local/lib/python3.7/dist-packages (from jupyter-console->jupyter>=1.0.0->-r requirements.txt (line 34)) (1.0.18)\n",
            "Requirement already satisfied: pygments in /usr/local/lib/python3.7/dist-packages (from jupyter-console->jupyter>=1.0.0->-r requirements.txt (line 34)) (2.6.1)\n",
            "Requirement already satisfied: jupyter-client in /usr/local/lib/python3.7/dist-packages (from jupyter-console->jupyter>=1.0.0->-r requirements.txt (line 34)) (5.3.5)\n",
            "Requirement already satisfied: jupyterlab-widgets>=1.0.0; python_version >= \"3.6\" in /usr/local/lib/python3.7/dist-packages (from ipywidgets->jupyter>=1.0.0->-r requirements.txt (line 34)) (1.0.0)\n",
            "Requirement already satisfied: traitlets>=4.3.1 in /usr/local/lib/python3.7/dist-packages (from ipywidgets->jupyter>=1.0.0->-r requirements.txt (line 34)) (5.0.5)\n",
            "Requirement already satisfied: nbformat>=4.2.0 in /usr/local/lib/python3.7/dist-packages (from ipywidgets->jupyter>=1.0.0->-r requirements.txt (line 34)) (5.1.2)\n",
            "Requirement already satisfied: widgetsnbextension~=3.5.0 in /usr/local/lib/python3.7/dist-packages (from ipywidgets->jupyter>=1.0.0->-r requirements.txt (line 34)) (3.5.1)\n",
            "Requirement already satisfied: terminado>=0.8.1 in /usr/local/lib/python3.7/dist-packages (from notebook->jupyter>=1.0.0->-r requirements.txt (line 34)) (0.9.2)\n",
            "Requirement already satisfied: ipython-genutils in /usr/local/lib/python3.7/dist-packages (from notebook->jupyter>=1.0.0->-r requirements.txt (line 34)) (0.2.0)\n",
            "Requirement already satisfied: jupyter-core>=4.4.0 in /usr/local/lib/python3.7/dist-packages (from notebook->jupyter>=1.0.0->-r requirements.txt (line 34)) (4.7.1)\n",
            "Requirement already satisfied: tornado>=4 in /usr/local/lib/python3.7/dist-packages (from notebook->jupyter>=1.0.0->-r requirements.txt (line 34)) (5.1.1)\n",
            "Requirement already satisfied: Send2Trash in /usr/local/lib/python3.7/dist-packages (from notebook->jupyter>=1.0.0->-r requirements.txt (line 34)) (1.5.0)\n",
            "Requirement already satisfied: entrypoints>=0.2.2 in /usr/local/lib/python3.7/dist-packages (from nbconvert->jupyter>=1.0.0->-r requirements.txt (line 34)) (0.3)\n",
            "Requirement already satisfied: testpath in /usr/local/lib/python3.7/dist-packages (from nbconvert->jupyter>=1.0.0->-r requirements.txt (line 34)) (0.4.4)\n",
            "Requirement already satisfied: mistune<2,>=0.8.1 in /usr/local/lib/python3.7/dist-packages (from nbconvert->jupyter>=1.0.0->-r requirements.txt (line 34)) (0.8.4)\n",
            "Requirement already satisfied: pandocfilters>=1.4.1 in /usr/local/lib/python3.7/dist-packages (from nbconvert->jupyter>=1.0.0->-r requirements.txt (line 34)) (1.4.3)\n",
            "Requirement already satisfied: defusedxml in /usr/local/lib/python3.7/dist-packages (from nbconvert->jupyter>=1.0.0->-r requirements.txt (line 34)) (0.6.0)\n",
            "Requirement already satisfied: bleach in /usr/local/lib/python3.7/dist-packages (from nbconvert->jupyter>=1.0.0->-r requirements.txt (line 34)) (3.3.0)\n",
            "Requirement already satisfied: pyzmq>=17.1 in /usr/local/lib/python3.7/dist-packages (from qtconsole->jupyter>=1.0.0->-r requirements.txt (line 34)) (22.0.3)\n",
            "Requirement already satisfied: qtpy in /usr/local/lib/python3.7/dist-packages (from qtconsole->jupyter>=1.0.0->-r requirements.txt (line 34)) (1.9.0)\n",
            "Requirement already satisfied: sortedcontainers<3.0,>=2.0 in /usr/local/lib/python3.7/dist-packages (from intervaltree>=3->ipymarkup>=0.5.0->-r requirements.txt (line 35)) (2.3.0)\n",
            "Requirement already satisfied: swagger-spec-validator>=2.0.1 in /usr/local/lib/python3.7/dist-packages (from bravado-core>=5.16.1->bravado->neptune-client>=0.4.125->-r requirements.txt (line 9)) (2.7.3)\n",
            "Requirement already satisfied: jsonschema[format]>=2.5.1 in /usr/local/lib/python3.7/dist-packages (from bravado-core>=5.16.1->bravado->neptune-client>=0.4.125->-r requirements.txt (line 9)) (2.6.0)\n",
            "Requirement already satisfied: jsonref in /usr/local/lib/python3.7/dist-packages (from bravado-core>=5.16.1->bravado->neptune-client>=0.4.125->-r requirements.txt (line 9)) (0.2)\n",
            "Requirement already satisfied: smmap<4,>=3.0.1 in /usr/local/lib/python3.7/dist-packages (from gitdb<5,>=4.0.1->GitPython>=2.0.8->neptune-client>=0.4.125->-r requirements.txt (line 9)) (3.0.5)\n",
            "Requirement already satisfied: zipp>=0.5 in /usr/local/lib/python3.7/dist-packages (from importlib-metadata; python_version < \"3.8\"->fsspec[http]>=0.8.1->pytorch_lightning>=1.0.5->-r requirements.txt (line 13)) (3.4.0)\n",
            "Requirement already satisfied: async-timeout<4.0,>=3.0 in /usr/local/lib/python3.7/dist-packages (from aiohttp; extra == \"http\"->fsspec[http]>=0.8.1->pytorch_lightning>=1.0.5->-r requirements.txt (line 13)) (3.0.1)\n",
            "Requirement already satisfied: multidict<7.0,>=4.5 in /usr/local/lib/python3.7/dist-packages (from aiohttp; extra == \"http\"->fsspec[http]>=0.8.1->pytorch_lightning>=1.0.5->-r requirements.txt (line 13)) (5.1.0)\n",
            "Requirement already satisfied: yarl<2.0,>=1.0 in /usr/local/lib/python3.7/dist-packages (from aiohttp; extra == \"http\"->fsspec[http]>=0.8.1->pytorch_lightning>=1.0.5->-r requirements.txt (line 13)) (1.6.3)\n",
            "Requirement already satisfied: attrs>=17.3.0 in /usr/local/lib/python3.7/dist-packages (from aiohttp; extra == \"http\"->fsspec[http]>=0.8.1->pytorch_lightning>=1.0.5->-r requirements.txt (line 13)) (20.3.0)\n",
            "Requirement already satisfied: pyasn1>=0.1.3 in /usr/local/lib/python3.7/dist-packages (from rsa<5,>=3.1.4; python_version >= \"3.6\"->google-auth<2,>=1.6.3->tensorboard>=2.4->-r requirements.txt (line 14)) (0.4.8)\n",
            "Requirement already satisfied: pexpect; sys_platform != \"win32\" in /usr/local/lib/python3.7/dist-packages (from ipython->jupyter-console->jupyter>=1.0.0->-r requirements.txt (line 34)) (4.8.0)\n",
            "Requirement already satisfied: pickleshare in /usr/local/lib/python3.7/dist-packages (from ipython->jupyter-console->jupyter>=1.0.0->-r requirements.txt (line 34)) (0.7.5)\n",
            "Requirement already satisfied: simplegeneric>0.8 in /usr/local/lib/python3.7/dist-packages (from ipython->jupyter-console->jupyter>=1.0.0->-r requirements.txt (line 34)) (0.8.1)\n",
            "Requirement already satisfied: wcwidth in /usr/local/lib/python3.7/dist-packages (from prompt-toolkit<2.0.0,>=1.0.0->jupyter-console->jupyter>=1.0.0->-r requirements.txt (line 34)) (0.2.5)\n",
            "Requirement already satisfied: ptyprocess; os_name != \"nt\" in /usr/local/lib/python3.7/dist-packages (from terminado>=0.8.1->notebook->jupyter>=1.0.0->-r requirements.txt (line 34)) (0.7.0)\n",
            "Requirement already satisfied: webencodings in /usr/local/lib/python3.7/dist-packages (from bleach->nbconvert->jupyter>=1.0.0->-r requirements.txt (line 34)) (0.5.1)\n",
            "Requirement already satisfied: rfc3987; extra == \"format\" in /usr/local/lib/python3.7/dist-packages (from jsonschema[format]>=2.5.1->bravado-core>=5.16.1->bravado->neptune-client>=0.4.125->-r requirements.txt (line 9)) (1.3.8)\n",
            "Requirement already satisfied: webcolors; extra == \"format\" in /usr/local/lib/python3.7/dist-packages (from jsonschema[format]>=2.5.1->bravado-core>=5.16.1->bravado->neptune-client>=0.4.125->-r requirements.txt (line 9)) (1.11.1)\n",
            "Requirement already satisfied: strict-rfc3339; extra == \"format\" in /usr/local/lib/python3.7/dist-packages (from jsonschema[format]>=2.5.1->bravado-core>=5.16.1->bravado->neptune-client>=0.4.125->-r requirements.txt (line 9)) (0.7)\n",
            "Requirement already satisfied: pip in /usr/local/lib/python3.7/dist-packages (19.3.1)\n",
            "Requirement already satisfied: install in /usr/local/lib/python3.7/dist-packages (1.3.4)\n",
            "Requirement already satisfied: sentence-transformers in /usr/local/lib/python3.7/dist-packages (0.4.1.2)\n",
            "Requirement already satisfied: torch>=1.6.0 in /usr/local/lib/python3.7/dist-packages (from sentence-transformers) (1.7.1+cu101)\n",
            "Requirement already satisfied: sentencepiece in /usr/local/lib/python3.7/dist-packages (from sentence-transformers) (0.1.95)\n",
            "Requirement already satisfied: nltk in /usr/local/lib/python3.7/dist-packages (from sentence-transformers) (3.2.5)\n",
            "Requirement already satisfied: transformers<5.0.0,>=3.1.0 in /usr/local/lib/python3.7/dist-packages (from sentence-transformers) (3.4.0)\n",
            "Requirement already satisfied: tqdm in /usr/local/lib/python3.7/dist-packages (from sentence-transformers) (4.41.1)\n",
            "Requirement already satisfied: scipy in /usr/local/lib/python3.7/dist-packages (from sentence-transformers) (1.4.1)\n",
            "Requirement already satisfied: scikit-learn in /usr/local/lib/python3.7/dist-packages (from sentence-transformers) (0.22.2.post1)\n",
            "Requirement already satisfied: numpy in /usr/local/lib/python3.7/dist-packages (from sentence-transformers) (1.18.5)\n",
            "Requirement already satisfied: typing-extensions in /usr/local/lib/python3.7/dist-packages (from torch>=1.6.0->sentence-transformers) (3.7.4.3)\n",
            "Requirement already satisfied: six in /usr/local/lib/python3.7/dist-packages (from nltk->sentence-transformers) (1.15.0)\n",
            "Requirement already satisfied: packaging in /usr/local/lib/python3.7/dist-packages (from transformers<5.0.0,>=3.1.0->sentence-transformers) (20.9)\n",
            "Requirement already satisfied: regex!=2019.12.17 in /usr/local/lib/python3.7/dist-packages (from transformers<5.0.0,>=3.1.0->sentence-transformers) (2019.12.20)\n",
            "Requirement already satisfied: sacremoses in /usr/local/lib/python3.7/dist-packages (from transformers<5.0.0,>=3.1.0->sentence-transformers) (0.0.43)\n",
            "Requirement already satisfied: filelock in /usr/local/lib/python3.7/dist-packages (from transformers<5.0.0,>=3.1.0->sentence-transformers) (3.0.12)\n",
            "Requirement already satisfied: requests in /usr/local/lib/python3.7/dist-packages (from transformers<5.0.0,>=3.1.0->sentence-transformers) (2.23.0)\n",
            "Requirement already satisfied: tokenizers==0.9.2 in /usr/local/lib/python3.7/dist-packages (from transformers<5.0.0,>=3.1.0->sentence-transformers) (0.9.2)\n",
            "Requirement already satisfied: protobuf in /usr/local/lib/python3.7/dist-packages (from transformers<5.0.0,>=3.1.0->sentence-transformers) (3.12.4)\n",
            "Requirement already satisfied: joblib>=0.11 in /usr/local/lib/python3.7/dist-packages (from scikit-learn->sentence-transformers) (1.0.1)\n",
            "Requirement already satisfied: pyparsing>=2.0.2 in /usr/local/lib/python3.7/dist-packages (from packaging->transformers<5.0.0,>=3.1.0->sentence-transformers) (2.4.7)\n",
            "Requirement already satisfied: click in /usr/local/lib/python3.7/dist-packages (from sacremoses->transformers<5.0.0,>=3.1.0->sentence-transformers) (7.1.2)\n",
            "Requirement already satisfied: certifi>=2017.4.17 in /usr/local/lib/python3.7/dist-packages (from requests->transformers<5.0.0,>=3.1.0->sentence-transformers) (2020.12.5)\n",
            "Requirement already satisfied: urllib3!=1.25.0,!=1.25.1,<1.26,>=1.21.1 in /usr/local/lib/python3.7/dist-packages (from requests->transformers<5.0.0,>=3.1.0->sentence-transformers) (1.24.3)\n",
            "Requirement already satisfied: idna<3,>=2.5 in /usr/local/lib/python3.7/dist-packages (from requests->transformers<5.0.0,>=3.1.0->sentence-transformers) (2.10)\n",
            "Requirement already satisfied: chardet<4,>=3.0.2 in /usr/local/lib/python3.7/dist-packages (from requests->transformers<5.0.0,>=3.1.0->sentence-transformers) (3.0.4)\n",
            "Requirement already satisfied: setuptools in /usr/local/lib/python3.7/dist-packages (from protobuf->transformers<5.0.0,>=3.1.0->sentence-transformers) (53.0.0)\n"
          ],
          "name": "stdout"
        }
      ]
    },
    {
      "cell_type": "code",
      "metadata": {
        "colab": {
          "base_uri": "https://localhost:8080/"
        },
        "id": "oS89D_NM4r8h",
        "outputId": "048561e1-94cd-4398-bc21-3db537ac673a"
      },
      "source": [
        "!mkdir models/lang_detect\r\n",
        "!mkdir models/cat_detect\r\n",
        "!wget https://www.dropbox.com/s/hoapmnvqlknmu6v/lang_detect_v10.ftz -O models/lang_detect/lang_detect_v10.ftz\r\n",
        "!wget https://www.dropbox.com/s/23x35wuet280eh6/ru_cat_v5.ftz -O models/cat_detect/ru_cat_v5.ftz"
      ],
      "execution_count": 4,
      "outputs": [
        {
          "output_type": "stream",
          "text": [
            "--2021-02-27 19:06:45--  https://www.dropbox.com/s/hoapmnvqlknmu6v/lang_detect_v10.ftz\n",
            "Resolving www.dropbox.com (www.dropbox.com)... 162.125.5.18, 2620:100:601d:18::a27d:512\n",
            "Connecting to www.dropbox.com (www.dropbox.com)|162.125.5.18|:443... connected.\n",
            "HTTP request sent, awaiting response... 301 Moved Permanently\n",
            "Location: /s/raw/hoapmnvqlknmu6v/lang_detect_v10.ftz [following]\n",
            "--2021-02-27 19:06:46--  https://www.dropbox.com/s/raw/hoapmnvqlknmu6v/lang_detect_v10.ftz\n",
            "Reusing existing connection to www.dropbox.com:443.\n",
            "HTTP request sent, awaiting response... 302 Found\n",
            "Location: https://uc36feee1a016d62199751e5ce85.dl.dropboxusercontent.com/cd/0/inline/BJyZHgWLXsSyxb1rcji44J7nmoDQ2krWy-6sSegNlDJQCN0uqCWxRObZoX-Fd0mlXMgT9r2sFar5zDwXces3so6RPWbpEMncuc_x6E6YyDlbq7zT8njRBDymBDqtrtMPnuQ/file# [following]\n",
            "--2021-02-27 19:06:46--  https://uc36feee1a016d62199751e5ce85.dl.dropboxusercontent.com/cd/0/inline/BJyZHgWLXsSyxb1rcji44J7nmoDQ2krWy-6sSegNlDJQCN0uqCWxRObZoX-Fd0mlXMgT9r2sFar5zDwXces3so6RPWbpEMncuc_x6E6YyDlbq7zT8njRBDymBDqtrtMPnuQ/file\n",
            "Resolving uc36feee1a016d62199751e5ce85.dl.dropboxusercontent.com (uc36feee1a016d62199751e5ce85.dl.dropboxusercontent.com)... 162.125.5.15, 2620:100:601d:15::a27d:50f\n",
            "Connecting to uc36feee1a016d62199751e5ce85.dl.dropboxusercontent.com (uc36feee1a016d62199751e5ce85.dl.dropboxusercontent.com)|162.125.5.15|:443... connected.\n",
            "HTTP request sent, awaiting response... 302 Found\n",
            "Location: /cd/0/inline2/BJzVlDTk24ndbrESWs0UnN26bERZYH2jEpTvtCwkQUk4zN-_u5A-30x-dcPdwbIYABtgZIyDNb-SDSaaD5qlJxa0XWtbRgfMJTXTXHreMafqLZV9QQn996G_S4U1wgJkRDqnC_lpGaGxSnpjTmN5C5nMLcRqZRrlEdJvhEk36GIXsyBWdf-poXZRGlbbtud_jZOszBlwVHRtQij8kMt0iOt4A0GhbQsLCh-l-s8ce8vrBrk04KKCxdXTrf0aBrH3XoZ2a436QGooomvWd-g1UuHfAKIMPpd6kr-VY8hWne5q6jinz-OqYUDPmi8UjYHjGreupe0tigUbw0F_GtgZ84mv2iUhq5YeWymXlW7fasfELA/file [following]\n",
            "--2021-02-27 19:06:47--  https://uc36feee1a016d62199751e5ce85.dl.dropboxusercontent.com/cd/0/inline2/BJzVlDTk24ndbrESWs0UnN26bERZYH2jEpTvtCwkQUk4zN-_u5A-30x-dcPdwbIYABtgZIyDNb-SDSaaD5qlJxa0XWtbRgfMJTXTXHreMafqLZV9QQn996G_S4U1wgJkRDqnC_lpGaGxSnpjTmN5C5nMLcRqZRrlEdJvhEk36GIXsyBWdf-poXZRGlbbtud_jZOszBlwVHRtQij8kMt0iOt4A0GhbQsLCh-l-s8ce8vrBrk04KKCxdXTrf0aBrH3XoZ2a436QGooomvWd-g1UuHfAKIMPpd6kr-VY8hWne5q6jinz-OqYUDPmi8UjYHjGreupe0tigUbw0F_GtgZ84mv2iUhq5YeWymXlW7fasfELA/file\n",
            "Reusing existing connection to uc36feee1a016d62199751e5ce85.dl.dropboxusercontent.com:443.\n",
            "HTTP request sent, awaiting response... 200 OK\n",
            "Length: 1267083 (1.2M) [application/octet-stream]\n",
            "Saving to: ‘models/lang_detect/lang_detect_v10.ftz’\n",
            "\n",
            "models/lang_detect/ 100%[===================>]   1.21M  7.97MB/s    in 0.2s    \n",
            "\n",
            "2021-02-27 19:06:47 (7.97 MB/s) - ‘models/lang_detect/lang_detect_v10.ftz’ saved [1267083/1267083]\n",
            "\n",
            "--2021-02-27 19:06:47--  https://www.dropbox.com/s/23x35wuet280eh6/ru_cat_v5.ftz\n",
            "Resolving www.dropbox.com (www.dropbox.com)... 162.125.5.18, 2620:100:601d:18::a27d:512\n",
            "Connecting to www.dropbox.com (www.dropbox.com)|162.125.5.18|:443... connected.\n",
            "HTTP request sent, awaiting response... 301 Moved Permanently\n",
            "Location: /s/raw/23x35wuet280eh6/ru_cat_v5.ftz [following]\n",
            "--2021-02-27 19:06:47--  https://www.dropbox.com/s/raw/23x35wuet280eh6/ru_cat_v5.ftz\n",
            "Reusing existing connection to www.dropbox.com:443.\n",
            "HTTP request sent, awaiting response... 302 Found\n",
            "Location: https://uc787a97972b6776ee917b1bed89.dl.dropboxusercontent.com/cd/0/inline/BJzVDGVLHRk4qDAn6ePvuO7JeMvGvaYn7S2Q9tizV6UvrrmjYyexKNv58GsN3FfYc0Tm8ElDPACbdbZVc1a1VTDiGvD6LmUlMcp9mpvRKcoHH-CeCzE4NWb0amp_Y_iKtBA/file# [following]\n",
            "--2021-02-27 19:06:48--  https://uc787a97972b6776ee917b1bed89.dl.dropboxusercontent.com/cd/0/inline/BJzVDGVLHRk4qDAn6ePvuO7JeMvGvaYn7S2Q9tizV6UvrrmjYyexKNv58GsN3FfYc0Tm8ElDPACbdbZVc1a1VTDiGvD6LmUlMcp9mpvRKcoHH-CeCzE4NWb0amp_Y_iKtBA/file\n",
            "Resolving uc787a97972b6776ee917b1bed89.dl.dropboxusercontent.com (uc787a97972b6776ee917b1bed89.dl.dropboxusercontent.com)... 162.125.5.15, 2620:100:601d:15::a27d:50f\n",
            "Connecting to uc787a97972b6776ee917b1bed89.dl.dropboxusercontent.com (uc787a97972b6776ee917b1bed89.dl.dropboxusercontent.com)|162.125.5.15|:443... connected.\n",
            "HTTP request sent, awaiting response... 302 Found\n",
            "Location: /cd/0/inline2/BJzD3hfXlkdMAiW_gMzLe9f6E1x_qN38xjSEpzQXz7JoqQFaOfHn26qZlMAYuunTp8K9EHOA-nkhPAMTbBN50NdUfKfm7sTVSm2JUnXFKEVLTVNhmVmtbHiPNqWAjGq_RqnVJspIwmaCQGbh_ToN9ilTlZ_tHW914vHa8NzJps-hKFbexvr1bmkcIE441UnnaTcFH-HmdfSvwUuxP9VkOVo5qErK39hLdlALUNCP1VhwLYGbPpQ-1Ylr5PHohbkHhexbsOjKbfFR2hvQHcaiAITuoO4O1kh93ZsfjhE9Ee412oI-xWddDu4WXJsqzQgXPMzk3O3Sqwcug9SUvDcqNnKdrKJK2mys4fKFCmd91tMH4A/file [following]\n",
            "--2021-02-27 19:06:49--  https://uc787a97972b6776ee917b1bed89.dl.dropboxusercontent.com/cd/0/inline2/BJzD3hfXlkdMAiW_gMzLe9f6E1x_qN38xjSEpzQXz7JoqQFaOfHn26qZlMAYuunTp8K9EHOA-nkhPAMTbBN50NdUfKfm7sTVSm2JUnXFKEVLTVNhmVmtbHiPNqWAjGq_RqnVJspIwmaCQGbh_ToN9ilTlZ_tHW914vHa8NzJps-hKFbexvr1bmkcIE441UnnaTcFH-HmdfSvwUuxP9VkOVo5qErK39hLdlALUNCP1VhwLYGbPpQ-1Ylr5PHohbkHhexbsOjKbfFR2hvQHcaiAITuoO4O1kh93ZsfjhE9Ee412oI-xWddDu4WXJsqzQgXPMzk3O3Sqwcug9SUvDcqNnKdrKJK2mys4fKFCmd91tMH4A/file\n",
            "Reusing existing connection to uc787a97972b6776ee917b1bed89.dl.dropboxusercontent.com:443.\n",
            "HTTP request sent, awaiting response... 200 OK\n",
            "Length: 103892031 (99M) [application/octet-stream]\n",
            "Saving to: ‘models/cat_detect/ru_cat_v5.ftz’\n",
            "\n",
            "models/cat_detect/r 100%[===================>]  99.08M  46.9MB/s    in 2.1s    \n",
            "\n",
            "2021-02-27 19:06:51 (46.9 MB/s) - ‘models/cat_detect/ru_cat_v5.ftz’ saved [103892031/103892031]\n",
            "\n"
          ],
          "name": "stdout"
        }
      ]
    },
    {
      "cell_type": "code",
      "metadata": {
        "colab": {
          "base_uri": "https://localhost:8080/"
        },
        "id": "IkWaqvA54tIy",
        "outputId": "4ed0f7bc-2f30-4892-e764-af14de784095"
      },
      "source": [
        "# May 25 (training)\r\n",
        "!rm -rf data\r\n",
        "!mkdir -p data\r\n",
        "!cd data && wget https://data-static.usercontent.dev/DataClusteringDataset0525.tar.gz -O - | tar -xz && cd ../"
      ],
      "execution_count": 5,
      "outputs": [
        {
          "output_type": "stream",
          "text": [
            "--2021-02-27 19:06:59--  https://data-static.usercontent.dev/DataClusteringDataset0525.tar.gz\n",
            "Resolving data-static.usercontent.dev (data-static.usercontent.dev)... 178.128.255.27\n",
            "Connecting to data-static.usercontent.dev (data-static.usercontent.dev)|178.128.255.27|:443... connected.\n",
            "HTTP request sent, awaiting response... 200 OK\n",
            "Length: 145541247 (139M) [application/octet-stream]\n",
            "Saving to: ‘STDOUT’\n",
            "\n",
            "-                   100%[===================>] 138.80M  16.6MB/s    in 8.6s    \n",
            "\n",
            "2021-02-27 19:07:08 (16.1 MB/s) - written to stdout [145541247/145541247]\n",
            "\n"
          ],
          "name": "stdout"
        }
      ]
    },
    {
      "cell_type": "code",
      "metadata": {
        "id": "qYr0O_PJ40wu",
        "colab": {
          "base_uri": "https://localhost:8080/"
        },
        "outputId": "50f141ce-48c9-4f1f-e00f-15d96f09ff5d"
      },
      "source": [
        "%%writefile configs/cleaner.jsonnet\r\n",
        "{\r\n",
        "    \"lang_detect_model_path\": \"models/lang_detect/lang_detect_v10.ftz\",\r\n",
        "    \"cat_detect_model_path\": \"models/cat_detect/ru_cat_v5.ftz\",\r\n",
        "    \"is_lower\": true,\r\n",
        "    \"is_russian_only\": true,\r\n",
        "    \"is_news_only\": true\r\n",
        "}"
      ],
      "execution_count": 6,
      "outputs": [
        {
          "output_type": "stream",
          "text": [
            "Overwriting configs/cleaner.jsonnet\n"
          ],
          "name": "stdout"
        }
      ]
    },
    {
      "cell_type": "code",
      "metadata": {
        "id": "7JOPf8ve47uN",
        "colab": {
          "base_uri": "https://localhost:8080/"
        },
        "outputId": "35583086-27db-4ac5-ef9d-f0d051bfec65"
      },
      "source": [
        "!rm -f 0525_parsed.db\r\n",
        "!python3 -m purano.run_parse --inputs \"data/20200525\" --output-file 0525_parsed.db --fmt html --cleaner-config configs/cleaner.jsonnet"
      ],
      "execution_count": 7,
      "outputs": [
        {
          "output_type": "stream",
          "text": [
            "Warning : `load_model` does not return WordVectorModel or SupervisedModel any more, but a `FastText` object which is very similar.\n",
            "Warning : `load_model` does not return WordVectorModel or SupervisedModel any more, but a `FastText` object which is very similar.\n",
            "Parsed 10000 documents\n",
            "Parsed 20000 documents\n",
            "Parsed 30000 documents\n",
            "Parsed 40000 documents\n",
            "Parsed 50000 documents\n",
            "Parsed 60000 documents\n",
            "Parsed 70000 documents\n",
            "Parsed 80000 documents\n",
            "19380 will be saved\n",
            "<class 'pandas.core.frame.DataFrame'>\n",
            "Int64Index: 19380 entries, 3112 to 7997\n",
            "Data columns (total 8 columns):\n",
            " #   Column         Non-Null Count  Dtype                    \n",
            "---  ------         --------------  -----                    \n",
            " 0   url            19380 non-null  object                   \n",
            " 1   host           19380 non-null  object                   \n",
            " 2   title          19380 non-null  object                   \n",
            " 3   text           19380 non-null  object                   \n",
            " 4   date           19380 non-null  datetime64[ns, tzlocal()]\n",
            " 5   patched_title  19380 non-null  object                   \n",
            " 6   patched_text   19380 non-null  object                   \n",
            " 7   category       19380 non-null  object                   \n",
            "dtypes: datetime64[ns, tzlocal()](1), object(7)\n",
            "memory usage: 1.3+ MB\n",
            "None\n",
            "                                                    url  ...    category\n",
            "3112         https://www.business-gazeta.ru/news/469715  ...     society\n",
            "3931  https://mordoviatv.ru/preparat-ot-koronavirusa...  ...     science\n",
            "3930  https://www.ixbt.com/news/2020/05/25/android-1...  ...  technology\n",
            "3929  https://vestikavkaza.ru/news/vezd-v-dagestan-i...  ...     society\n",
            "3928                 https://e-kazan.ru/news/show/45301  ...     society\n",
            "\n",
            "[5 rows x 8 columns]\n"
          ],
          "name": "stdout"
        }
      ]
    },
    {
      "cell_type": "code",
      "metadata": {
        "id": "7TNCF75W6PXv"
      },
      "source": [
        "from sqlalchemy import create_engine\r\n",
        "from sqlalchemy.orm import sessionmaker\r\n",
        "\r\n",
        "from purano.models import Document\r\n",
        "\r\n",
        "def parse_db(file_name):\r\n",
        "    db_engine = \"sqlite:///{}\".format(file_name)\r\n",
        "    engine = create_engine(db_engine)\r\n",
        "    Session = sessionmaker(bind=engine)\r\n",
        "    session = Session()\r\n",
        "    query = session.query(Document)\r\n",
        "    docs = query.all()\r\n",
        "    records = []\r\n",
        "    for doc in docs:\r\n",
        "        records.append({\r\n",
        "            \"title\": doc.title,\r\n",
        "            \"text\": doc.text,\r\n",
        "            \"url\": doc.url,\r\n",
        "            \"host\": doc.host,\r\n",
        "            \"timestamp\": doc.date,\r\n",
        "            \"patched_title\": doc.patched_title,\r\n",
        "            \"patched_text\": doc.patched_text\r\n",
        "        })\r\n",
        "    return records\r\n",
        "\r\n",
        "records = parse_db(\"0525_parsed.db\")\r\n"
      ],
      "execution_count": 17,
      "outputs": []
    },
    {
      "cell_type": "code",
      "metadata": {
        "colab": {
          "base_uri": "https://localhost:8080/"
        },
        "id": "szdQfF9U608L",
        "outputId": "1fb43d38-d000-423a-822d-96c5b80b8a35"
      },
      "source": [
        "# Clustering training markup\r\n",
        "!wget https://www.dropbox.com/s/8lu6dw8zcrn840j/ru_clustering_0525_urls.tsv"
      ],
      "execution_count": 9,
      "outputs": [
        {
          "output_type": "stream",
          "text": [
            "--2021-02-27 19:09:09--  https://www.dropbox.com/s/8lu6dw8zcrn840j/ru_clustering_0525_urls.tsv\n",
            "Resolving www.dropbox.com (www.dropbox.com)... 162.125.5.18, 2620:100:601d:18::a27d:512\n",
            "Connecting to www.dropbox.com (www.dropbox.com)|162.125.5.18|:443... connected.\n",
            "HTTP request sent, awaiting response... 301 Moved Permanently\n",
            "Location: /s/raw/8lu6dw8zcrn840j/ru_clustering_0525_urls.tsv [following]\n",
            "--2021-02-27 19:09:09--  https://www.dropbox.com/s/raw/8lu6dw8zcrn840j/ru_clustering_0525_urls.tsv\n",
            "Reusing existing connection to www.dropbox.com:443.\n",
            "HTTP request sent, awaiting response... 302 Found\n",
            "Location: https://uc67ceb7a929042a32efc1811e78.dl.dropboxusercontent.com/cd/0/inline/BJw2fe8OYXpTuFWYZlsuymf6JpkwSVUZHHRejnn7qRYbMlY7rvQtUfJZLcET5_xz3z_ki1ZJVnCbL7j4meCTtT7B8c1iMOdlp8plD_PyK_6t_WSF0bx-XdDeoHamDXSY6Vk/file# [following]\n",
            "--2021-02-27 19:09:10--  https://uc67ceb7a929042a32efc1811e78.dl.dropboxusercontent.com/cd/0/inline/BJw2fe8OYXpTuFWYZlsuymf6JpkwSVUZHHRejnn7qRYbMlY7rvQtUfJZLcET5_xz3z_ki1ZJVnCbL7j4meCTtT7B8c1iMOdlp8plD_PyK_6t_WSF0bx-XdDeoHamDXSY6Vk/file\n",
            "Resolving uc67ceb7a929042a32efc1811e78.dl.dropboxusercontent.com (uc67ceb7a929042a32efc1811e78.dl.dropboxusercontent.com)... 162.125.5.15, 2620:100:601d:15::a27d:50f\n",
            "Connecting to uc67ceb7a929042a32efc1811e78.dl.dropboxusercontent.com (uc67ceb7a929042a32efc1811e78.dl.dropboxusercontent.com)|162.125.5.15|:443... connected.\n",
            "HTTP request sent, awaiting response... 200 OK\n",
            "Length: 2522689 (2.4M) [text/plain]\n",
            "Saving to: ‘ru_clustering_0525_urls.tsv’\n",
            "\n",
            "ru_clustering_0525_ 100%[===================>]   2.41M  13.3MB/s    in 0.2s    \n",
            "\n",
            "2021-02-27 19:09:11 (13.3 MB/s) - ‘ru_clustering_0525_urls.tsv’ saved [2522689/2522689]\n",
            "\n"
          ],
          "name": "stdout"
        }
      ]
    },
    {
      "cell_type": "markdown",
      "metadata": {
        "id": "5pgejON07HjD"
      },
      "source": [
        "# Evaluation\r\n"
      ]
    },
    {
      "cell_type": "code",
      "metadata": {
        "id": "L9Jm6vDd7OWi"
      },
      "source": [
        "import random\r\n",
        "from purano.io import read_markup_tsv\r\n",
        "from torch.utils.data import Dataset, DataLoader\r\n",
        "\r\n",
        "class CustomDataset(Dataset):\r\n",
        "\r\n",
        "    def __init__(self, x, y):\r\n",
        "        self.len = len(x)\r\n",
        "        self.data_x = x\r\n",
        "        self.data_y = y\r\n",
        "    \r\n",
        "    def __getitem__(self, index):\r\n",
        "        return (self.data_x[index], self.data_y[index])\r\n",
        "    \r\n",
        "    def __len__(self):\r\n",
        "        return self.len\r\n",
        "\r\n",
        "\r\n",
        "#Выбираем только \"OK\" разметки и делим данные на train/test\r\n",
        "def pick_ok_samples(markup, train_percent=0.85):\r\n",
        "    temp = []\r\n",
        "    for mrkp in markup:\r\n",
        "      if mrkp['quality'] == 'OK':\r\n",
        "        temp.append(mrkp)\r\n",
        "    \r\n",
        "    count_samples = len(temp)\r\n",
        "    shuffled_ids = list(range(count_samples))\r\n",
        "    random.shuffle(shuffled_ids)\r\n",
        "    train_ids = round(count_samples * train_percent)\r\n",
        "\r\n",
        "    train_markup, test_markup = [], []\r\n",
        "\r\n",
        "    for i, id in enumerate(shuffled_ids):\r\n",
        "      if i < train_ids:\r\n",
        "        train_markup.append(temp[id])\r\n",
        "      else:\r\n",
        "        test_markup.append(temp[id])\r\n",
        "  \r\n",
        "    return train_markup, test_markup\r\n",
        "\r\n",
        "\r\n",
        "def get_train_data(markup, records):\r\n",
        "    input_samples, pos_samples = [], []\r\n",
        "\r\n",
        "    for mrkp in markup:\r\n",
        "        first_url, second_url, quality = mrkp.values()\r\n",
        "        if quality == 'OK':\r\n",
        "            input_samples.append(url2record[first_url]['title'] + ' ' + url2record[first_url]['text'])\r\n",
        "            pos_samples.append(url2record[second_url]['title'] + ' ' + url2record[second_url]['text'])\r\n",
        "    \r\n",
        "    return input_samples, pos_samples\r\n",
        "\r\n",
        "def get_test_records(markup, records):\r\n",
        "    test_records = []\r\n",
        "    for record in records:\r\n",
        "      for mrkp in markup:\r\n",
        "        first_url, second_url, quality = mrkp.values()\r\n",
        "        if record['url'] == first_url or record['url'] == second_url:\r\n",
        "            test_records.append(record)\r\n",
        "    \r\n",
        "    return test_records\r\n",
        "\r\n",
        "\r\n",
        "url2record = dict()\r\n",
        "\r\n",
        "for i, record in enumerate(records):\r\n",
        "    url2record[record[\"url\"]] = record\r\n",
        "\r\n",
        "\r\n",
        "markup = read_markup_tsv(\"ru_clustering_0525_urls.tsv\")\r\n",
        "train_markup, test_markup = pick_ok_samples(markup)\r\n",
        "input_samples, pos_samples = get_train_data(train_markup, records)\r\n",
        "test_records = get_test_records(test_markup, records)\r\n"
      ],
      "execution_count": 41,
      "outputs": []
    },
    {
      "cell_type": "code",
      "metadata": {
        "id": "vhz7RV5_7Zdi"
      },
      "source": [
        "from collections import Counter\r\n",
        "from statistics import median, mean\r\n",
        "from sklearn.cluster import AgglomerativeClustering\r\n",
        "from purano.clusterer.metrics import calc_metrics\r\n",
        "\r\n",
        "def get_quality(markup, embeds, records, dist_threshold, print_result=False):\r\n",
        "    clustering_model = AgglomerativeClustering(\r\n",
        "        n_clusters=None,\r\n",
        "        distance_threshold=dist_threshold,\r\n",
        "        linkage=\"average\",\r\n",
        "        affinity=\"cosine\"\r\n",
        "    )\r\n",
        "\r\n",
        "    clustering_model.fit(embeds)\r\n",
        "    labels = clustering_model.labels_\r\n",
        "\r\n",
        "    idx2url = dict()\r\n",
        "    url2record = dict()\r\n",
        "    for i, record in enumerate(records):\r\n",
        "        idx2url[i] = record[\"url\"]\r\n",
        "        url2record[record[\"url\"]] = record\r\n",
        "\r\n",
        "    url2label = dict()\r\n",
        "    for i, label in enumerate(labels):\r\n",
        "        url2label[idx2url[i]] = label\r\n",
        "        \r\n",
        "    metrics = calc_metrics(markup, url2record, url2label)[0]\r\n",
        "    if print_result:\r\n",
        "        print()\r\n",
        "        print(\"Accuracy: {:.1f}\".format(metrics[\"accuracy\"] * 100.0))\r\n",
        "        print(\"Positives Recall: {:.1f}\".format(metrics[\"1\"][\"recall\"] * 100.0))\r\n",
        "        print(\"Positives Precision: {:.1f}\".format(metrics[\"1\"][\"precision\"] * 100.0))\r\n",
        "        print(\"Positives F1: {:.1f}\".format(metrics[\"1\"][\"f1-score\"] * 100.0))\r\n",
        "        print(\"Distance: \", dist_threshold)\r\n",
        "        sizes = list(Counter(labels).values())\r\n",
        "        print(\"Max cluster size: \", max(sizes))\r\n",
        "        print(\"Median cluster size: \", median(sizes))\r\n",
        "        print(\"Avg cluster size: {:.2f}\".format(mean(sizes)))\r\n",
        "        return\r\n",
        "    return metrics[\"1\"][\"f1-score\"]"
      ],
      "execution_count": 11,
      "outputs": []
    },
    {
      "cell_type": "markdown",
      "metadata": {
        "id": "RjqIqVHPKktd"
      },
      "source": [
        "# USE-only"
      ]
    },
    {
      "cell_type": "code",
      "metadata": {
        "colab": {
          "base_uri": "https://localhost:8080/"
        },
        "id": "xJ9AffWMKsDs",
        "outputId": "e2debc14-b7b8-4a53-cf17-0de21e156c42"
      },
      "source": [
        "import sentence_transformers\r\n",
        "\r\n",
        "use = sentence_transformers.SentenceTransformer('distiluse-base-multilingual-cased-v2')\r\n"
      ],
      "execution_count": 21,
      "outputs": [
        {
          "output_type": "stream",
          "text": [
            "100%|██████████| 504M/504M [00:22<00:00, 22.6MB/s]\n"
          ],
          "name": "stderr"
        }
      ]
    },
    {
      "cell_type": "code",
      "metadata": {
        "id": "IR7rRJZELzjx"
      },
      "source": [
        "import numpy as np\r\n",
        "from tqdm.notebook import tqdm\r\n",
        "\r\n",
        "def use_get_embedding(text, model):\r\n",
        "    return model.encode([text])\r\n",
        "\r\n",
        "def use_records_to_embeds(records, model):\r\n",
        "    embeddings = np.zeros((len(records), 512))\r\n",
        "    for i, record in tqdm(enumerate(records)):\r\n",
        "        embeddings[i] = use_get_embedding(record[\"title\"] + \" \" + record[\"text\"], model)\r\n",
        "    return embeddings"
      ],
      "execution_count": 28,
      "outputs": []
    },
    {
      "cell_type": "code",
      "metadata": {
        "colab": {
          "base_uri": "https://localhost:8080/",
          "height": 164
        },
        "id": "qIYakijkLFkA",
        "outputId": "4c17a3ba-4ee4-4aba-ebb7-3aa8d0e0ff0a"
      },
      "source": [
        "train_use_embeddings = use_records_to_embeds(test_records, use)"
      ],
      "execution_count": 48,
      "outputs": [
        {
          "output_type": "error",
          "ename": "TypeError",
          "evalue": "ignored",
          "traceback": [
            "\u001b[0;31m---------------------------------------------------------------------------\u001b[0m",
            "\u001b[0;31mTypeError\u001b[0m                                 Traceback (most recent call last)",
            "\u001b[0;32m<ipython-input-48-53c162cc9f28>\u001b[0m in \u001b[0;36m<module>\u001b[0;34m()\u001b[0m\n\u001b[0;32m----> 1\u001b[0;31m \u001b[0mtrain_use_embeddings\u001b[0m \u001b[0;34m=\u001b[0m \u001b[0muse_records_to_embeds\u001b[0m\u001b[0;34m(\u001b[0m\u001b[0mtest_records\u001b[0m\u001b[0;34m,\u001b[0m \u001b[0muse\u001b[0m\u001b[0;34m)\u001b[0m\u001b[0;34m\u001b[0m\u001b[0;34m\u001b[0m\u001b[0m\n\u001b[0m",
            "\u001b[0;31mTypeError\u001b[0m: use_records_to_embeds() missing 2 required positional arguments: 'ff' and 'device'"
          ]
        }
      ]
    },
    {
      "cell_type": "code",
      "metadata": {
        "colab": {
          "base_uri": "https://localhost:8080/"
        },
        "id": "f0aM148tQ7Al",
        "outputId": "6ac1fc76-0eec-4bc7-9d1e-eb8ddad48a5f"
      },
      "source": [
        "get_quality(test_markup, train_use_embeddings, test_records, 0.37, print_result=True)"
      ],
      "execution_count": 39,
      "outputs": [
        {
          "output_type": "stream",
          "text": [
            "\n",
            "Accuracy: 87.6\n",
            "Positives Recall: 87.6\n",
            "Positives Precision: 100.0\n",
            "Positives F1: 93.4\n",
            "Distance:  0.37\n",
            "Max cluster size:  22\n",
            "Median cluster size:  2.0\n",
            "Avg cluster size: 2.70\n"
          ],
          "name": "stdout"
        },
        {
          "output_type": "stream",
          "text": [
            "/usr/local/lib/python3.7/dist-packages/sklearn/metrics/_classification.py:1272: UndefinedMetricWarning: Recall and F-score are ill-defined and being set to 0.0 in labels with no true samples. Use `zero_division` parameter to control this behavior.\n",
            "  _warn_prf(average, modifier, msg_start, len(result))\n"
          ],
          "name": "stderr"
        }
      ]
    },
    {
      "cell_type": "markdown",
      "metadata": {
        "id": "0rcUj0qE71vo"
      },
      "source": [
        "# OurModel"
      ]
    },
    {
      "cell_type": "code",
      "metadata": {
        "id": "hu0Qas-8766H"
      },
      "source": [
        "from torch.utils.data import Dataset, DataLoader\r\n",
        "\r\n",
        "\r\n",
        "class CustomDataset(Dataset):\r\n",
        "\r\n",
        "    def __init__(self, x, y):\r\n",
        "        self.len = len(x)\r\n",
        "        self.data_x = x\r\n",
        "        self.data_y = y\r\n",
        "    \r\n",
        "    def __getitem__(self, index):\r\n",
        "        return (self.data_x[index], self.data_y[index])\r\n",
        "    \r\n",
        "    def __len__(self):\r\n",
        "        return self.len\r\n",
        "\r\n",
        "\r\n",
        "dataset = CustomDataset(input_samples, pos_samples)"
      ],
      "execution_count": 42,
      "outputs": []
    },
    {
      "cell_type": "code",
      "metadata": {
        "id": "piWszYKS8XY5"
      },
      "source": [
        "import sentence_transformers\r\n",
        "\r\n",
        "use = sentence_transformers.SentenceTransformer('distiluse-base-multilingual-cased-v2')\r\n"
      ],
      "execution_count": null,
      "outputs": []
    },
    {
      "cell_type": "code",
      "metadata": {
        "id": "pUwPIUbS8wH6"
      },
      "source": [
        "import math\r\n",
        "\r\n",
        "import torch\r\n",
        "from torch import nn\r\n",
        "\r\n",
        "class GELU(nn.Module):\r\n",
        "    def forward(self, x):\r\n",
        "        return 0.5 * x * (1 + torch.tanh(math.sqrt(2 / math.pi) * (x + 0.044715 * torch.pow(x, 3))))\r\n",
        "\r\n",
        "\r\n",
        "class FeedForwardTop(nn.Module):\r\n",
        "    def __init__(self, dropout = 0.05):\r\n",
        "        super().__init__()\r\n",
        "        self.f1 = nn.Linear(512, 512)\r\n",
        "        self.dropout = nn.Dropout(dropout) \r\n",
        "        self.gelu = GELU()\r\n",
        "        self.f2 = nn.Linear(512, 512)\r\n",
        "\r\n",
        "    \r\n",
        "    def forward(self, x):\r\n",
        "        x = self.dropout(self.gelu(self.f1(x)))\r\n",
        "        x = self.f2(x)\r\n",
        "\r\n",
        "        return x\r\n"
      ],
      "execution_count": 43,
      "outputs": []
    },
    {
      "cell_type": "code",
      "metadata": {
        "id": "i7ExeBozVm1u"
      },
      "source": [
        "from tqdm.notebook import tqdm\r\n",
        "\r\n",
        "def use_get_embedding(text, model, ff, device):\r\n",
        "    return ff(torch.tensor(model.encode([text]))).detach().numpy()\r\n",
        "\r\n",
        "def use_records_to_embeds(records, model, ff, device):\r\n",
        "    embeddings = np.zeros((len(records), 512))\r\n",
        "    for i, record in tqdm(enumerate(records)):\r\n",
        "        embeddings[i] = use_get_embedding(record[\"title\"] + \" \" + record[\"text\"], model, ff, device)\r\n",
        "    return embeddings"
      ],
      "execution_count": 45,
      "outputs": []
    },
    {
      "cell_type": "code",
      "metadata": {
        "colab": {
          "base_uri": "https://localhost:8080/",
          "height": 407,
          "referenced_widgets": [
            "ed194bb2c0a04d688ad7089a17bd557b",
            "e569acfe9a3247119a0bde10e31edf7c",
            "99c46b0b7bbf4d808c2613d8ff170315",
            "73c4ee1b09cb474ca30df5c2381de702",
            "73afba2d55254d73ba2091278b56ccd1",
            "0f2755803cd74b2e95084ffbf25d43ff",
            "682e1a0521f942f3bcd644d6f4e24b29",
            "29e29520dd704bceae9fb05b43b8165e"
          ]
        },
        "id": "jNrZ3koZ-Cqw",
        "outputId": "818e34c1-ef30-4f76-f551-ed6a4aead507"
      },
      "source": [
        "import torch.nn.functional as F\r\n",
        "import numpy as np\r\n",
        "from tqdm.notebook import tqdm\r\n",
        "\r\n",
        "torch.manual_seed(0)\r\n",
        "\r\n",
        "batch_size = 32\r\n",
        "lr = 0.01\r\n",
        "\r\n",
        "\r\n",
        "device = 'cpu'\r\n",
        "#device = torch.device(\"cuda\" if torch.cuda.is_available() else \"cpu\")\r\n",
        "\r\n",
        "net = FeedForwardTop().to(device)\r\n",
        "\r\n",
        "for p in net.parameters():\r\n",
        "    if p.dim() > 1:\r\n",
        "        torch.nn.init.xavier_uniform_(p)\r\n",
        "\r\n",
        "\r\n",
        "optimizer = torch.optim.Adam(net.parameters(), lr=lr)\r\n",
        "\r\n",
        "train_loader = DataLoader(dataset, batch_size=batch_size)\r\n",
        "\r\n",
        "EPOCHES = 3\r\n",
        "\r\n",
        "total_loss = 0\r\n",
        "\r\n",
        "\r\n",
        "for epoch in range(EPOCHES):\r\n",
        "    net.train()\r\n",
        "    for i, (input_samples, pos_samples) in enumerate(tqdm(train_loader)):\r\n",
        "        optimizer.zero_grad()\r\n",
        "\r\n",
        "        q_vectors = torch.tensor(use.encode(input_samples)).to(device)\r\n",
        "        ctx_vectors = torch.tensor(use.encode(pos_samples)).to(device)\r\n",
        "\r\n",
        "        q_vectors = net(q_vectors)\r\n",
        "        q_vectors = F.normalize(q_vectors, p=2, dim = -1)\r\n",
        "\r\n",
        "        ctx_vectors = net(ctx_vectors)\r\n",
        "        ctx_vectors = F.normalize(ctx_vectors, p=2, dim = -1)\r\n",
        "\r\n",
        "        scores = torch.matmul(q_vectors, torch.transpose(ctx_vectors, 0, 1))\r\n",
        "\r\n",
        "        if len(q_vectors.size()) > 1:\r\n",
        "            q_num = q_vectors.size(0)\r\n",
        "            scores = scores.view(q_num, -1)\r\n",
        "        \r\n",
        "        softmax_scores = F.log_softmax(scores, dim=1)\r\n",
        "        \r\n",
        "        pos_idx_per_question = torch.tensor(list(range(q_vectors.size(0)))).to(device)\r\n",
        "\r\n",
        "\r\n",
        "        loss = F.nll_loss(softmax_scores,\r\n",
        "                   pos_idx_per_question,\r\n",
        "                   reduction='mean')\r\n",
        "\r\n",
        "        loss.backward()\r\n",
        "        optimizer.step()\r\n",
        "        \r\n",
        "        total_loss += loss.data\r\n",
        "\r\n",
        "        if (i + 1) % 45 == 0:\r\n",
        "          print(f'epoch: {(epoch + 1)} batch_idx: {(i + 1)} loss: {total_loss/45}')\r\n",
        "          total_loss = 0\r\n",
        "      \r\n",
        "\r\n",
        "    net.eval()\r\n",
        "    embeds = use_records_to_embeds(test_records, use, net)\r\n",
        "\r\n"
      ],
      "execution_count": 50,
      "outputs": [
        {
          "output_type": "display_data",
          "data": {
            "application/vnd.jupyter.widget-view+json": {
              "model_id": "ed194bb2c0a04d688ad7089a17bd557b",
              "version_minor": 0,
              "version_major": 2
            },
            "text/plain": [
              "HBox(children=(FloatProgress(value=0.0, max=194.0), HTML(value='')))"
            ]
          },
          "metadata": {
            "tags": []
          }
        },
        {
          "output_type": "error",
          "ename": "KeyboardInterrupt",
          "evalue": "ignored",
          "traceback": [
            "\u001b[0;31m---------------------------------------------------------------------------\u001b[0m",
            "\u001b[0;31mKeyboardInterrupt\u001b[0m                         Traceback (most recent call last)",
            "\u001b[0;32m<ipython-input-50-963107f90bfa>\u001b[0m in \u001b[0;36m<module>\u001b[0;34m()\u001b[0m\n\u001b[1;32m     34\u001b[0m \u001b[0;34m\u001b[0m\u001b[0m\n\u001b[1;32m     35\u001b[0m         \u001b[0mq_vectors\u001b[0m \u001b[0;34m=\u001b[0m \u001b[0mtorch\u001b[0m\u001b[0;34m.\u001b[0m\u001b[0mtensor\u001b[0m\u001b[0;34m(\u001b[0m\u001b[0muse\u001b[0m\u001b[0;34m.\u001b[0m\u001b[0mencode\u001b[0m\u001b[0;34m(\u001b[0m\u001b[0minput_samples\u001b[0m\u001b[0;34m)\u001b[0m\u001b[0;34m)\u001b[0m\u001b[0;34m.\u001b[0m\u001b[0mto\u001b[0m\u001b[0;34m(\u001b[0m\u001b[0mdevice\u001b[0m\u001b[0;34m)\u001b[0m\u001b[0;34m\u001b[0m\u001b[0;34m\u001b[0m\u001b[0m\n\u001b[0;32m---> 36\u001b[0;31m         \u001b[0mctx_vectors\u001b[0m \u001b[0;34m=\u001b[0m \u001b[0mtorch\u001b[0m\u001b[0;34m.\u001b[0m\u001b[0mtensor\u001b[0m\u001b[0;34m(\u001b[0m\u001b[0muse\u001b[0m\u001b[0;34m.\u001b[0m\u001b[0mencode\u001b[0m\u001b[0;34m(\u001b[0m\u001b[0mpos_samples\u001b[0m\u001b[0;34m)\u001b[0m\u001b[0;34m)\u001b[0m\u001b[0;34m.\u001b[0m\u001b[0mto\u001b[0m\u001b[0;34m(\u001b[0m\u001b[0mdevice\u001b[0m\u001b[0;34m)\u001b[0m\u001b[0;34m\u001b[0m\u001b[0;34m\u001b[0m\u001b[0m\n\u001b[0m\u001b[1;32m     37\u001b[0m \u001b[0;34m\u001b[0m\u001b[0m\n\u001b[1;32m     38\u001b[0m         \u001b[0mq_vectors\u001b[0m \u001b[0;34m=\u001b[0m \u001b[0mnet\u001b[0m\u001b[0;34m(\u001b[0m\u001b[0mq_vectors\u001b[0m\u001b[0;34m)\u001b[0m\u001b[0;34m\u001b[0m\u001b[0;34m\u001b[0m\u001b[0m\n",
            "\u001b[0;32m/usr/local/lib/python3.7/dist-packages/sentence_transformers/SentenceTransformer.py\u001b[0m in \u001b[0;36mencode\u001b[0;34m(self, sentences, batch_size, show_progress_bar, output_value, convert_to_numpy, convert_to_tensor, is_pretokenized, device, num_workers)\u001b[0m\n\u001b[1;32m    179\u001b[0m \u001b[0;34m\u001b[0m\u001b[0m\n\u001b[1;32m    180\u001b[0m             \u001b[0;32mwith\u001b[0m \u001b[0mtorch\u001b[0m\u001b[0;34m.\u001b[0m\u001b[0mno_grad\u001b[0m\u001b[0;34m(\u001b[0m\u001b[0;34m)\u001b[0m\u001b[0;34m:\u001b[0m\u001b[0;34m\u001b[0m\u001b[0;34m\u001b[0m\u001b[0m\n\u001b[0;32m--> 181\u001b[0;31m                 \u001b[0mout_features\u001b[0m \u001b[0;34m=\u001b[0m \u001b[0mself\u001b[0m\u001b[0;34m.\u001b[0m\u001b[0mforward\u001b[0m\u001b[0;34m(\u001b[0m\u001b[0mfeatures\u001b[0m\u001b[0;34m)\u001b[0m\u001b[0;34m\u001b[0m\u001b[0;34m\u001b[0m\u001b[0m\n\u001b[0m\u001b[1;32m    182\u001b[0m                 \u001b[0membeddings\u001b[0m \u001b[0;34m=\u001b[0m \u001b[0mout_features\u001b[0m\u001b[0;34m[\u001b[0m\u001b[0moutput_value\u001b[0m\u001b[0;34m]\u001b[0m\u001b[0;34m\u001b[0m\u001b[0;34m\u001b[0m\u001b[0m\n\u001b[1;32m    183\u001b[0m \u001b[0;34m\u001b[0m\u001b[0m\n",
            "\u001b[0;32m/usr/local/lib/python3.7/dist-packages/torch/nn/modules/container.py\u001b[0m in \u001b[0;36mforward\u001b[0;34m(self, input)\u001b[0m\n\u001b[1;32m    115\u001b[0m     \u001b[0;32mdef\u001b[0m \u001b[0mforward\u001b[0m\u001b[0;34m(\u001b[0m\u001b[0mself\u001b[0m\u001b[0;34m,\u001b[0m \u001b[0minput\u001b[0m\u001b[0;34m)\u001b[0m\u001b[0;34m:\u001b[0m\u001b[0;34m\u001b[0m\u001b[0;34m\u001b[0m\u001b[0m\n\u001b[1;32m    116\u001b[0m         \u001b[0;32mfor\u001b[0m \u001b[0mmodule\u001b[0m \u001b[0;32min\u001b[0m \u001b[0mself\u001b[0m\u001b[0;34m:\u001b[0m\u001b[0;34m\u001b[0m\u001b[0;34m\u001b[0m\u001b[0m\n\u001b[0;32m--> 117\u001b[0;31m             \u001b[0minput\u001b[0m \u001b[0;34m=\u001b[0m \u001b[0mmodule\u001b[0m\u001b[0;34m(\u001b[0m\u001b[0minput\u001b[0m\u001b[0;34m)\u001b[0m\u001b[0;34m\u001b[0m\u001b[0;34m\u001b[0m\u001b[0m\n\u001b[0m\u001b[1;32m    118\u001b[0m         \u001b[0;32mreturn\u001b[0m \u001b[0minput\u001b[0m\u001b[0;34m\u001b[0m\u001b[0;34m\u001b[0m\u001b[0m\n\u001b[1;32m    119\u001b[0m \u001b[0;34m\u001b[0m\u001b[0m\n",
            "\u001b[0;32m/usr/local/lib/python3.7/dist-packages/torch/nn/modules/module.py\u001b[0m in \u001b[0;36m_call_impl\u001b[0;34m(self, *input, **kwargs)\u001b[0m\n\u001b[1;32m    725\u001b[0m             \u001b[0mresult\u001b[0m \u001b[0;34m=\u001b[0m \u001b[0mself\u001b[0m\u001b[0;34m.\u001b[0m\u001b[0m_slow_forward\u001b[0m\u001b[0;34m(\u001b[0m\u001b[0;34m*\u001b[0m\u001b[0minput\u001b[0m\u001b[0;34m,\u001b[0m \u001b[0;34m**\u001b[0m\u001b[0mkwargs\u001b[0m\u001b[0;34m)\u001b[0m\u001b[0;34m\u001b[0m\u001b[0;34m\u001b[0m\u001b[0m\n\u001b[1;32m    726\u001b[0m         \u001b[0;32melse\u001b[0m\u001b[0;34m:\u001b[0m\u001b[0;34m\u001b[0m\u001b[0;34m\u001b[0m\u001b[0m\n\u001b[0;32m--> 727\u001b[0;31m             \u001b[0mresult\u001b[0m \u001b[0;34m=\u001b[0m \u001b[0mself\u001b[0m\u001b[0;34m.\u001b[0m\u001b[0mforward\u001b[0m\u001b[0;34m(\u001b[0m\u001b[0;34m*\u001b[0m\u001b[0minput\u001b[0m\u001b[0;34m,\u001b[0m \u001b[0;34m**\u001b[0m\u001b[0mkwargs\u001b[0m\u001b[0;34m)\u001b[0m\u001b[0;34m\u001b[0m\u001b[0;34m\u001b[0m\u001b[0m\n\u001b[0m\u001b[1;32m    728\u001b[0m         for hook in itertools.chain(\n\u001b[1;32m    729\u001b[0m                 \u001b[0m_global_forward_hooks\u001b[0m\u001b[0;34m.\u001b[0m\u001b[0mvalues\u001b[0m\u001b[0;34m(\u001b[0m\u001b[0;34m)\u001b[0m\u001b[0;34m,\u001b[0m\u001b[0;34m\u001b[0m\u001b[0;34m\u001b[0m\u001b[0m\n",
            "\u001b[0;32m/usr/local/lib/python3.7/dist-packages/sentence_transformers/models/Transformer.py\u001b[0m in \u001b[0;36mforward\u001b[0;34m(self, features)\u001b[0m\n\u001b[1;32m     38\u001b[0m             \u001b[0mtrans_features\u001b[0m\u001b[0;34m[\u001b[0m\u001b[0;34m'token_type_ids'\u001b[0m\u001b[0;34m]\u001b[0m \u001b[0;34m=\u001b[0m \u001b[0mfeatures\u001b[0m\u001b[0;34m[\u001b[0m\u001b[0;34m'token_type_ids'\u001b[0m\u001b[0;34m]\u001b[0m\u001b[0;34m\u001b[0m\u001b[0;34m\u001b[0m\u001b[0m\n\u001b[1;32m     39\u001b[0m \u001b[0;34m\u001b[0m\u001b[0m\n\u001b[0;32m---> 40\u001b[0;31m         \u001b[0moutput_states\u001b[0m \u001b[0;34m=\u001b[0m \u001b[0mself\u001b[0m\u001b[0;34m.\u001b[0m\u001b[0mauto_model\u001b[0m\u001b[0;34m(\u001b[0m\u001b[0;34m**\u001b[0m\u001b[0mtrans_features\u001b[0m\u001b[0;34m,\u001b[0m \u001b[0mreturn_dict\u001b[0m\u001b[0;34m=\u001b[0m\u001b[0;32mFalse\u001b[0m\u001b[0;34m)\u001b[0m\u001b[0;34m\u001b[0m\u001b[0;34m\u001b[0m\u001b[0m\n\u001b[0m\u001b[1;32m     41\u001b[0m         \u001b[0moutput_tokens\u001b[0m \u001b[0;34m=\u001b[0m \u001b[0moutput_states\u001b[0m\u001b[0;34m[\u001b[0m\u001b[0;36m0\u001b[0m\u001b[0;34m]\u001b[0m\u001b[0;34m\u001b[0m\u001b[0;34m\u001b[0m\u001b[0m\n\u001b[1;32m     42\u001b[0m \u001b[0;34m\u001b[0m\u001b[0m\n",
            "\u001b[0;32m/usr/local/lib/python3.7/dist-packages/torch/nn/modules/module.py\u001b[0m in \u001b[0;36m_call_impl\u001b[0;34m(self, *input, **kwargs)\u001b[0m\n\u001b[1;32m    725\u001b[0m             \u001b[0mresult\u001b[0m \u001b[0;34m=\u001b[0m \u001b[0mself\u001b[0m\u001b[0;34m.\u001b[0m\u001b[0m_slow_forward\u001b[0m\u001b[0;34m(\u001b[0m\u001b[0;34m*\u001b[0m\u001b[0minput\u001b[0m\u001b[0;34m,\u001b[0m \u001b[0;34m**\u001b[0m\u001b[0mkwargs\u001b[0m\u001b[0;34m)\u001b[0m\u001b[0;34m\u001b[0m\u001b[0;34m\u001b[0m\u001b[0m\n\u001b[1;32m    726\u001b[0m         \u001b[0;32melse\u001b[0m\u001b[0;34m:\u001b[0m\u001b[0;34m\u001b[0m\u001b[0;34m\u001b[0m\u001b[0m\n\u001b[0;32m--> 727\u001b[0;31m             \u001b[0mresult\u001b[0m \u001b[0;34m=\u001b[0m \u001b[0mself\u001b[0m\u001b[0;34m.\u001b[0m\u001b[0mforward\u001b[0m\u001b[0;34m(\u001b[0m\u001b[0;34m*\u001b[0m\u001b[0minput\u001b[0m\u001b[0;34m,\u001b[0m \u001b[0;34m**\u001b[0m\u001b[0mkwargs\u001b[0m\u001b[0;34m)\u001b[0m\u001b[0;34m\u001b[0m\u001b[0;34m\u001b[0m\u001b[0m\n\u001b[0m\u001b[1;32m    728\u001b[0m         for hook in itertools.chain(\n\u001b[1;32m    729\u001b[0m                 \u001b[0m_global_forward_hooks\u001b[0m\u001b[0;34m.\u001b[0m\u001b[0mvalues\u001b[0m\u001b[0;34m(\u001b[0m\u001b[0;34m)\u001b[0m\u001b[0;34m,\u001b[0m\u001b[0;34m\u001b[0m\u001b[0;34m\u001b[0m\u001b[0m\n",
            "\u001b[0;32m/usr/local/lib/python3.7/dist-packages/transformers/modeling_distilbert.py\u001b[0m in \u001b[0;36mforward\u001b[0;34m(self, input_ids, attention_mask, head_mask, inputs_embeds, output_attentions, output_hidden_states, return_dict)\u001b[0m\n\u001b[1;32m    503\u001b[0m             \u001b[0moutput_attentions\u001b[0m\u001b[0;34m=\u001b[0m\u001b[0moutput_attentions\u001b[0m\u001b[0;34m,\u001b[0m\u001b[0;34m\u001b[0m\u001b[0;34m\u001b[0m\u001b[0m\n\u001b[1;32m    504\u001b[0m             \u001b[0moutput_hidden_states\u001b[0m\u001b[0;34m=\u001b[0m\u001b[0moutput_hidden_states\u001b[0m\u001b[0;34m,\u001b[0m\u001b[0;34m\u001b[0m\u001b[0;34m\u001b[0m\u001b[0m\n\u001b[0;32m--> 505\u001b[0;31m             \u001b[0mreturn_dict\u001b[0m\u001b[0;34m=\u001b[0m\u001b[0mreturn_dict\u001b[0m\u001b[0;34m,\u001b[0m\u001b[0;34m\u001b[0m\u001b[0;34m\u001b[0m\u001b[0m\n\u001b[0m\u001b[1;32m    506\u001b[0m         )\n\u001b[1;32m    507\u001b[0m \u001b[0;34m\u001b[0m\u001b[0m\n",
            "\u001b[0;32m/usr/local/lib/python3.7/dist-packages/torch/nn/modules/module.py\u001b[0m in \u001b[0;36m_call_impl\u001b[0;34m(self, *input, **kwargs)\u001b[0m\n\u001b[1;32m    725\u001b[0m             \u001b[0mresult\u001b[0m \u001b[0;34m=\u001b[0m \u001b[0mself\u001b[0m\u001b[0;34m.\u001b[0m\u001b[0m_slow_forward\u001b[0m\u001b[0;34m(\u001b[0m\u001b[0;34m*\u001b[0m\u001b[0minput\u001b[0m\u001b[0;34m,\u001b[0m \u001b[0;34m**\u001b[0m\u001b[0mkwargs\u001b[0m\u001b[0;34m)\u001b[0m\u001b[0;34m\u001b[0m\u001b[0;34m\u001b[0m\u001b[0m\n\u001b[1;32m    726\u001b[0m         \u001b[0;32melse\u001b[0m\u001b[0;34m:\u001b[0m\u001b[0;34m\u001b[0m\u001b[0;34m\u001b[0m\u001b[0m\n\u001b[0;32m--> 727\u001b[0;31m             \u001b[0mresult\u001b[0m \u001b[0;34m=\u001b[0m \u001b[0mself\u001b[0m\u001b[0;34m.\u001b[0m\u001b[0mforward\u001b[0m\u001b[0;34m(\u001b[0m\u001b[0;34m*\u001b[0m\u001b[0minput\u001b[0m\u001b[0;34m,\u001b[0m \u001b[0;34m**\u001b[0m\u001b[0mkwargs\u001b[0m\u001b[0;34m)\u001b[0m\u001b[0;34m\u001b[0m\u001b[0;34m\u001b[0m\u001b[0m\n\u001b[0m\u001b[1;32m    728\u001b[0m         for hook in itertools.chain(\n\u001b[1;32m    729\u001b[0m                 \u001b[0m_global_forward_hooks\u001b[0m\u001b[0;34m.\u001b[0m\u001b[0mvalues\u001b[0m\u001b[0;34m(\u001b[0m\u001b[0;34m)\u001b[0m\u001b[0;34m,\u001b[0m\u001b[0;34m\u001b[0m\u001b[0;34m\u001b[0m\u001b[0m\n",
            "\u001b[0;32m/usr/local/lib/python3.7/dist-packages/transformers/modeling_distilbert.py\u001b[0m in \u001b[0;36mforward\u001b[0;34m(self, x, attn_mask, head_mask, output_attentions, output_hidden_states, return_dict)\u001b[0m\n\u001b[1;32m    325\u001b[0m \u001b[0;34m\u001b[0m\u001b[0m\n\u001b[1;32m    326\u001b[0m             layer_outputs = layer_module(\n\u001b[0;32m--> 327\u001b[0;31m                 \u001b[0mx\u001b[0m\u001b[0;34m=\u001b[0m\u001b[0mhidden_state\u001b[0m\u001b[0;34m,\u001b[0m \u001b[0mattn_mask\u001b[0m\u001b[0;34m=\u001b[0m\u001b[0mattn_mask\u001b[0m\u001b[0;34m,\u001b[0m \u001b[0mhead_mask\u001b[0m\u001b[0;34m=\u001b[0m\u001b[0mhead_mask\u001b[0m\u001b[0;34m[\u001b[0m\u001b[0mi\u001b[0m\u001b[0;34m]\u001b[0m\u001b[0;34m,\u001b[0m \u001b[0moutput_attentions\u001b[0m\u001b[0;34m=\u001b[0m\u001b[0moutput_attentions\u001b[0m\u001b[0;34m\u001b[0m\u001b[0;34m\u001b[0m\u001b[0m\n\u001b[0m\u001b[1;32m    328\u001b[0m             )\n\u001b[1;32m    329\u001b[0m             \u001b[0mhidden_state\u001b[0m \u001b[0;34m=\u001b[0m \u001b[0mlayer_outputs\u001b[0m\u001b[0;34m[\u001b[0m\u001b[0;34m-\u001b[0m\u001b[0;36m1\u001b[0m\u001b[0;34m]\u001b[0m\u001b[0;34m\u001b[0m\u001b[0;34m\u001b[0m\u001b[0m\n",
            "\u001b[0;32m/usr/local/lib/python3.7/dist-packages/torch/nn/modules/module.py\u001b[0m in \u001b[0;36m_call_impl\u001b[0;34m(self, *input, **kwargs)\u001b[0m\n\u001b[1;32m    725\u001b[0m             \u001b[0mresult\u001b[0m \u001b[0;34m=\u001b[0m \u001b[0mself\u001b[0m\u001b[0;34m.\u001b[0m\u001b[0m_slow_forward\u001b[0m\u001b[0;34m(\u001b[0m\u001b[0;34m*\u001b[0m\u001b[0minput\u001b[0m\u001b[0;34m,\u001b[0m \u001b[0;34m**\u001b[0m\u001b[0mkwargs\u001b[0m\u001b[0;34m)\u001b[0m\u001b[0;34m\u001b[0m\u001b[0;34m\u001b[0m\u001b[0m\n\u001b[1;32m    726\u001b[0m         \u001b[0;32melse\u001b[0m\u001b[0;34m:\u001b[0m\u001b[0;34m\u001b[0m\u001b[0;34m\u001b[0m\u001b[0m\n\u001b[0;32m--> 727\u001b[0;31m             \u001b[0mresult\u001b[0m \u001b[0;34m=\u001b[0m \u001b[0mself\u001b[0m\u001b[0;34m.\u001b[0m\u001b[0mforward\u001b[0m\u001b[0;34m(\u001b[0m\u001b[0;34m*\u001b[0m\u001b[0minput\u001b[0m\u001b[0;34m,\u001b[0m \u001b[0;34m**\u001b[0m\u001b[0mkwargs\u001b[0m\u001b[0;34m)\u001b[0m\u001b[0;34m\u001b[0m\u001b[0;34m\u001b[0m\u001b[0m\n\u001b[0m\u001b[1;32m    728\u001b[0m         for hook in itertools.chain(\n\u001b[1;32m    729\u001b[0m                 \u001b[0m_global_forward_hooks\u001b[0m\u001b[0;34m.\u001b[0m\u001b[0mvalues\u001b[0m\u001b[0;34m(\u001b[0m\u001b[0;34m)\u001b[0m\u001b[0;34m,\u001b[0m\u001b[0;34m\u001b[0m\u001b[0;34m\u001b[0m\u001b[0m\n",
            "\u001b[0;32m/usr/local/lib/python3.7/dist-packages/transformers/modeling_distilbert.py\u001b[0m in \u001b[0;36mforward\u001b[0;34m(self, x, attn_mask, head_mask, output_attentions)\u001b[0m\n\u001b[1;32m    277\u001b[0m \u001b[0;34m\u001b[0m\u001b[0m\n\u001b[1;32m    278\u001b[0m         \u001b[0;31m# Feed Forward Network\u001b[0m\u001b[0;34m\u001b[0m\u001b[0;34m\u001b[0m\u001b[0;34m\u001b[0m\u001b[0m\n\u001b[0;32m--> 279\u001b[0;31m         \u001b[0mffn_output\u001b[0m \u001b[0;34m=\u001b[0m \u001b[0mself\u001b[0m\u001b[0;34m.\u001b[0m\u001b[0mffn\u001b[0m\u001b[0;34m(\u001b[0m\u001b[0msa_output\u001b[0m\u001b[0;34m)\u001b[0m  \u001b[0;31m# (bs, seq_length, dim)\u001b[0m\u001b[0;34m\u001b[0m\u001b[0;34m\u001b[0m\u001b[0m\n\u001b[0m\u001b[1;32m    280\u001b[0m         \u001b[0mffn_output\u001b[0m \u001b[0;34m=\u001b[0m \u001b[0mself\u001b[0m\u001b[0;34m.\u001b[0m\u001b[0moutput_layer_norm\u001b[0m\u001b[0;34m(\u001b[0m\u001b[0mffn_output\u001b[0m \u001b[0;34m+\u001b[0m \u001b[0msa_output\u001b[0m\u001b[0;34m)\u001b[0m  \u001b[0;31m# (bs, seq_length, dim)\u001b[0m\u001b[0;34m\u001b[0m\u001b[0;34m\u001b[0m\u001b[0m\n\u001b[1;32m    281\u001b[0m \u001b[0;34m\u001b[0m\u001b[0m\n",
            "\u001b[0;32m/usr/local/lib/python3.7/dist-packages/torch/nn/modules/module.py\u001b[0m in \u001b[0;36m_call_impl\u001b[0;34m(self, *input, **kwargs)\u001b[0m\n\u001b[1;32m    725\u001b[0m             \u001b[0mresult\u001b[0m \u001b[0;34m=\u001b[0m \u001b[0mself\u001b[0m\u001b[0;34m.\u001b[0m\u001b[0m_slow_forward\u001b[0m\u001b[0;34m(\u001b[0m\u001b[0;34m*\u001b[0m\u001b[0minput\u001b[0m\u001b[0;34m,\u001b[0m \u001b[0;34m**\u001b[0m\u001b[0mkwargs\u001b[0m\u001b[0;34m)\u001b[0m\u001b[0;34m\u001b[0m\u001b[0;34m\u001b[0m\u001b[0m\n\u001b[1;32m    726\u001b[0m         \u001b[0;32melse\u001b[0m\u001b[0;34m:\u001b[0m\u001b[0;34m\u001b[0m\u001b[0;34m\u001b[0m\u001b[0m\n\u001b[0;32m--> 727\u001b[0;31m             \u001b[0mresult\u001b[0m \u001b[0;34m=\u001b[0m \u001b[0mself\u001b[0m\u001b[0;34m.\u001b[0m\u001b[0mforward\u001b[0m\u001b[0;34m(\u001b[0m\u001b[0;34m*\u001b[0m\u001b[0minput\u001b[0m\u001b[0;34m,\u001b[0m \u001b[0;34m**\u001b[0m\u001b[0mkwargs\u001b[0m\u001b[0;34m)\u001b[0m\u001b[0;34m\u001b[0m\u001b[0;34m\u001b[0m\u001b[0m\n\u001b[0m\u001b[1;32m    728\u001b[0m         for hook in itertools.chain(\n\u001b[1;32m    729\u001b[0m                 \u001b[0m_global_forward_hooks\u001b[0m\u001b[0;34m.\u001b[0m\u001b[0mvalues\u001b[0m\u001b[0;34m(\u001b[0m\u001b[0;34m)\u001b[0m\u001b[0;34m,\u001b[0m\u001b[0;34m\u001b[0m\u001b[0;34m\u001b[0m\u001b[0m\n",
            "\u001b[0;32m/usr/local/lib/python3.7/dist-packages/transformers/modeling_distilbert.py\u001b[0m in \u001b[0;36mforward\u001b[0;34m(self, input)\u001b[0m\n\u001b[1;32m    224\u001b[0m \u001b[0;34m\u001b[0m\u001b[0m\n\u001b[1;32m    225\u001b[0m     \u001b[0;32mdef\u001b[0m \u001b[0mforward\u001b[0m\u001b[0;34m(\u001b[0m\u001b[0mself\u001b[0m\u001b[0;34m,\u001b[0m \u001b[0minput\u001b[0m\u001b[0;34m)\u001b[0m\u001b[0;34m:\u001b[0m\u001b[0;34m\u001b[0m\u001b[0;34m\u001b[0m\u001b[0m\n\u001b[0;32m--> 226\u001b[0;31m         \u001b[0;32mreturn\u001b[0m \u001b[0mapply_chunking_to_forward\u001b[0m\u001b[0;34m(\u001b[0m\u001b[0mself\u001b[0m\u001b[0;34m.\u001b[0m\u001b[0mff_chunk\u001b[0m\u001b[0;34m,\u001b[0m \u001b[0mself\u001b[0m\u001b[0;34m.\u001b[0m\u001b[0mchunk_size_feed_forward\u001b[0m\u001b[0;34m,\u001b[0m \u001b[0mself\u001b[0m\u001b[0;34m.\u001b[0m\u001b[0mseq_len_dim\u001b[0m\u001b[0;34m,\u001b[0m \u001b[0minput\u001b[0m\u001b[0;34m)\u001b[0m\u001b[0;34m\u001b[0m\u001b[0;34m\u001b[0m\u001b[0m\n\u001b[0m\u001b[1;32m    227\u001b[0m \u001b[0;34m\u001b[0m\u001b[0m\n\u001b[1;32m    228\u001b[0m     \u001b[0;32mdef\u001b[0m \u001b[0mff_chunk\u001b[0m\u001b[0;34m(\u001b[0m\u001b[0mself\u001b[0m\u001b[0;34m,\u001b[0m \u001b[0minput\u001b[0m\u001b[0;34m)\u001b[0m\u001b[0;34m:\u001b[0m\u001b[0;34m\u001b[0m\u001b[0;34m\u001b[0m\u001b[0m\n",
            "\u001b[0;32m/usr/local/lib/python3.7/dist-packages/transformers/modeling_utils.py\u001b[0m in \u001b[0;36mapply_chunking_to_forward\u001b[0;34m(forward_fn, chunk_size, chunk_dim, *input_tensors)\u001b[0m\n\u001b[1;32m   1694\u001b[0m         \u001b[0;32mreturn\u001b[0m \u001b[0mtorch\u001b[0m\u001b[0;34m.\u001b[0m\u001b[0mcat\u001b[0m\u001b[0;34m(\u001b[0m\u001b[0moutput_chunks\u001b[0m\u001b[0;34m,\u001b[0m \u001b[0mdim\u001b[0m\u001b[0;34m=\u001b[0m\u001b[0mchunk_dim\u001b[0m\u001b[0;34m)\u001b[0m\u001b[0;34m\u001b[0m\u001b[0;34m\u001b[0m\u001b[0m\n\u001b[1;32m   1695\u001b[0m \u001b[0;34m\u001b[0m\u001b[0m\n\u001b[0;32m-> 1696\u001b[0;31m     \u001b[0;32mreturn\u001b[0m \u001b[0mforward_fn\u001b[0m\u001b[0;34m(\u001b[0m\u001b[0;34m*\u001b[0m\u001b[0minput_tensors\u001b[0m\u001b[0;34m)\u001b[0m\u001b[0;34m\u001b[0m\u001b[0;34m\u001b[0m\u001b[0m\n\u001b[0m",
            "\u001b[0;32m/usr/local/lib/python3.7/dist-packages/transformers/modeling_distilbert.py\u001b[0m in \u001b[0;36mff_chunk\u001b[0;34m(self, input)\u001b[0m\n\u001b[1;32m    229\u001b[0m         \u001b[0mx\u001b[0m \u001b[0;34m=\u001b[0m \u001b[0mself\u001b[0m\u001b[0;34m.\u001b[0m\u001b[0mlin1\u001b[0m\u001b[0;34m(\u001b[0m\u001b[0minput\u001b[0m\u001b[0;34m)\u001b[0m\u001b[0;34m\u001b[0m\u001b[0;34m\u001b[0m\u001b[0m\n\u001b[1;32m    230\u001b[0m         \u001b[0mx\u001b[0m \u001b[0;34m=\u001b[0m \u001b[0mself\u001b[0m\u001b[0;34m.\u001b[0m\u001b[0mactivation\u001b[0m\u001b[0;34m(\u001b[0m\u001b[0mx\u001b[0m\u001b[0;34m)\u001b[0m\u001b[0;34m\u001b[0m\u001b[0;34m\u001b[0m\u001b[0m\n\u001b[0;32m--> 231\u001b[0;31m         \u001b[0mx\u001b[0m \u001b[0;34m=\u001b[0m \u001b[0mself\u001b[0m\u001b[0;34m.\u001b[0m\u001b[0mlin2\u001b[0m\u001b[0;34m(\u001b[0m\u001b[0mx\u001b[0m\u001b[0;34m)\u001b[0m\u001b[0;34m\u001b[0m\u001b[0;34m\u001b[0m\u001b[0m\n\u001b[0m\u001b[1;32m    232\u001b[0m         \u001b[0mx\u001b[0m \u001b[0;34m=\u001b[0m \u001b[0mself\u001b[0m\u001b[0;34m.\u001b[0m\u001b[0mdropout\u001b[0m\u001b[0;34m(\u001b[0m\u001b[0mx\u001b[0m\u001b[0;34m)\u001b[0m\u001b[0;34m\u001b[0m\u001b[0;34m\u001b[0m\u001b[0m\n\u001b[1;32m    233\u001b[0m         \u001b[0;32mreturn\u001b[0m \u001b[0mx\u001b[0m\u001b[0;34m\u001b[0m\u001b[0;34m\u001b[0m\u001b[0m\n",
            "\u001b[0;32m/usr/local/lib/python3.7/dist-packages/torch/nn/modules/module.py\u001b[0m in \u001b[0;36m_call_impl\u001b[0;34m(self, *input, **kwargs)\u001b[0m\n\u001b[1;32m    725\u001b[0m             \u001b[0mresult\u001b[0m \u001b[0;34m=\u001b[0m \u001b[0mself\u001b[0m\u001b[0;34m.\u001b[0m\u001b[0m_slow_forward\u001b[0m\u001b[0;34m(\u001b[0m\u001b[0;34m*\u001b[0m\u001b[0minput\u001b[0m\u001b[0;34m,\u001b[0m \u001b[0;34m**\u001b[0m\u001b[0mkwargs\u001b[0m\u001b[0;34m)\u001b[0m\u001b[0;34m\u001b[0m\u001b[0;34m\u001b[0m\u001b[0m\n\u001b[1;32m    726\u001b[0m         \u001b[0;32melse\u001b[0m\u001b[0;34m:\u001b[0m\u001b[0;34m\u001b[0m\u001b[0;34m\u001b[0m\u001b[0m\n\u001b[0;32m--> 727\u001b[0;31m             \u001b[0mresult\u001b[0m \u001b[0;34m=\u001b[0m \u001b[0mself\u001b[0m\u001b[0;34m.\u001b[0m\u001b[0mforward\u001b[0m\u001b[0;34m(\u001b[0m\u001b[0;34m*\u001b[0m\u001b[0minput\u001b[0m\u001b[0;34m,\u001b[0m \u001b[0;34m**\u001b[0m\u001b[0mkwargs\u001b[0m\u001b[0;34m)\u001b[0m\u001b[0;34m\u001b[0m\u001b[0;34m\u001b[0m\u001b[0m\n\u001b[0m\u001b[1;32m    728\u001b[0m         for hook in itertools.chain(\n\u001b[1;32m    729\u001b[0m                 \u001b[0m_global_forward_hooks\u001b[0m\u001b[0;34m.\u001b[0m\u001b[0mvalues\u001b[0m\u001b[0;34m(\u001b[0m\u001b[0;34m)\u001b[0m\u001b[0;34m,\u001b[0m\u001b[0;34m\u001b[0m\u001b[0;34m\u001b[0m\u001b[0m\n",
            "\u001b[0;32m/usr/local/lib/python3.7/dist-packages/torch/nn/modules/linear.py\u001b[0m in \u001b[0;36mforward\u001b[0;34m(self, input)\u001b[0m\n\u001b[1;32m     91\u001b[0m \u001b[0;34m\u001b[0m\u001b[0m\n\u001b[1;32m     92\u001b[0m     \u001b[0;32mdef\u001b[0m \u001b[0mforward\u001b[0m\u001b[0;34m(\u001b[0m\u001b[0mself\u001b[0m\u001b[0;34m,\u001b[0m \u001b[0minput\u001b[0m\u001b[0;34m:\u001b[0m \u001b[0mTensor\u001b[0m\u001b[0;34m)\u001b[0m \u001b[0;34m->\u001b[0m \u001b[0mTensor\u001b[0m\u001b[0;34m:\u001b[0m\u001b[0;34m\u001b[0m\u001b[0;34m\u001b[0m\u001b[0m\n\u001b[0;32m---> 93\u001b[0;31m         \u001b[0;32mreturn\u001b[0m \u001b[0mF\u001b[0m\u001b[0;34m.\u001b[0m\u001b[0mlinear\u001b[0m\u001b[0;34m(\u001b[0m\u001b[0minput\u001b[0m\u001b[0;34m,\u001b[0m \u001b[0mself\u001b[0m\u001b[0;34m.\u001b[0m\u001b[0mweight\u001b[0m\u001b[0;34m,\u001b[0m \u001b[0mself\u001b[0m\u001b[0;34m.\u001b[0m\u001b[0mbias\u001b[0m\u001b[0;34m)\u001b[0m\u001b[0;34m\u001b[0m\u001b[0;34m\u001b[0m\u001b[0m\n\u001b[0m\u001b[1;32m     94\u001b[0m \u001b[0;34m\u001b[0m\u001b[0m\n\u001b[1;32m     95\u001b[0m     \u001b[0;32mdef\u001b[0m \u001b[0mextra_repr\u001b[0m\u001b[0;34m(\u001b[0m\u001b[0mself\u001b[0m\u001b[0;34m)\u001b[0m \u001b[0;34m->\u001b[0m \u001b[0mstr\u001b[0m\u001b[0;34m:\u001b[0m\u001b[0;34m\u001b[0m\u001b[0;34m\u001b[0m\u001b[0m\n",
            "\u001b[0;32m/usr/local/lib/python3.7/dist-packages/torch/nn/functional.py\u001b[0m in \u001b[0;36mlinear\u001b[0;34m(input, weight, bias)\u001b[0m\n\u001b[1;32m   1690\u001b[0m         \u001b[0mret\u001b[0m \u001b[0;34m=\u001b[0m \u001b[0mtorch\u001b[0m\u001b[0;34m.\u001b[0m\u001b[0maddmm\u001b[0m\u001b[0;34m(\u001b[0m\u001b[0mbias\u001b[0m\u001b[0;34m,\u001b[0m \u001b[0minput\u001b[0m\u001b[0;34m,\u001b[0m \u001b[0mweight\u001b[0m\u001b[0;34m.\u001b[0m\u001b[0mt\u001b[0m\u001b[0;34m(\u001b[0m\u001b[0;34m)\u001b[0m\u001b[0;34m)\u001b[0m\u001b[0;34m\u001b[0m\u001b[0;34m\u001b[0m\u001b[0m\n\u001b[1;32m   1691\u001b[0m     \u001b[0;32melse\u001b[0m\u001b[0;34m:\u001b[0m\u001b[0;34m\u001b[0m\u001b[0;34m\u001b[0m\u001b[0m\n\u001b[0;32m-> 1692\u001b[0;31m         \u001b[0moutput\u001b[0m \u001b[0;34m=\u001b[0m \u001b[0minput\u001b[0m\u001b[0;34m.\u001b[0m\u001b[0mmatmul\u001b[0m\u001b[0;34m(\u001b[0m\u001b[0mweight\u001b[0m\u001b[0;34m.\u001b[0m\u001b[0mt\u001b[0m\u001b[0;34m(\u001b[0m\u001b[0;34m)\u001b[0m\u001b[0;34m)\u001b[0m\u001b[0;34m\u001b[0m\u001b[0;34m\u001b[0m\u001b[0m\n\u001b[0m\u001b[1;32m   1693\u001b[0m         \u001b[0;32mif\u001b[0m \u001b[0mbias\u001b[0m \u001b[0;32mis\u001b[0m \u001b[0;32mnot\u001b[0m \u001b[0;32mNone\u001b[0m\u001b[0;34m:\u001b[0m\u001b[0;34m\u001b[0m\u001b[0;34m\u001b[0m\u001b[0m\n\u001b[1;32m   1694\u001b[0m             \u001b[0moutput\u001b[0m \u001b[0;34m+=\u001b[0m \u001b[0mbias\u001b[0m\u001b[0;34m\u001b[0m\u001b[0;34m\u001b[0m\u001b[0m\n",
            "\u001b[0;31mKeyboardInterrupt\u001b[0m: "
          ]
        }
      ]
    },
    {
      "cell_type": "code",
      "metadata": {
        "colab": {
          "base_uri": "https://localhost:8080/",
          "height": 164
        },
        "id": "HArqV50vQ7IL",
        "outputId": "c963b7a5-e33c-4bcf-fd9b-4d86449fa927"
      },
      "source": [
        "get_quality(test_markup, embeds, test_records, dist_threshold=0.37, print_result=True)"
      ],
      "execution_count": 49,
      "outputs": [
        {
          "output_type": "error",
          "ename": "NameError",
          "evalue": "ignored",
          "traceback": [
            "\u001b[0;31m---------------------------------------------------------------------------\u001b[0m",
            "\u001b[0;31mNameError\u001b[0m                                 Traceback (most recent call last)",
            "\u001b[0;32m<ipython-input-49-106e2b654b71>\u001b[0m in \u001b[0;36m<module>\u001b[0;34m()\u001b[0m\n\u001b[0;32m----> 1\u001b[0;31m \u001b[0mget_quality\u001b[0m\u001b[0;34m(\u001b[0m\u001b[0mtest_markup\u001b[0m\u001b[0;34m,\u001b[0m \u001b[0membeds\u001b[0m\u001b[0;34m,\u001b[0m \u001b[0mtest_records\u001b[0m\u001b[0;34m,\u001b[0m \u001b[0mdist_threshold\u001b[0m\u001b[0;34m=\u001b[0m\u001b[0;36m0.37\u001b[0m\u001b[0;34m,\u001b[0m \u001b[0mprint_result\u001b[0m\u001b[0;34m=\u001b[0m\u001b[0;32mTrue\u001b[0m\u001b[0;34m)\u001b[0m\u001b[0;34m\u001b[0m\u001b[0;34m\u001b[0m\u001b[0m\n\u001b[0m",
            "\u001b[0;31mNameError\u001b[0m: name 'embeds' is not defined"
          ]
        }
      ]
    }
  ]
}