{
  "nbformat": 4,
  "nbformat_minor": 0,
  "metadata": {
    "colab": {
      "name": "Competitive.ipynb",
      "provenance": [],
      "collapsed_sections": [],
      "authorship_tag": "ABX9TyOoZTYV72vvob8A+FFtv0hr",
      "include_colab_link": true
    },
    "kernelspec": {
      "name": "python3",
      "display_name": "Python 3"
    },
    "accelerator": "GPU",
    "widgets": {
      "application/vnd.jupyter.widget-state+json": {
        "8451063a836549ffac58f5dbbbee1b45": {
          "model_module": "@jupyter-widgets/controls",
          "model_name": "HBoxModel",
          "state": {
            "_view_name": "HBoxView",
            "_dom_classes": [],
            "_model_name": "HBoxModel",
            "_view_module": "@jupyter-widgets/controls",
            "_model_module_version": "1.5.0",
            "_view_count": null,
            "_view_module_version": "1.5.0",
            "box_style": "",
            "layout": "IPY_MODEL_95a8f76dccbb49859e91567ec69b9b70",
            "_model_module": "@jupyter-widgets/controls",
            "children": [
              "IPY_MODEL_9a13adf74e834a91b4c0b3a00cc673fe",
              "IPY_MODEL_698e574848e94b2dbc126e0dc34b2f3d"
            ]
          }
        },
        "95a8f76dccbb49859e91567ec69b9b70": {
          "model_module": "@jupyter-widgets/base",
          "model_name": "LayoutModel",
          "state": {
            "_view_name": "LayoutView",
            "grid_template_rows": null,
            "right": null,
            "justify_content": null,
            "_view_module": "@jupyter-widgets/base",
            "overflow": null,
            "_model_module_version": "1.2.0",
            "_view_count": null,
            "flex_flow": null,
            "width": null,
            "min_width": null,
            "border": null,
            "align_items": null,
            "bottom": null,
            "_model_module": "@jupyter-widgets/base",
            "top": null,
            "grid_column": null,
            "overflow_y": null,
            "overflow_x": null,
            "grid_auto_flow": null,
            "grid_area": null,
            "grid_template_columns": null,
            "flex": null,
            "_model_name": "LayoutModel",
            "justify_items": null,
            "grid_row": null,
            "max_height": null,
            "align_content": null,
            "visibility": null,
            "align_self": null,
            "height": null,
            "min_height": null,
            "padding": null,
            "grid_auto_rows": null,
            "grid_gap": null,
            "max_width": null,
            "order": null,
            "_view_module_version": "1.2.0",
            "grid_template_areas": null,
            "object_position": null,
            "object_fit": null,
            "grid_auto_columns": null,
            "margin": null,
            "display": null,
            "left": null
          }
        },
        "9a13adf74e834a91b4c0b3a00cc673fe": {
          "model_module": "@jupyter-widgets/controls",
          "model_name": "FloatProgressModel",
          "state": {
            "_view_name": "ProgressView",
            "style": "IPY_MODEL_c7902ee239de4073961a45a78d562483",
            "_dom_classes": [],
            "description": "100%",
            "_model_name": "FloatProgressModel",
            "bar_style": "success",
            "max": 194,
            "_view_module": "@jupyter-widgets/controls",
            "_model_module_version": "1.5.0",
            "value": 194,
            "_view_count": null,
            "_view_module_version": "1.5.0",
            "orientation": "horizontal",
            "min": 0,
            "description_tooltip": null,
            "_model_module": "@jupyter-widgets/controls",
            "layout": "IPY_MODEL_50697a05b93d4b8a991b38ff09bcc948"
          }
        },
        "698e574848e94b2dbc126e0dc34b2f3d": {
          "model_module": "@jupyter-widgets/controls",
          "model_name": "HTMLModel",
          "state": {
            "_view_name": "HTMLView",
            "style": "IPY_MODEL_5af39a94b27745809cf56443cffeb076",
            "_dom_classes": [],
            "description": "",
            "_model_name": "HTMLModel",
            "placeholder": "​",
            "_view_module": "@jupyter-widgets/controls",
            "_model_module_version": "1.5.0",
            "value": " 194/194 [00:00&lt;00:00, 2154.88it/s]",
            "_view_count": null,
            "_view_module_version": "1.5.0",
            "description_tooltip": null,
            "_model_module": "@jupyter-widgets/controls",
            "layout": "IPY_MODEL_8e9225b87aa94944bc4c281620fee17d"
          }
        },
        "c7902ee239de4073961a45a78d562483": {
          "model_module": "@jupyter-widgets/controls",
          "model_name": "ProgressStyleModel",
          "state": {
            "_view_name": "StyleView",
            "_model_name": "ProgressStyleModel",
            "description_width": "initial",
            "_view_module": "@jupyter-widgets/base",
            "_model_module_version": "1.5.0",
            "_view_count": null,
            "_view_module_version": "1.2.0",
            "bar_color": null,
            "_model_module": "@jupyter-widgets/controls"
          }
        },
        "50697a05b93d4b8a991b38ff09bcc948": {
          "model_module": "@jupyter-widgets/base",
          "model_name": "LayoutModel",
          "state": {
            "_view_name": "LayoutView",
            "grid_template_rows": null,
            "right": null,
            "justify_content": null,
            "_view_module": "@jupyter-widgets/base",
            "overflow": null,
            "_model_module_version": "1.2.0",
            "_view_count": null,
            "flex_flow": null,
            "width": null,
            "min_width": null,
            "border": null,
            "align_items": null,
            "bottom": null,
            "_model_module": "@jupyter-widgets/base",
            "top": null,
            "grid_column": null,
            "overflow_y": null,
            "overflow_x": null,
            "grid_auto_flow": null,
            "grid_area": null,
            "grid_template_columns": null,
            "flex": null,
            "_model_name": "LayoutModel",
            "justify_items": null,
            "grid_row": null,
            "max_height": null,
            "align_content": null,
            "visibility": null,
            "align_self": null,
            "height": null,
            "min_height": null,
            "padding": null,
            "grid_auto_rows": null,
            "grid_gap": null,
            "max_width": null,
            "order": null,
            "_view_module_version": "1.2.0",
            "grid_template_areas": null,
            "object_position": null,
            "object_fit": null,
            "grid_auto_columns": null,
            "margin": null,
            "display": null,
            "left": null
          }
        },
        "5af39a94b27745809cf56443cffeb076": {
          "model_module": "@jupyter-widgets/controls",
          "model_name": "DescriptionStyleModel",
          "state": {
            "_view_name": "StyleView",
            "_model_name": "DescriptionStyleModel",
            "description_width": "",
            "_view_module": "@jupyter-widgets/base",
            "_model_module_version": "1.5.0",
            "_view_count": null,
            "_view_module_version": "1.2.0",
            "_model_module": "@jupyter-widgets/controls"
          }
        },
        "8e9225b87aa94944bc4c281620fee17d": {
          "model_module": "@jupyter-widgets/base",
          "model_name": "LayoutModel",
          "state": {
            "_view_name": "LayoutView",
            "grid_template_rows": null,
            "right": null,
            "justify_content": null,
            "_view_module": "@jupyter-widgets/base",
            "overflow": null,
            "_model_module_version": "1.2.0",
            "_view_count": null,
            "flex_flow": null,
            "width": null,
            "min_width": null,
            "border": null,
            "align_items": null,
            "bottom": null,
            "_model_module": "@jupyter-widgets/base",
            "top": null,
            "grid_column": null,
            "overflow_y": null,
            "overflow_x": null,
            "grid_auto_flow": null,
            "grid_area": null,
            "grid_template_columns": null,
            "flex": null,
            "_model_name": "LayoutModel",
            "justify_items": null,
            "grid_row": null,
            "max_height": null,
            "align_content": null,
            "visibility": null,
            "align_self": null,
            "height": null,
            "min_height": null,
            "padding": null,
            "grid_auto_rows": null,
            "grid_gap": null,
            "max_width": null,
            "order": null,
            "_view_module_version": "1.2.0",
            "grid_template_areas": null,
            "object_position": null,
            "object_fit": null,
            "grid_auto_columns": null,
            "margin": null,
            "display": null,
            "left": null
          }
        },
        "152a49942f4447df949db72f6299beec": {
          "model_module": "@jupyter-widgets/controls",
          "model_name": "HBoxModel",
          "state": {
            "_view_name": "HBoxView",
            "_dom_classes": [],
            "_model_name": "HBoxModel",
            "_view_module": "@jupyter-widgets/controls",
            "_model_module_version": "1.5.0",
            "_view_count": null,
            "_view_module_version": "1.5.0",
            "box_style": "",
            "layout": "IPY_MODEL_33641626ce9045909fc0ee6e9f50e054",
            "_model_module": "@jupyter-widgets/controls",
            "children": [
              "IPY_MODEL_89c0dd09e9dd486880cfe6a32418451d",
              "IPY_MODEL_b82fbf3325b04fd7aa45ce61ad44c5f0"
            ]
          }
        },
        "33641626ce9045909fc0ee6e9f50e054": {
          "model_module": "@jupyter-widgets/base",
          "model_name": "LayoutModel",
          "state": {
            "_view_name": "LayoutView",
            "grid_template_rows": null,
            "right": null,
            "justify_content": null,
            "_view_module": "@jupyter-widgets/base",
            "overflow": null,
            "_model_module_version": "1.2.0",
            "_view_count": null,
            "flex_flow": null,
            "width": null,
            "min_width": null,
            "border": null,
            "align_items": null,
            "bottom": null,
            "_model_module": "@jupyter-widgets/base",
            "top": null,
            "grid_column": null,
            "overflow_y": null,
            "overflow_x": null,
            "grid_auto_flow": null,
            "grid_area": null,
            "grid_template_columns": null,
            "flex": null,
            "_model_name": "LayoutModel",
            "justify_items": null,
            "grid_row": null,
            "max_height": null,
            "align_content": null,
            "visibility": null,
            "align_self": null,
            "height": null,
            "min_height": null,
            "padding": null,
            "grid_auto_rows": null,
            "grid_gap": null,
            "max_width": null,
            "order": null,
            "_view_module_version": "1.2.0",
            "grid_template_areas": null,
            "object_position": null,
            "object_fit": null,
            "grid_auto_columns": null,
            "margin": null,
            "display": null,
            "left": null
          }
        },
        "89c0dd09e9dd486880cfe6a32418451d": {
          "model_module": "@jupyter-widgets/controls",
          "model_name": "FloatProgressModel",
          "state": {
            "_view_name": "ProgressView",
            "style": "IPY_MODEL_5bddaadb18c842c3bb10c52afecc3603",
            "_dom_classes": [],
            "description": "",
            "_model_name": "FloatProgressModel",
            "bar_style": "success",
            "max": 1,
            "_view_module": "@jupyter-widgets/controls",
            "_model_module_version": "1.5.0",
            "value": 1,
            "_view_count": null,
            "_view_module_version": "1.5.0",
            "orientation": "horizontal",
            "min": 0,
            "description_tooltip": null,
            "_model_module": "@jupyter-widgets/controls",
            "layout": "IPY_MODEL_47672ecf26f64d10befa7d180ef78b8f"
          }
        },
        "b82fbf3325b04fd7aa45ce61ad44c5f0": {
          "model_module": "@jupyter-widgets/controls",
          "model_name": "HTMLModel",
          "state": {
            "_view_name": "HTMLView",
            "style": "IPY_MODEL_63fb44b147cf4864a2a0f72987c4fd9e",
            "_dom_classes": [],
            "description": "",
            "_model_name": "HTMLModel",
            "placeholder": "​",
            "_view_module": "@jupyter-widgets/controls",
            "_model_module_version": "1.5.0",
            "value": " 19380/? [06:17&lt;00:00, 51.36it/s]",
            "_view_count": null,
            "_view_module_version": "1.5.0",
            "description_tooltip": null,
            "_model_module": "@jupyter-widgets/controls",
            "layout": "IPY_MODEL_b30c7589ff7d47d88d9b453f1673b515"
          }
        },
        "5bddaadb18c842c3bb10c52afecc3603": {
          "model_module": "@jupyter-widgets/controls",
          "model_name": "ProgressStyleModel",
          "state": {
            "_view_name": "StyleView",
            "_model_name": "ProgressStyleModel",
            "description_width": "initial",
            "_view_module": "@jupyter-widgets/base",
            "_model_module_version": "1.5.0",
            "_view_count": null,
            "_view_module_version": "1.2.0",
            "bar_color": null,
            "_model_module": "@jupyter-widgets/controls"
          }
        },
        "47672ecf26f64d10befa7d180ef78b8f": {
          "model_module": "@jupyter-widgets/base",
          "model_name": "LayoutModel",
          "state": {
            "_view_name": "LayoutView",
            "grid_template_rows": null,
            "right": null,
            "justify_content": null,
            "_view_module": "@jupyter-widgets/base",
            "overflow": null,
            "_model_module_version": "1.2.0",
            "_view_count": null,
            "flex_flow": null,
            "width": null,
            "min_width": null,
            "border": null,
            "align_items": null,
            "bottom": null,
            "_model_module": "@jupyter-widgets/base",
            "top": null,
            "grid_column": null,
            "overflow_y": null,
            "overflow_x": null,
            "grid_auto_flow": null,
            "grid_area": null,
            "grid_template_columns": null,
            "flex": null,
            "_model_name": "LayoutModel",
            "justify_items": null,
            "grid_row": null,
            "max_height": null,
            "align_content": null,
            "visibility": null,
            "align_self": null,
            "height": null,
            "min_height": null,
            "padding": null,
            "grid_auto_rows": null,
            "grid_gap": null,
            "max_width": null,
            "order": null,
            "_view_module_version": "1.2.0",
            "grid_template_areas": null,
            "object_position": null,
            "object_fit": null,
            "grid_auto_columns": null,
            "margin": null,
            "display": null,
            "left": null
          }
        },
        "63fb44b147cf4864a2a0f72987c4fd9e": {
          "model_module": "@jupyter-widgets/controls",
          "model_name": "DescriptionStyleModel",
          "state": {
            "_view_name": "StyleView",
            "_model_name": "DescriptionStyleModel",
            "description_width": "",
            "_view_module": "@jupyter-widgets/base",
            "_model_module_version": "1.5.0",
            "_view_count": null,
            "_view_module_version": "1.2.0",
            "_model_module": "@jupyter-widgets/controls"
          }
        },
        "b30c7589ff7d47d88d9b453f1673b515": {
          "model_module": "@jupyter-widgets/base",
          "model_name": "LayoutModel",
          "state": {
            "_view_name": "LayoutView",
            "grid_template_rows": null,
            "right": null,
            "justify_content": null,
            "_view_module": "@jupyter-widgets/base",
            "overflow": null,
            "_model_module_version": "1.2.0",
            "_view_count": null,
            "flex_flow": null,
            "width": null,
            "min_width": null,
            "border": null,
            "align_items": null,
            "bottom": null,
            "_model_module": "@jupyter-widgets/base",
            "top": null,
            "grid_column": null,
            "overflow_y": null,
            "overflow_x": null,
            "grid_auto_flow": null,
            "grid_area": null,
            "grid_template_columns": null,
            "flex": null,
            "_model_name": "LayoutModel",
            "justify_items": null,
            "grid_row": null,
            "max_height": null,
            "align_content": null,
            "visibility": null,
            "align_self": null,
            "height": null,
            "min_height": null,
            "padding": null,
            "grid_auto_rows": null,
            "grid_gap": null,
            "max_width": null,
            "order": null,
            "_view_module_version": "1.2.0",
            "grid_template_areas": null,
            "object_position": null,
            "object_fit": null,
            "grid_auto_columns": null,
            "margin": null,
            "display": null,
            "left": null
          }
        }
      }
    }
  },
  "cells": [
    {
      "cell_type": "markdown",
      "metadata": {
        "id": "view-in-github",
        "colab_type": "text"
      },
      "source": [
        "<a href=\"https://colab.research.google.com/github/alimadelshin/competitive/blob/main/Competitive.ipynb\" target=\"_parent\"><img src=\"https://colab.research.google.com/assets/colab-badge.svg\" alt=\"Open In Colab\"/></a>"
      ]
    },
    {
      "cell_type": "markdown",
      "metadata": {
        "id": "SjB-EYFl7htk"
      },
      "source": [
        "# Preprocessing\r\n"
      ]
    },
    {
      "cell_type": "code",
      "metadata": {
        "colab": {
          "base_uri": "https://localhost:8080/"
        },
        "id": "eVcaPlM_3m6b",
        "outputId": "f14b9a9f-47e3-407a-f5cf-a54d5451d696"
      },
      "source": [
        "!git clone https://github.com/IlyaGusev/purano"
      ],
      "execution_count": 1,
      "outputs": [
        {
          "output_type": "stream",
          "text": [
            "Cloning into 'purano'...\n",
            "remote: Enumerating objects: 251, done.\u001b[K\n",
            "remote: Counting objects: 100% (251/251), done.\u001b[K\n",
            "remote: Compressing objects: 100% (177/177), done.\u001b[K\n",
            "remote: Total 987 (delta 118), reused 180 (delta 70), pack-reused 736\u001b[K\n",
            "Receiving objects: 100% (987/987), 1.24 MiB | 28.93 MiB/s, done.\n",
            "Resolving deltas: 100% (528/528), done.\n"
          ],
          "name": "stdout"
        }
      ]
    },
    {
      "cell_type": "code",
      "metadata": {
        "colab": {
          "base_uri": "https://localhost:8080/"
        },
        "id": "DseAf1c633wM",
        "outputId": "c34259b6-3763-4a43-a5bf-0a04e8d2bbd0"
      },
      "source": [
        "%cd purano"
      ],
      "execution_count": 2,
      "outputs": [
        {
          "output_type": "stream",
          "text": [
            "/content/purano\n"
          ],
          "name": "stdout"
        }
      ]
    },
    {
      "cell_type": "code",
      "metadata": {
        "colab": {
          "base_uri": "https://localhost:8080/",
          "height": 1000
        },
        "id": "mc8g3ghZ36GP",
        "outputId": "9584f08c-851c-4dc5-a1f1-541e4506e611"
      },
      "source": [
        "!pip install -r requirements.txt\r\n",
        "!pip install pip install sentence-transformers"
      ],
      "execution_count": 3,
      "outputs": [
        {
          "output_type": "stream",
          "text": [
            "Collecting numpy<1.19.0,>=1.16.0\n",
            "\u001b[?25l  Downloading https://files.pythonhosted.org/packages/d6/c6/58e517e8b1fb192725cfa23c01c2e60e4e6699314ee9684a1c5f5c9b27e1/numpy-1.18.5-cp37-cp37m-manylinux1_x86_64.whl (20.1MB)\n",
            "\u001b[K     |████████████████████████████████| 20.1MB 1.4MB/s \n",
            "\u001b[?25hRequirement already satisfied: pandas>=0.24.0 in /usr/local/lib/python3.7/dist-packages (from -r requirements.txt (line 6)) (1.1.5)\n",
            "Requirement already satisfied: scikit-learn>=0.21.0 in /usr/local/lib/python3.7/dist-packages (from -r requirements.txt (line 7)) (0.22.2.post1)\n",
            "Collecting hyperopt>=0.2.5\n",
            "\u001b[?25l  Downloading https://files.pythonhosted.org/packages/a6/07/bd524635d218adae139be320eeac87fb4fbbd45c63b0bd58930c9e91f1fc/hyperopt-0.2.5-py2.py3-none-any.whl (965kB)\n",
            "\u001b[K     |████████████████████████████████| 972kB 51.5MB/s \n",
            "\u001b[?25hCollecting neptune-client>=0.4.125\n",
            "\u001b[?25l  Downloading https://files.pythonhosted.org/packages/49/1a/a3ad339640f7bd73118b9afeeb4b411ae82c149d258c013075f603e118ef/neptune-client-0.5.1.tar.gz (115kB)\n",
            "\u001b[K     |████████████████████████████████| 122kB 55.6MB/s \n",
            "\u001b[?25hRequirement already satisfied: torch>=1.5.0 in /usr/local/lib/python3.7/dist-packages (from -r requirements.txt (line 12)) (1.7.1+cu101)\n",
            "Collecting pytorch_lightning>=1.0.5\n",
            "\u001b[?25l  Downloading https://files.pythonhosted.org/packages/55/8f/d3379dd306635467637c5516b3a1656a5f651dbf2abe3fd0a7636c18ed3c/pytorch_lightning-1.2.1-py3-none-any.whl (814kB)\n",
            "\u001b[K     |████████████████████████████████| 819kB 45.8MB/s \n",
            "\u001b[?25hRequirement already satisfied: tensorboard>=2.4 in /usr/local/lib/python3.7/dist-packages (from -r requirements.txt (line 14)) (2.4.1)\n",
            "Collecting tensorboardX>=2.1\n",
            "\u001b[?25l  Downloading https://files.pythonhosted.org/packages/af/0c/4f41bcd45db376e6fe5c619c01100e9b7531c55791b7244815bac6eac32c/tensorboardX-2.1-py2.py3-none-any.whl (308kB)\n",
            "\u001b[K     |████████████████████████████████| 317kB 58.6MB/s \n",
            "\u001b[?25hCollecting transformers==3.4.0\n",
            "\u001b[?25l  Downloading https://files.pythonhosted.org/packages/2c/4e/4f1ede0fd7a36278844a277f8d53c21f88f37f3754abf76a5d6224f76d4a/transformers-3.4.0-py3-none-any.whl (1.3MB)\n",
            "\u001b[K     |████████████████████████████████| 1.3MB 50.5MB/s \n",
            "\u001b[?25hRequirement already satisfied: python-dateutil>=2.8.1 in /usr/local/lib/python3.7/dist-packages (from -r requirements.txt (line 19)) (2.8.1)\n",
            "Collecting jsonnet>=0.10.0\n",
            "\u001b[?25l  Downloading https://files.pythonhosted.org/packages/42/40/6f16e5ac994b16fa71c24310f97174ce07d3a97b433275589265c6b94d2b/jsonnet-0.17.0.tar.gz (259kB)\n",
            "\u001b[K     |████████████████████████████████| 266kB 58.5MB/s \n",
            "\u001b[?25hRequirement already satisfied: sqlalchemy>=1.2.0 in /usr/local/lib/python3.7/dist-packages (from -r requirements.txt (line 21)) (1.3.23)\n",
            "Requirement already satisfied: protobuf>=3.10.0 in /usr/local/lib/python3.7/dist-packages (from -r requirements.txt (line 22)) (3.12.4)\n",
            "Requirement already satisfied: flask>=1.1.1 in /usr/local/lib/python3.7/dist-packages (from -r requirements.txt (line 23)) (1.1.2)\n",
            "Collecting flask-sqlalchemy>=2.4.4\n",
            "  Downloading https://files.pythonhosted.org/packages/af/4b/3dd83c3e2c6e3034b804d971952e0120606506f153990cc56d2d33173b72/Flask_SQLAlchemy-2.4.4-py2.py3-none-any.whl\n",
            "Requirement already satisfied: nltk>=3.2.5 in /usr/local/lib/python3.7/dist-packages (from -r requirements.txt (line 27)) (3.2.5)\n",
            "Collecting pyonmttok>=1.22.1\n",
            "\u001b[?25l  Downloading https://files.pythonhosted.org/packages/5f/aa/eaf0eaee095a5d42b6ed9fa969c8a37085e059f71efb1e55cb220e245437/pyonmttok-1.24.0-cp37-cp37m-manylinux1_x86_64.whl (2.6MB)\n",
            "\u001b[K     |████████████████████████████████| 2.6MB 45.4MB/s \n",
            "\u001b[?25hCollecting fasttext>=0.9.1\n",
            "\u001b[?25l  Downloading https://files.pythonhosted.org/packages/f8/85/e2b368ab6d3528827b147fdb814f8189acc981a4bc2f99ab894650e05c40/fasttext-0.9.2.tar.gz (68kB)\n",
            "\u001b[K     |████████████████████████████████| 71kB 11.7MB/s \n",
            "\u001b[?25hCollecting slovnet==0.4.0\n",
            "\u001b[?25l  Downloading https://files.pythonhosted.org/packages/c2/6f/1c989335c9969421f771e4f0410ba70d82fe992ec9f3cbac9f432d8f5733/slovnet-0.4.0-py3-none-any.whl (49kB)\n",
            "\u001b[K     |████████████████████████████████| 51kB 8.8MB/s \n",
            "\u001b[?25hCollecting pymorphy2[fast]==0.9.1\n",
            "\u001b[?25l  Downloading https://files.pythonhosted.org/packages/07/57/b2ff2fae3376d4f3c697b9886b64a54b476e1a332c67eee9f88e7f1ae8c9/pymorphy2-0.9.1-py3-none-any.whl (55kB)\n",
            "\u001b[K     |████████████████████████████████| 61kB 11.4MB/s \n",
            "\u001b[?25hRequirement already satisfied: jupyter>=1.0.0 in /usr/local/lib/python3.7/dist-packages (from -r requirements.txt (line 34)) (1.0.0)\n",
            "Collecting ipymarkup>=0.5.0\n",
            "  Downloading https://files.pythonhosted.org/packages/bf/9b/bf54c98d50735a4a7c84c71e92c5361730c878ebfe903d2c2d196ef66055/ipymarkup-0.9.0-py3-none-any.whl\n",
            "Collecting pyinstrument==3.2.0\n",
            "\u001b[?25l  Downloading https://files.pythonhosted.org/packages/6b/78/f934ffb71299e66bce3bb18d251b347c3777970d36fdf5a1f5486cd584ff/pyinstrument-3.2.0-py2.py3-none-any.whl (85kB)\n",
            "\u001b[K     |████████████████████████████████| 92kB 13.3MB/s \n",
            "\u001b[?25hCollecting hnswlib==0.4.0\n",
            "  Downloading https://files.pythonhosted.org/packages/97/f0/2fa53f02227df57a566a0f25b910066a50fa0cb12ee120717770d657aabd/hnswlib-0.4.0.tar.gz\n",
            "Requirement already satisfied: pytz>=2017.2 in /usr/local/lib/python3.7/dist-packages (from pandas>=0.24.0->-r requirements.txt (line 6)) (2018.9)\n",
            "Requirement already satisfied: scipy>=0.17.0 in /usr/local/lib/python3.7/dist-packages (from scikit-learn>=0.21.0->-r requirements.txt (line 7)) (1.4.1)\n",
            "Requirement already satisfied: joblib>=0.11 in /usr/local/lib/python3.7/dist-packages (from scikit-learn>=0.21.0->-r requirements.txt (line 7)) (1.0.1)\n",
            "Requirement already satisfied: networkx>=2.2 in /usr/local/lib/python3.7/dist-packages (from hyperopt>=0.2.5->-r requirements.txt (line 8)) (2.5)\n",
            "Requirement already satisfied: future in /usr/local/lib/python3.7/dist-packages (from hyperopt>=0.2.5->-r requirements.txt (line 8)) (0.16.0)\n",
            "Requirement already satisfied: tqdm in /usr/local/lib/python3.7/dist-packages (from hyperopt>=0.2.5->-r requirements.txt (line 8)) (4.41.1)\n",
            "Requirement already satisfied: six in /usr/local/lib/python3.7/dist-packages (from hyperopt>=0.2.5->-r requirements.txt (line 8)) (1.15.0)\n",
            "Requirement already satisfied: cloudpickle in /usr/local/lib/python3.7/dist-packages (from hyperopt>=0.2.5->-r requirements.txt (line 8)) (1.3.0)\n",
            "Collecting bravado\n",
            "  Downloading https://files.pythonhosted.org/packages/6d/3d/f8772d9295c03e08a9ab4afc1ccd195efe6cb4d1af3135b7f74eb8beb0d6/bravado-11.0.2-py2.py3-none-any.whl\n",
            "Requirement already satisfied: click>=7.0 in /usr/local/lib/python3.7/dist-packages (from neptune-client>=0.4.125->-r requirements.txt (line 9)) (7.1.2)\n",
            "Requirement already satisfied: oauthlib>=2.1.0 in /usr/local/lib/python3.7/dist-packages (from neptune-client>=0.4.125->-r requirements.txt (line 9)) (3.1.0)\n",
            "Requirement already satisfied: Pillow>=1.1.6 in /usr/local/lib/python3.7/dist-packages (from neptune-client>=0.4.125->-r requirements.txt (line 9)) (7.0.0)\n",
            "Collecting PyJWT\n",
            "  Downloading https://files.pythonhosted.org/packages/b4/9b/8850f99027ed029af6828199cc87179eaccbbf1f9e6e373e7f0177d32dad/PyJWT-2.0.1-py3-none-any.whl\n",
            "Requirement already satisfied: requests>=2.20.0 in /usr/local/lib/python3.7/dist-packages (from neptune-client>=0.4.125->-r requirements.txt (line 9)) (2.23.0)\n",
            "Requirement already satisfied: requests-oauthlib>=1.0.0 in /usr/local/lib/python3.7/dist-packages (from neptune-client>=0.4.125->-r requirements.txt (line 9)) (1.3.0)\n",
            "Collecting websocket-client>=0.35.0\n",
            "\u001b[?25l  Downloading https://files.pythonhosted.org/packages/4c/5f/f61b420143ed1c8dc69f9eaec5ff1ac36109d52c80de49d66e0c36c3dfdf/websocket_client-0.57.0-py2.py3-none-any.whl (200kB)\n",
            "\u001b[K     |████████████████████████████████| 204kB 46.8MB/s \n",
            "\u001b[?25hCollecting GitPython>=2.0.8\n",
            "\u001b[?25l  Downloading https://files.pythonhosted.org/packages/fb/67/47a04d8a9d7f94645676fe683f1ee3fe9be01fe407686c180768a92abaac/GitPython-3.1.13-py3-none-any.whl (159kB)\n",
            "\u001b[K     |████████████████████████████████| 163kB 55.6MB/s \n",
            "\u001b[?25hRequirement already satisfied: packaging in /usr/local/lib/python3.7/dist-packages (from neptune-client>=0.4.125->-r requirements.txt (line 9)) (20.9)\n",
            "Requirement already satisfied: typing-extensions in /usr/local/lib/python3.7/dist-packages (from torch>=1.5.0->-r requirements.txt (line 12)) (3.7.4.3)\n",
            "Collecting PyYAML!=5.4.*,>=5.1\n",
            "\u001b[?25l  Downloading https://files.pythonhosted.org/packages/64/c2/b80047c7ac2478f9501676c988a5411ed5572f35d1beff9cae07d321512c/PyYAML-5.3.1.tar.gz (269kB)\n",
            "\u001b[K     |████████████████████████████████| 276kB 60.1MB/s \n",
            "\u001b[?25hCollecting fsspec[http]>=0.8.1\n",
            "\u001b[?25l  Downloading https://files.pythonhosted.org/packages/91/0d/a6bfee0ddf47b254286b9bd574e6f50978c69897647ae15b14230711806e/fsspec-0.8.7-py3-none-any.whl (103kB)\n",
            "\u001b[K     |████████████████████████████████| 112kB 53.5MB/s \n",
            "\u001b[?25hRequirement already satisfied: grpcio>=1.24.3 in /usr/local/lib/python3.7/dist-packages (from tensorboard>=2.4->-r requirements.txt (line 14)) (1.32.0)\n",
            "Requirement already satisfied: google-auth-oauthlib<0.5,>=0.4.1 in /usr/local/lib/python3.7/dist-packages (from tensorboard>=2.4->-r requirements.txt (line 14)) (0.4.2)\n",
            "Requirement already satisfied: setuptools>=41.0.0 in /usr/local/lib/python3.7/dist-packages (from tensorboard>=2.4->-r requirements.txt (line 14)) (53.0.0)\n",
            "Requirement already satisfied: absl-py>=0.4 in /usr/local/lib/python3.7/dist-packages (from tensorboard>=2.4->-r requirements.txt (line 14)) (0.10.0)\n",
            "Requirement already satisfied: tensorboard-plugin-wit>=1.6.0 in /usr/local/lib/python3.7/dist-packages (from tensorboard>=2.4->-r requirements.txt (line 14)) (1.8.0)\n",
            "Requirement already satisfied: markdown>=2.6.8 in /usr/local/lib/python3.7/dist-packages (from tensorboard>=2.4->-r requirements.txt (line 14)) (3.3.4)\n",
            "Requirement already satisfied: werkzeug>=0.11.15 in /usr/local/lib/python3.7/dist-packages (from tensorboard>=2.4->-r requirements.txt (line 14)) (1.0.1)\n",
            "Requirement already satisfied: google-auth<2,>=1.6.3 in /usr/local/lib/python3.7/dist-packages (from tensorboard>=2.4->-r requirements.txt (line 14)) (1.27.0)\n",
            "Requirement already satisfied: wheel>=0.26; python_version >= \"3\" in /usr/local/lib/python3.7/dist-packages (from tensorboard>=2.4->-r requirements.txt (line 14)) (0.36.2)\n",
            "Collecting tokenizers==0.9.2\n",
            "\u001b[?25l  Downloading https://files.pythonhosted.org/packages/35/e7/edf655ae34925aeaefb7b7fcc3dd0887d2a1203ee6b0df4d1170d1a19d4f/tokenizers-0.9.2-cp37-cp37m-manylinux1_x86_64.whl (2.9MB)\n",
            "\u001b[K     |████████████████████████████████| 2.9MB 51.0MB/s \n",
            "\u001b[?25hRequirement already satisfied: filelock in /usr/local/lib/python3.7/dist-packages (from transformers==3.4.0->-r requirements.txt (line 16)) (3.0.12)\n",
            "Collecting sacremoses\n",
            "\u001b[?25l  Downloading https://files.pythonhosted.org/packages/7d/34/09d19aff26edcc8eb2a01bed8e98f13a1537005d31e95233fd48216eed10/sacremoses-0.0.43.tar.gz (883kB)\n",
            "\u001b[K     |████████████████████████████████| 890kB 45.7MB/s \n",
            "\u001b[?25hCollecting sentencepiece!=0.1.92\n",
            "\u001b[?25l  Downloading https://files.pythonhosted.org/packages/f5/99/e0808cb947ba10f575839c43e8fafc9cc44e4a7a2c8f79c60db48220a577/sentencepiece-0.1.95-cp37-cp37m-manylinux2014_x86_64.whl (1.2MB)\n",
            "\u001b[K     |████████████████████████████████| 1.2MB 39.6MB/s \n",
            "\u001b[?25hRequirement already satisfied: regex!=2019.12.17 in /usr/local/lib/python3.7/dist-packages (from transformers==3.4.0->-r requirements.txt (line 16)) (2019.12.20)\n",
            "Requirement already satisfied: itsdangerous>=0.24 in /usr/local/lib/python3.7/dist-packages (from flask>=1.1.1->-r requirements.txt (line 23)) (1.1.0)\n",
            "Requirement already satisfied: Jinja2>=2.10.1 in /usr/local/lib/python3.7/dist-packages (from flask>=1.1.1->-r requirements.txt (line 23)) (2.11.3)\n",
            "Requirement already satisfied: pybind11>=2.2 in /usr/local/lib/python3.7/dist-packages (from fasttext>=0.9.1->-r requirements.txt (line 29)) (2.6.2)\n",
            "Collecting navec\n",
            "  Downloading https://files.pythonhosted.org/packages/bc/c1/771ec5565f0ce24874d7fd325b429f9caa80517a40d2e4ce5705120591f3/navec-0.10.0-py3-none-any.whl\n",
            "Collecting razdel\n",
            "  Downloading https://files.pythonhosted.org/packages/15/2c/664223a3924aa6e70479f7d37220b3a658765b9cfe760b4af7ffdc50d38f/razdel-0.5.0-py3-none-any.whl\n",
            "Requirement already satisfied: docopt>=0.6 in /usr/local/lib/python3.7/dist-packages (from pymorphy2[fast]==0.9.1->-r requirements.txt (line 31)) (0.6.2)\n",
            "Collecting dawg-python>=0.7.1\n",
            "  Downloading https://files.pythonhosted.org/packages/6a/84/ff1ce2071d4c650ec85745766c0047ccc3b5036f1d03559fd46bb38b5eeb/DAWG_Python-0.7.2-py2.py3-none-any.whl\n",
            "Collecting pymorphy2-dicts-ru<3.0,>=2.4\n",
            "\u001b[?25l  Downloading https://files.pythonhosted.org/packages/3a/79/bea0021eeb7eeefde22ef9e96badf174068a2dd20264b9a378f2be1cdd9e/pymorphy2_dicts_ru-2.4.417127.4579844-py2.py3-none-any.whl (8.2MB)\n",
            "\u001b[K     |████████████████████████████████| 8.2MB 18.7MB/s \n",
            "\u001b[?25hCollecting DAWG>=0.8; extra == \"fast\"\n",
            "\u001b[?25l  Downloading https://files.pythonhosted.org/packages/b8/ef/91b619a399685f7a0a95a03628006ba814d96293bbbbed234ee66fbdefd9/DAWG-0.8.0.tar.gz (371kB)\n",
            "\u001b[K     |████████████████████████████████| 378kB 56.8MB/s \n",
            "\u001b[?25hRequirement already satisfied: notebook in /usr/local/lib/python3.7/dist-packages (from jupyter>=1.0.0->-r requirements.txt (line 34)) (5.3.1)\n",
            "Requirement already satisfied: ipywidgets in /usr/local/lib/python3.7/dist-packages (from jupyter>=1.0.0->-r requirements.txt (line 34)) (7.6.3)\n",
            "Requirement already satisfied: ipykernel in /usr/local/lib/python3.7/dist-packages (from jupyter>=1.0.0->-r requirements.txt (line 34)) (4.10.1)\n",
            "Requirement already satisfied: nbconvert in /usr/local/lib/python3.7/dist-packages (from jupyter>=1.0.0->-r requirements.txt (line 34)) (5.6.1)\n",
            "Requirement already satisfied: qtconsole in /usr/local/lib/python3.7/dist-packages (from jupyter>=1.0.0->-r requirements.txt (line 34)) (5.0.2)\n",
            "Requirement already satisfied: jupyter-console in /usr/local/lib/python3.7/dist-packages (from jupyter>=1.0.0->-r requirements.txt (line 34)) (5.2.0)\n",
            "Collecting intervaltree>=3\n",
            "  Downloading https://files.pythonhosted.org/packages/50/fb/396d568039d21344639db96d940d40eb62befe704ef849b27949ded5c3bb/intervaltree-3.1.0.tar.gz\n",
            "Collecting pyinstrument-cext>=0.2.2\n",
            "  Downloading https://files.pythonhosted.org/packages/65/34/a6499005d697f8e17902954dccfff4f62c0d0802bd67c7e98cdf859b9e9f/pyinstrument_cext-0.2.4-cp37-cp37m-manylinux2010_x86_64.whl\n",
            "Requirement already satisfied: decorator>=4.3.0 in /usr/local/lib/python3.7/dist-packages (from networkx>=2.2->hyperopt>=0.2.5->-r requirements.txt (line 8)) (4.4.2)\n",
            "Collecting simplejson\n",
            "\u001b[?25l  Downloading https://files.pythonhosted.org/packages/a8/04/377418ac1e530ce2a196b54c6552c018fdf1fe776718053efb1f216bffcd/simplejson-3.17.2-cp37-cp37m-manylinux2010_x86_64.whl (128kB)\n",
            "\u001b[K     |████████████████████████████████| 133kB 57.9MB/s \n",
            "\u001b[?25hRequirement already satisfied: msgpack in /usr/local/lib/python3.7/dist-packages (from bravado->neptune-client>=0.4.125->-r requirements.txt (line 9)) (1.0.2)\n",
            "Collecting monotonic\n",
            "  Downloading https://files.pythonhosted.org/packages/ac/aa/063eca6a416f397bd99552c534c6d11d57f58f2e94c14780f3bbf818c4cf/monotonic-1.5-py2.py3-none-any.whl\n",
            "Collecting bravado-core>=5.16.1\n",
            "\u001b[?25l  Downloading https://files.pythonhosted.org/packages/76/11/18e9d28a156c33f2d5f15a5e155dc7130250acb0a569255a2b6b307b596d/bravado_core-5.17.0-py2.py3-none-any.whl (67kB)\n",
            "\u001b[K     |████████████████████████████████| 71kB 9.6MB/s \n",
            "\u001b[?25hRequirement already satisfied: chardet<4,>=3.0.2 in /usr/local/lib/python3.7/dist-packages (from requests>=2.20.0->neptune-client>=0.4.125->-r requirements.txt (line 9)) (3.0.4)\n",
            "Requirement already satisfied: certifi>=2017.4.17 in /usr/local/lib/python3.7/dist-packages (from requests>=2.20.0->neptune-client>=0.4.125->-r requirements.txt (line 9)) (2020.12.5)\n",
            "Requirement already satisfied: idna<3,>=2.5 in /usr/local/lib/python3.7/dist-packages (from requests>=2.20.0->neptune-client>=0.4.125->-r requirements.txt (line 9)) (2.10)\n",
            "Requirement already satisfied: urllib3!=1.25.0,!=1.25.1,<1.26,>=1.21.1 in /usr/local/lib/python3.7/dist-packages (from requests>=2.20.0->neptune-client>=0.4.125->-r requirements.txt (line 9)) (1.24.3)\n",
            "Collecting gitdb<5,>=4.0.1\n",
            "\u001b[?25l  Downloading https://files.pythonhosted.org/packages/48/11/d1800bca0a3bae820b84b7d813ad1eff15a48a64caea9c823fc8c1b119e8/gitdb-4.0.5-py3-none-any.whl (63kB)\n",
            "\u001b[K     |████████████████████████████████| 71kB 11.1MB/s \n",
            "\u001b[?25hRequirement already satisfied: pyparsing>=2.0.2 in /usr/local/lib/python3.7/dist-packages (from packaging->neptune-client>=0.4.125->-r requirements.txt (line 9)) (2.4.7)\n",
            "Requirement already satisfied: importlib-metadata; python_version < \"3.8\" in /usr/local/lib/python3.7/dist-packages (from fsspec[http]>=0.8.1->pytorch_lightning>=1.0.5->-r requirements.txt (line 13)) (3.7.0)\n",
            "Collecting aiohttp; extra == \"http\"\n",
            "\u001b[?25l  Downloading https://files.pythonhosted.org/packages/5b/a6/d36302eba284f4f427dc288f6b3ecd7f89d739cfca206b80311d3158f6d9/aiohttp-3.7.4-cp37-cp37m-manylinux2014_x86_64.whl (1.3MB)\n",
            "\u001b[K     |████████████████████████████████| 1.3MB 43.2MB/s \n",
            "\u001b[?25hRequirement already satisfied: cachetools<5.0,>=2.0.0 in /usr/local/lib/python3.7/dist-packages (from google-auth<2,>=1.6.3->tensorboard>=2.4->-r requirements.txt (line 14)) (4.2.1)\n",
            "Requirement already satisfied: rsa<5,>=3.1.4; python_version >= \"3.6\" in /usr/local/lib/python3.7/dist-packages (from google-auth<2,>=1.6.3->tensorboard>=2.4->-r requirements.txt (line 14)) (4.7.2)\n",
            "Requirement already satisfied: pyasn1-modules>=0.2.1 in /usr/local/lib/python3.7/dist-packages (from google-auth<2,>=1.6.3->tensorboard>=2.4->-r requirements.txt (line 14)) (0.2.8)\n",
            "Requirement already satisfied: MarkupSafe>=0.23 in /usr/local/lib/python3.7/dist-packages (from Jinja2>=2.10.1->flask>=1.1.1->-r requirements.txt (line 23)) (1.1.1)\n",
            "Requirement already satisfied: traitlets>=4.2.1 in /usr/local/lib/python3.7/dist-packages (from notebook->jupyter>=1.0.0->-r requirements.txt (line 34)) (5.0.5)\n",
            "Requirement already satisfied: jupyter-client>=5.2.0 in /usr/local/lib/python3.7/dist-packages (from notebook->jupyter>=1.0.0->-r requirements.txt (line 34)) (5.3.5)\n",
            "Requirement already satisfied: jupyter-core>=4.4.0 in /usr/local/lib/python3.7/dist-packages (from notebook->jupyter>=1.0.0->-r requirements.txt (line 34)) (4.7.1)\n",
            "Requirement already satisfied: tornado>=4 in /usr/local/lib/python3.7/dist-packages (from notebook->jupyter>=1.0.0->-r requirements.txt (line 34)) (5.1.1)\n",
            "Requirement already satisfied: terminado>=0.8.1 in /usr/local/lib/python3.7/dist-packages (from notebook->jupyter>=1.0.0->-r requirements.txt (line 34)) (0.9.2)\n",
            "Requirement already satisfied: Send2Trash in /usr/local/lib/python3.7/dist-packages (from notebook->jupyter>=1.0.0->-r requirements.txt (line 34)) (1.5.0)\n",
            "Requirement already satisfied: ipython-genutils in /usr/local/lib/python3.7/dist-packages (from notebook->jupyter>=1.0.0->-r requirements.txt (line 34)) (0.2.0)\n",
            "Requirement already satisfied: nbformat in /usr/local/lib/python3.7/dist-packages (from notebook->jupyter>=1.0.0->-r requirements.txt (line 34)) (5.1.2)\n",
            "Requirement already satisfied: ipython>=4.0.0; python_version >= \"3.3\" in /usr/local/lib/python3.7/dist-packages (from ipywidgets->jupyter>=1.0.0->-r requirements.txt (line 34)) (5.5.0)\n",
            "Requirement already satisfied: jupyterlab-widgets>=1.0.0; python_version >= \"3.6\" in /usr/local/lib/python3.7/dist-packages (from ipywidgets->jupyter>=1.0.0->-r requirements.txt (line 34)) (1.0.0)\n",
            "Requirement already satisfied: widgetsnbextension~=3.5.0 in /usr/local/lib/python3.7/dist-packages (from ipywidgets->jupyter>=1.0.0->-r requirements.txt (line 34)) (3.5.1)\n",
            "Requirement already satisfied: pandocfilters>=1.4.1 in /usr/local/lib/python3.7/dist-packages (from nbconvert->jupyter>=1.0.0->-r requirements.txt (line 34)) (1.4.3)\n",
            "Requirement already satisfied: pygments in /usr/local/lib/python3.7/dist-packages (from nbconvert->jupyter>=1.0.0->-r requirements.txt (line 34)) (2.6.1)\n",
            "Requirement already satisfied: bleach in /usr/local/lib/python3.7/dist-packages (from nbconvert->jupyter>=1.0.0->-r requirements.txt (line 34)) (3.3.0)\n",
            "Requirement already satisfied: defusedxml in /usr/local/lib/python3.7/dist-packages (from nbconvert->jupyter>=1.0.0->-r requirements.txt (line 34)) (0.6.0)\n",
            "Requirement already satisfied: testpath in /usr/local/lib/python3.7/dist-packages (from nbconvert->jupyter>=1.0.0->-r requirements.txt (line 34)) (0.4.4)\n",
            "Requirement already satisfied: entrypoints>=0.2.2 in /usr/local/lib/python3.7/dist-packages (from nbconvert->jupyter>=1.0.0->-r requirements.txt (line 34)) (0.3)\n",
            "Requirement already satisfied: mistune<2,>=0.8.1 in /usr/local/lib/python3.7/dist-packages (from nbconvert->jupyter>=1.0.0->-r requirements.txt (line 34)) (0.8.4)\n",
            "Requirement already satisfied: pyzmq>=17.1 in /usr/local/lib/python3.7/dist-packages (from qtconsole->jupyter>=1.0.0->-r requirements.txt (line 34)) (22.0.3)\n",
            "Requirement already satisfied: qtpy in /usr/local/lib/python3.7/dist-packages (from qtconsole->jupyter>=1.0.0->-r requirements.txt (line 34)) (1.9.0)\n",
            "Requirement already satisfied: prompt-toolkit<2.0.0,>=1.0.0 in /usr/local/lib/python3.7/dist-packages (from jupyter-console->jupyter>=1.0.0->-r requirements.txt (line 34)) (1.0.18)\n",
            "Requirement already satisfied: sortedcontainers<3.0,>=2.0 in /usr/local/lib/python3.7/dist-packages (from intervaltree>=3->ipymarkup>=0.5.0->-r requirements.txt (line 35)) (2.3.0)\n",
            "Requirement already satisfied: jsonschema[format]>=2.5.1 in /usr/local/lib/python3.7/dist-packages (from bravado-core>=5.16.1->bravado->neptune-client>=0.4.125->-r requirements.txt (line 9)) (2.6.0)\n",
            "Collecting jsonref\n",
            "  Downloading https://files.pythonhosted.org/packages/07/92/f8e4ac824b14af77e613984e480fa818397c72d4141fc466decb26752749/jsonref-0.2-py3-none-any.whl\n",
            "Collecting swagger-spec-validator>=2.0.1\n",
            "  Downloading https://files.pythonhosted.org/packages/09/de/e78cefbf5838b434b63a789264b79821cb2267f1498fbed23ef8590133e4/swagger_spec_validator-2.7.3-py2.py3-none-any.whl\n",
            "Collecting smmap<4,>=3.0.1\n",
            "  Downloading https://files.pythonhosted.org/packages/d5/1e/6130925131f639b2acde0f7f18b73e33ce082ff2d90783c436b52040af5a/smmap-3.0.5-py2.py3-none-any.whl\n",
            "Requirement already satisfied: zipp>=0.5 in /usr/local/lib/python3.7/dist-packages (from importlib-metadata; python_version < \"3.8\"->fsspec[http]>=0.8.1->pytorch_lightning>=1.0.5->-r requirements.txt (line 13)) (3.4.0)\n",
            "Requirement already satisfied: attrs>=17.3.0 in /usr/local/lib/python3.7/dist-packages (from aiohttp; extra == \"http\"->fsspec[http]>=0.8.1->pytorch_lightning>=1.0.5->-r requirements.txt (line 13)) (20.3.0)\n",
            "Collecting multidict<7.0,>=4.5\n",
            "\u001b[?25l  Downloading https://files.pythonhosted.org/packages/7c/a6/4123b8165acbe773d1a8dc8e3f0d1edea16d29f7de018eda769abb56bd30/multidict-5.1.0-cp37-cp37m-manylinux2014_x86_64.whl (142kB)\n",
            "\u001b[K     |████████████████████████████████| 143kB 41.4MB/s \n",
            "\u001b[?25hCollecting yarl<2.0,>=1.0\n",
            "\u001b[?25l  Downloading https://files.pythonhosted.org/packages/f1/62/046834c5fc998c88ab2ef722f5d42122230a632212c8afa76418324f53ff/yarl-1.6.3-cp37-cp37m-manylinux2014_x86_64.whl (294kB)\n",
            "\u001b[K     |████████████████████████████████| 296kB 50.4MB/s \n",
            "\u001b[?25hCollecting async-timeout<4.0,>=3.0\n",
            "  Downloading https://files.pythonhosted.org/packages/e1/1e/5a4441be21b0726c4464f3f23c8b19628372f606755a9d2e46c187e65ec4/async_timeout-3.0.1-py3-none-any.whl\n",
            "Requirement already satisfied: pyasn1>=0.1.3 in /usr/local/lib/python3.7/dist-packages (from rsa<5,>=3.1.4; python_version >= \"3.6\"->google-auth<2,>=1.6.3->tensorboard>=2.4->-r requirements.txt (line 14)) (0.4.8)\n",
            "Requirement already satisfied: ptyprocess; os_name != \"nt\" in /usr/local/lib/python3.7/dist-packages (from terminado>=0.8.1->notebook->jupyter>=1.0.0->-r requirements.txt (line 34)) (0.7.0)\n",
            "Requirement already satisfied: simplegeneric>0.8 in /usr/local/lib/python3.7/dist-packages (from ipython>=4.0.0; python_version >= \"3.3\"->ipywidgets->jupyter>=1.0.0->-r requirements.txt (line 34)) (0.8.1)\n",
            "Requirement already satisfied: pickleshare in /usr/local/lib/python3.7/dist-packages (from ipython>=4.0.0; python_version >= \"3.3\"->ipywidgets->jupyter>=1.0.0->-r requirements.txt (line 34)) (0.7.5)\n",
            "Requirement already satisfied: pexpect; sys_platform != \"win32\" in /usr/local/lib/python3.7/dist-packages (from ipython>=4.0.0; python_version >= \"3.3\"->ipywidgets->jupyter>=1.0.0->-r requirements.txt (line 34)) (4.8.0)\n",
            "Requirement already satisfied: webencodings in /usr/local/lib/python3.7/dist-packages (from bleach->nbconvert->jupyter>=1.0.0->-r requirements.txt (line 34)) (0.5.1)\n",
            "Requirement already satisfied: wcwidth in /usr/local/lib/python3.7/dist-packages (from prompt-toolkit<2.0.0,>=1.0.0->jupyter-console->jupyter>=1.0.0->-r requirements.txt (line 34)) (0.2.5)\n",
            "Collecting webcolors; extra == \"format\"\n",
            "  Downloading https://files.pythonhosted.org/packages/12/05/3350559de9714b202e443a9e6312937341bd5f79f4e4f625744295e7dd17/webcolors-1.11.1-py3-none-any.whl\n",
            "Collecting strict-rfc3339; extra == \"format\"\n",
            "  Downloading https://files.pythonhosted.org/packages/56/e4/879ef1dbd6ddea1c77c0078cd59b503368b0456bcca7d063a870ca2119d3/strict-rfc3339-0.7.tar.gz\n",
            "Collecting rfc3987; extra == \"format\"\n",
            "  Downloading https://files.pythonhosted.org/packages/65/d4/f7407c3d15d5ac779c3dd34fbbc6ea2090f77bd7dd12f207ccf881551208/rfc3987-1.3.8-py2.py3-none-any.whl\n",
            "Building wheels for collected packages: neptune-client, jsonnet, fasttext, hnswlib, PyYAML, sacremoses, DAWG, intervaltree, strict-rfc3339\n",
            "  Building wheel for neptune-client (setup.py) ... \u001b[?25l\u001b[?25hdone\n",
            "  Created wheel for neptune-client: filename=neptune_client-0.5.1-py2.py3-none-any.whl size=166841 sha256=f679ad94cbc5ec2f7f2023b176b6fec105cfd040e36d66680afe4b30f978aded\n",
            "  Stored in directory: /root/.cache/pip/wheels/d4/86/b4/7264d87893c539c192b81bec01d3b131d7e71eba5f2936fcde\n",
            "  Building wheel for jsonnet (setup.py) ... \u001b[?25l\u001b[?25hdone\n",
            "  Created wheel for jsonnet: filename=jsonnet-0.17.0-cp37-cp37m-linux_x86_64.whl size=3388782 sha256=d7347141090de84faa218c3aa87d0647c50fe31757c71623133a895a72748355\n",
            "  Stored in directory: /root/.cache/pip/wheels/26/7a/37/7dbcc30a6b4efd17b91ad1f0128b7bbf84813bd4e1cfb8c1e3\n",
            "  Building wheel for fasttext (setup.py) ... \u001b[?25l\u001b[?25hdone\n",
            "  Created wheel for fasttext: filename=fasttext-0.9.2-cp37-cp37m-linux_x86_64.whl size=3094996 sha256=7af7482d12acd44cb06cffbbde2fa42a02c56d2fb5290c14177a68ed9601c99d\n",
            "  Stored in directory: /root/.cache/pip/wheels/98/ba/7f/b154944a1cf5a8cee91c154b75231136cc3a3321ab0e30f592\n",
            "  Building wheel for hnswlib (setup.py) ... \u001b[?25l\u001b[?25hdone\n",
            "  Created wheel for hnswlib: filename=hnswlib-0.4.0-cp37-cp37m-linux_x86_64.whl size=1092481 sha256=4afa86efb8135d04ac5dae5d8838ad50729f0054fd63db81db13789ea6ee7ff8\n",
            "  Stored in directory: /root/.cache/pip/wheels/df/f2/29/022c2c8b188c4daaf0c46b801d304ffaf0091bbe294b94a2d4\n",
            "  Building wheel for PyYAML (setup.py) ... \u001b[?25l\u001b[?25hdone\n",
            "  Created wheel for PyYAML: filename=PyYAML-5.3.1-cp37-cp37m-linux_x86_64.whl size=44620 sha256=54f57e9d0b8ce38d3bcc94523cf0417dfba6bd90652d9fbd248616860ebe7639\n",
            "  Stored in directory: /root/.cache/pip/wheels/a7/c1/ea/cf5bd31012e735dc1dfea3131a2d5eae7978b251083d6247bd\n",
            "  Building wheel for sacremoses (setup.py) ... \u001b[?25l\u001b[?25hdone\n",
            "  Created wheel for sacremoses: filename=sacremoses-0.0.43-cp37-none-any.whl size=893262 sha256=520df0bf45873736fb235c365fa811c5b1d29a72db0eb0f9f8b03330fc078205\n",
            "  Stored in directory: /root/.cache/pip/wheels/29/3c/fd/7ce5c3f0666dab31a50123635e6fb5e19ceb42ce38d4e58f45\n",
            "  Building wheel for DAWG (setup.py) ... \u001b[?25l\u001b[?25hdone\n",
            "  Created wheel for DAWG: filename=DAWG-0.8.0-cp37-cp37m-linux_x86_64.whl size=866232 sha256=d00f3f0c1615e8f767e8dc9c2e297035486899a34e535b2f5722cb8c4eae420c\n",
            "  Stored in directory: /root/.cache/pip/wheels/3d/1f/f0/a5b1f9d02e193c997d252c33d215f24dfd7a448bc0166b2a12\n",
            "  Building wheel for intervaltree (setup.py) ... \u001b[?25l\u001b[?25hdone\n",
            "  Created wheel for intervaltree: filename=intervaltree-3.1.0-py2.py3-none-any.whl size=26102 sha256=bba77bda791c676706ba836c74a9f0aced458b42e84dc5dc577c1c18ce3a37d1\n",
            "  Stored in directory: /root/.cache/pip/wheels/f3/f2/66/e9c30d3e9499e65ea2fa0d07c002e64de63bd0adaa49c445bf\n",
            "  Building wheel for strict-rfc3339 (setup.py) ... \u001b[?25l\u001b[?25hdone\n",
            "  Created wheel for strict-rfc3339: filename=strict_rfc3339-0.7-cp37-none-any.whl size=18121 sha256=7cdbcb16a95a4204996550393a1c0a028960bb92333bcca2d4a1e1a035a30e25\n",
            "  Stored in directory: /root/.cache/pip/wheels/bb/af/c9/b6e9fb5f9b2470e4ed2a7241c9ab3a8cdd3bc8555ae02ca2e6\n",
            "Successfully built neptune-client jsonnet fasttext hnswlib PyYAML sacremoses DAWG intervaltree strict-rfc3339\n",
            "\u001b[31mERROR: tensorflow 2.4.1 has requirement numpy~=1.19.2, but you'll have numpy 1.18.5 which is incompatible.\u001b[0m\n",
            "\u001b[31mERROR: datascience 0.10.6 has requirement folium==0.2.1, but you'll have folium 0.8.3 which is incompatible.\u001b[0m\n",
            "\u001b[31mERROR: albumentations 0.1.12 has requirement imgaug<0.2.7,>=0.2.5, but you'll have imgaug 0.2.9 which is incompatible.\u001b[0m\n",
            "\u001b[31mERROR: neptune-client 0.5.1 has requirement future>=0.17.1, but you'll have future 0.16.0 which is incompatible.\u001b[0m\n",
            "\u001b[31mERROR: pytorch-lightning 1.2.1 has requirement future>=0.17.1, but you'll have future 0.16.0 which is incompatible.\u001b[0m\n",
            "Installing collected packages: numpy, hyperopt, simplejson, PyYAML, monotonic, jsonref, swagger-spec-validator, bravado-core, bravado, PyJWT, websocket-client, smmap, gitdb, GitPython, neptune-client, multidict, yarl, async-timeout, aiohttp, fsspec, pytorch-lightning, tensorboardX, tokenizers, sacremoses, sentencepiece, transformers, jsonnet, flask-sqlalchemy, pyonmttok, fasttext, navec, razdel, slovnet, dawg-python, pymorphy2-dicts-ru, DAWG, pymorphy2, intervaltree, ipymarkup, pyinstrument-cext, pyinstrument, hnswlib, webcolors, strict-rfc3339, rfc3987\n",
            "  Found existing installation: numpy 1.19.5\n",
            "    Uninstalling numpy-1.19.5:\n",
            "      Successfully uninstalled numpy-1.19.5\n",
            "  Found existing installation: hyperopt 0.1.2\n",
            "    Uninstalling hyperopt-0.1.2:\n",
            "      Successfully uninstalled hyperopt-0.1.2\n",
            "  Found existing installation: PyYAML 3.13\n",
            "    Uninstalling PyYAML-3.13:\n",
            "      Successfully uninstalled PyYAML-3.13\n",
            "  Found existing installation: intervaltree 2.1.0\n",
            "    Uninstalling intervaltree-2.1.0:\n",
            "      Successfully uninstalled intervaltree-2.1.0\n",
            "Successfully installed DAWG-0.8.0 GitPython-3.1.13 PyJWT-2.0.1 PyYAML-5.3.1 aiohttp-3.7.4 async-timeout-3.0.1 bravado-11.0.2 bravado-core-5.17.0 dawg-python-0.7.2 fasttext-0.9.2 flask-sqlalchemy-2.4.4 fsspec-0.8.7 gitdb-4.0.5 hnswlib-0.4.0 hyperopt-0.2.5 intervaltree-3.1.0 ipymarkup-0.9.0 jsonnet-0.17.0 jsonref-0.2 monotonic-1.5 multidict-5.1.0 navec-0.10.0 neptune-client-0.5.1 numpy-1.18.5 pyinstrument-3.2.0 pyinstrument-cext-0.2.4 pymorphy2-0.9.1 pymorphy2-dicts-ru-2.4.417127.4579844 pyonmttok-1.24.0 pytorch-lightning-1.2.1 razdel-0.5.0 rfc3987-1.3.8 sacremoses-0.0.43 sentencepiece-0.1.95 simplejson-3.17.2 slovnet-0.4.0 smmap-3.0.5 strict-rfc3339-0.7 swagger-spec-validator-2.7.3 tensorboardX-2.1 tokenizers-0.9.2 transformers-3.4.0 webcolors-1.11.1 websocket-client-0.57.0 yarl-1.6.3\n"
          ],
          "name": "stdout"
        },
        {
          "output_type": "display_data",
          "data": {
            "application/vnd.colab-display-data+json": {
              "pip_warning": {
                "packages": [
                  "numpy"
                ]
              }
            }
          },
          "metadata": {
            "tags": []
          }
        },
        {
          "output_type": "stream",
          "text": [
            "Requirement already satisfied: pip in /usr/local/lib/python3.7/dist-packages (19.3.1)\n",
            "Collecting install\n",
            "  Downloading https://files.pythonhosted.org/packages/f0/a5/fd2eb807a9a593869ee8b7a6bcb4ad84a6eb31cef5c24d1bfbf7c938c13f/install-1.3.4-py3-none-any.whl\n",
            "Collecting sentence-transformers\n",
            "\u001b[?25l  Downloading https://files.pythonhosted.org/packages/6a/e2/84d6acfcee2d83164149778a33b6bdd1a74e1bcb59b2b2cd1b861359b339/sentence-transformers-0.4.1.2.tar.gz (64kB)\n",
            "\u001b[K     |████████████████████████████████| 71kB 9.3MB/s \n",
            "\u001b[?25hRequirement already satisfied: transformers<5.0.0,>=3.1.0 in /usr/local/lib/python3.7/dist-packages (from sentence-transformers) (3.4.0)\n",
            "Requirement already satisfied: tqdm in /usr/local/lib/python3.7/dist-packages (from sentence-transformers) (4.41.1)\n",
            "Requirement already satisfied: torch>=1.6.0 in /usr/local/lib/python3.7/dist-packages (from sentence-transformers) (1.7.1+cu101)\n",
            "Requirement already satisfied: numpy in /usr/local/lib/python3.7/dist-packages (from sentence-transformers) (1.18.5)\n",
            "Requirement already satisfied: scikit-learn in /usr/local/lib/python3.7/dist-packages (from sentence-transformers) (0.22.2.post1)\n",
            "Requirement already satisfied: scipy in /usr/local/lib/python3.7/dist-packages (from sentence-transformers) (1.4.1)\n",
            "Requirement already satisfied: nltk in /usr/local/lib/python3.7/dist-packages (from sentence-transformers) (3.2.5)\n",
            "Requirement already satisfied: sentencepiece in /usr/local/lib/python3.7/dist-packages (from sentence-transformers) (0.1.95)\n",
            "Requirement already satisfied: requests in /usr/local/lib/python3.7/dist-packages (from transformers<5.0.0,>=3.1.0->sentence-transformers) (2.23.0)\n",
            "Requirement already satisfied: sacremoses in /usr/local/lib/python3.7/dist-packages (from transformers<5.0.0,>=3.1.0->sentence-transformers) (0.0.43)\n",
            "Requirement already satisfied: tokenizers==0.9.2 in /usr/local/lib/python3.7/dist-packages (from transformers<5.0.0,>=3.1.0->sentence-transformers) (0.9.2)\n",
            "Requirement already satisfied: regex!=2019.12.17 in /usr/local/lib/python3.7/dist-packages (from transformers<5.0.0,>=3.1.0->sentence-transformers) (2019.12.20)\n",
            "Requirement already satisfied: filelock in /usr/local/lib/python3.7/dist-packages (from transformers<5.0.0,>=3.1.0->sentence-transformers) (3.0.12)\n",
            "Requirement already satisfied: protobuf in /usr/local/lib/python3.7/dist-packages (from transformers<5.0.0,>=3.1.0->sentence-transformers) (3.12.4)\n",
            "Requirement already satisfied: packaging in /usr/local/lib/python3.7/dist-packages (from transformers<5.0.0,>=3.1.0->sentence-transformers) (20.9)\n",
            "Requirement already satisfied: typing-extensions in /usr/local/lib/python3.7/dist-packages (from torch>=1.6.0->sentence-transformers) (3.7.4.3)\n",
            "Requirement already satisfied: joblib>=0.11 in /usr/local/lib/python3.7/dist-packages (from scikit-learn->sentence-transformers) (1.0.1)\n",
            "Requirement already satisfied: six in /usr/local/lib/python3.7/dist-packages (from nltk->sentence-transformers) (1.15.0)\n",
            "Requirement already satisfied: chardet<4,>=3.0.2 in /usr/local/lib/python3.7/dist-packages (from requests->transformers<5.0.0,>=3.1.0->sentence-transformers) (3.0.4)\n",
            "Requirement already satisfied: certifi>=2017.4.17 in /usr/local/lib/python3.7/dist-packages (from requests->transformers<5.0.0,>=3.1.0->sentence-transformers) (2020.12.5)\n",
            "Requirement already satisfied: urllib3!=1.25.0,!=1.25.1,<1.26,>=1.21.1 in /usr/local/lib/python3.7/dist-packages (from requests->transformers<5.0.0,>=3.1.0->sentence-transformers) (1.24.3)\n",
            "Requirement already satisfied: idna<3,>=2.5 in /usr/local/lib/python3.7/dist-packages (from requests->transformers<5.0.0,>=3.1.0->sentence-transformers) (2.10)\n",
            "Requirement already satisfied: click in /usr/local/lib/python3.7/dist-packages (from sacremoses->transformers<5.0.0,>=3.1.0->sentence-transformers) (7.1.2)\n",
            "Requirement already satisfied: setuptools in /usr/local/lib/python3.7/dist-packages (from protobuf->transformers<5.0.0,>=3.1.0->sentence-transformers) (53.0.0)\n",
            "Requirement already satisfied: pyparsing>=2.0.2 in /usr/local/lib/python3.7/dist-packages (from packaging->transformers<5.0.0,>=3.1.0->sentence-transformers) (2.4.7)\n",
            "Building wheels for collected packages: sentence-transformers\n",
            "  Building wheel for sentence-transformers (setup.py) ... \u001b[?25l\u001b[?25hdone\n",
            "  Created wheel for sentence-transformers: filename=sentence_transformers-0.4.1.2-cp37-none-any.whl size=103068 sha256=b80948da9af04f6c753401d3993b1ca24ff8111bb40abddcff790f1ef46d3268\n",
            "  Stored in directory: /root/.cache/pip/wheels/3d/33/d1/5703dd56199c09d4a1b41e0c07fb4e7765a84d787cbdc48ac3\n",
            "Successfully built sentence-transformers\n",
            "Installing collected packages: install, sentence-transformers\n",
            "Successfully installed install-1.3.4 sentence-transformers-0.4.1.2\n"
          ],
          "name": "stdout"
        }
      ]
    },
    {
      "cell_type": "code",
      "metadata": {
        "colab": {
          "base_uri": "https://localhost:8080/"
        },
        "id": "oS89D_NM4r8h",
        "outputId": "59d21953-3d5d-4124-92eb-fd873c33a85e"
      },
      "source": [
        "!mkdir models/lang_detect\r\n",
        "!mkdir models/cat_detect\r\n",
        "!wget https://www.dropbox.com/s/hoapmnvqlknmu6v/lang_detect_v10.ftz -O models/lang_detect/lang_detect_v10.ftz\r\n",
        "!wget https://www.dropbox.com/s/23x35wuet280eh6/ru_cat_v5.ftz -O models/cat_detect/ru_cat_v5.ftz"
      ],
      "execution_count": 4,
      "outputs": [
        {
          "output_type": "stream",
          "text": [
            "--2021-02-26 21:28:49--  https://www.dropbox.com/s/hoapmnvqlknmu6v/lang_detect_v10.ftz\n",
            "Resolving www.dropbox.com (www.dropbox.com)... 162.125.6.18, 2620:100:601c:18::a27d:612\n",
            "Connecting to www.dropbox.com (www.dropbox.com)|162.125.6.18|:443... connected.\n",
            "HTTP request sent, awaiting response... 301 Moved Permanently\n",
            "Location: /s/raw/hoapmnvqlknmu6v/lang_detect_v10.ftz [following]\n",
            "--2021-02-26 21:28:49--  https://www.dropbox.com/s/raw/hoapmnvqlknmu6v/lang_detect_v10.ftz\n",
            "Reusing existing connection to www.dropbox.com:443.\n",
            "HTTP request sent, awaiting response... 302 Found\n",
            "Location: https://uc84825e1b86b808cada3b01c60d.dl.dropboxusercontent.com/cd/0/inline/BJtFX4vC1HWl1gkzJS-QM3R69OuxjnTwiOXhXTg4a1nC3qpJEDDgi6jZX3_nCcY6-4XHl5eDnvw--UCYsgc4MjCCHvrPcGhZFML1ypkhH6jsj7cbUMmdhhVWcHJcQyKu4HE/file# [following]\n",
            "--2021-02-26 21:28:50--  https://uc84825e1b86b808cada3b01c60d.dl.dropboxusercontent.com/cd/0/inline/BJtFX4vC1HWl1gkzJS-QM3R69OuxjnTwiOXhXTg4a1nC3qpJEDDgi6jZX3_nCcY6-4XHl5eDnvw--UCYsgc4MjCCHvrPcGhZFML1ypkhH6jsj7cbUMmdhhVWcHJcQyKu4HE/file\n",
            "Resolving uc84825e1b86b808cada3b01c60d.dl.dropboxusercontent.com (uc84825e1b86b808cada3b01c60d.dl.dropboxusercontent.com)... 162.125.6.15, 2620:100:601c:15::a27d:60f\n",
            "Connecting to uc84825e1b86b808cada3b01c60d.dl.dropboxusercontent.com (uc84825e1b86b808cada3b01c60d.dl.dropboxusercontent.com)|162.125.6.15|:443... connected.\n",
            "HTTP request sent, awaiting response... 302 Found\n",
            "Location: /cd/0/inline2/BJvt2Wi2WTN3nCegL7y3SqMuA47sF-_5zDelvmIYii0ux3daFp_i5fz7dsxuRs-lhQwULywe5JIcFWf8hyvR9KmFqcxQlbKDJzJ-CUFmcAmGy70LBOHWTNFx8og5bAo_73OCjJ3NLcSJGsA9eUgA4l1Uy46H71hdYI6JFmnlynTLptnXgKqtX3aAYugJUGd-9OhdKHYUmXYmGgtkKkGWL2Y8eePRk9WquGAKH6LY1_h55iHvzwxP0nszc_KEj5qUKQGCTw5ZILnG2rXQpVpZvvt3w1zYh5i_Jak6f_3rLn7elsGEBqsi1BfN9XkqT_5AMYR9U23zCLpu49Pk_ecBdL5ZQLezZBmt091bMeomcSuWQA/file [following]\n",
            "--2021-02-26 21:28:51--  https://uc84825e1b86b808cada3b01c60d.dl.dropboxusercontent.com/cd/0/inline2/BJvt2Wi2WTN3nCegL7y3SqMuA47sF-_5zDelvmIYii0ux3daFp_i5fz7dsxuRs-lhQwULywe5JIcFWf8hyvR9KmFqcxQlbKDJzJ-CUFmcAmGy70LBOHWTNFx8og5bAo_73OCjJ3NLcSJGsA9eUgA4l1Uy46H71hdYI6JFmnlynTLptnXgKqtX3aAYugJUGd-9OhdKHYUmXYmGgtkKkGWL2Y8eePRk9WquGAKH6LY1_h55iHvzwxP0nszc_KEj5qUKQGCTw5ZILnG2rXQpVpZvvt3w1zYh5i_Jak6f_3rLn7elsGEBqsi1BfN9XkqT_5AMYR9U23zCLpu49Pk_ecBdL5ZQLezZBmt091bMeomcSuWQA/file\n",
            "Reusing existing connection to uc84825e1b86b808cada3b01c60d.dl.dropboxusercontent.com:443.\n",
            "HTTP request sent, awaiting response... 200 OK\n",
            "Length: 1267083 (1.2M) [application/octet-stream]\n",
            "Saving to: ‘models/lang_detect/lang_detect_v10.ftz’\n",
            "\n",
            "models/lang_detect/ 100%[===================>]   1.21M  --.-KB/s    in 0.009s  \n",
            "\n",
            "2021-02-26 21:28:51 (135 MB/s) - ‘models/lang_detect/lang_detect_v10.ftz’ saved [1267083/1267083]\n",
            "\n",
            "--2021-02-26 21:28:51--  https://www.dropbox.com/s/23x35wuet280eh6/ru_cat_v5.ftz\n",
            "Resolving www.dropbox.com (www.dropbox.com)... 162.125.6.18, 2620:100:601c:18::a27d:612\n",
            "Connecting to www.dropbox.com (www.dropbox.com)|162.125.6.18|:443... connected.\n",
            "HTTP request sent, awaiting response... 301 Moved Permanently\n",
            "Location: /s/raw/23x35wuet280eh6/ru_cat_v5.ftz [following]\n",
            "--2021-02-26 21:28:51--  https://www.dropbox.com/s/raw/23x35wuet280eh6/ru_cat_v5.ftz\n",
            "Reusing existing connection to www.dropbox.com:443.\n",
            "HTTP request sent, awaiting response... 302 Found\n",
            "Location: https://uc14ee1f5b4ad6cbcd3423618709.dl.dropboxusercontent.com/cd/0/inline/BJvsklNQO70z5DGgw2DPFdbahKwNPBqBTvkZwENxt5YVFSmcrF7v9mBixrLdNX6vDN5ifUwXk4j0TeGLYLRV7lW_v9y97oRzIxUqhiSxPz-lcXJckxUznkq9rWqwv0txvMA/file# [following]\n",
            "--2021-02-26 21:28:52--  https://uc14ee1f5b4ad6cbcd3423618709.dl.dropboxusercontent.com/cd/0/inline/BJvsklNQO70z5DGgw2DPFdbahKwNPBqBTvkZwENxt5YVFSmcrF7v9mBixrLdNX6vDN5ifUwXk4j0TeGLYLRV7lW_v9y97oRzIxUqhiSxPz-lcXJckxUznkq9rWqwv0txvMA/file\n",
            "Resolving uc14ee1f5b4ad6cbcd3423618709.dl.dropboxusercontent.com (uc14ee1f5b4ad6cbcd3423618709.dl.dropboxusercontent.com)... 162.125.6.15, 2620:100:601c:15::a27d:60f\n",
            "Connecting to uc14ee1f5b4ad6cbcd3423618709.dl.dropboxusercontent.com (uc14ee1f5b4ad6cbcd3423618709.dl.dropboxusercontent.com)|162.125.6.15|:443... connected.\n",
            "HTTP request sent, awaiting response... 302 Found\n",
            "Location: /cd/0/inline2/BJvXDII4C2xfpcv37bpx_j43MJ7kEg7_peMxWuLi5ENKjHZ7WmjYop9TG7j5xBzIH2IJDjCKKEF95b4P6VRMvCxOY4CqjfIn-M_EY9zjRX0zxpjeW9SBHW52gK7Mx_nJxgRSVbnBQmiAopS-duRgmnfIWFNUMk1EjS-mawBwcg9HsoddLOhiksIo35icN_a_rXzezXrfVy2jqD45Xcd3IeLd7Lv9Q7TpLbc0vK_jB_tNDfR7lJL8FApqPMgv6JOFZZ6TDKX8hxoo_3K1vNcGauYyGq9L4SrGbOugDthpU0SWNzuyvJj_SnpxSUx0bg4ny03DmXaKF8MLs7jSzRcJg_8hPTEvLJtqiPCf5Rt_rapSsQ/file [following]\n",
            "--2021-02-26 21:28:52--  https://uc14ee1f5b4ad6cbcd3423618709.dl.dropboxusercontent.com/cd/0/inline2/BJvXDII4C2xfpcv37bpx_j43MJ7kEg7_peMxWuLi5ENKjHZ7WmjYop9TG7j5xBzIH2IJDjCKKEF95b4P6VRMvCxOY4CqjfIn-M_EY9zjRX0zxpjeW9SBHW52gK7Mx_nJxgRSVbnBQmiAopS-duRgmnfIWFNUMk1EjS-mawBwcg9HsoddLOhiksIo35icN_a_rXzezXrfVy2jqD45Xcd3IeLd7Lv9Q7TpLbc0vK_jB_tNDfR7lJL8FApqPMgv6JOFZZ6TDKX8hxoo_3K1vNcGauYyGq9L4SrGbOugDthpU0SWNzuyvJj_SnpxSUx0bg4ny03DmXaKF8MLs7jSzRcJg_8hPTEvLJtqiPCf5Rt_rapSsQ/file\n",
            "Reusing existing connection to uc14ee1f5b4ad6cbcd3423618709.dl.dropboxusercontent.com:443.\n",
            "HTTP request sent, awaiting response... 200 OK\n",
            "Length: 103892031 (99M) [application/octet-stream]\n",
            "Saving to: ‘models/cat_detect/ru_cat_v5.ftz’\n",
            "\n",
            "models/cat_detect/r 100%[===================>]  99.08M   105MB/s    in 0.9s    \n",
            "\n",
            "2021-02-26 21:28:54 (105 MB/s) - ‘models/cat_detect/ru_cat_v5.ftz’ saved [103892031/103892031]\n",
            "\n"
          ],
          "name": "stdout"
        }
      ]
    },
    {
      "cell_type": "code",
      "metadata": {
        "colab": {
          "base_uri": "https://localhost:8080/"
        },
        "id": "IkWaqvA54tIy",
        "outputId": "3d0275c6-d220-4b56-f354-62d4484b7c46"
      },
      "source": [
        "# May 25 (training)\r\n",
        "!rm -rf data\r\n",
        "!mkdir -p data\r\n",
        "!cd data && wget https://data-static.usercontent.dev/DataClusteringDataset0525.tar.gz -O - | tar -xz && cd ../"
      ],
      "execution_count": 5,
      "outputs": [
        {
          "output_type": "stream",
          "text": [
            "--2021-02-26 21:28:58--  https://data-static.usercontent.dev/DataClusteringDataset0525.tar.gz\n",
            "Resolving data-static.usercontent.dev (data-static.usercontent.dev)... 178.128.255.27\n",
            "Connecting to data-static.usercontent.dev (data-static.usercontent.dev)|178.128.255.27|:443... connected.\n",
            "HTTP request sent, awaiting response... 200 OK\n",
            "Length: 145541247 (139M) [application/octet-stream]\n",
            "Saving to: ‘STDOUT’\n",
            "\n",
            "-                   100%[===================>] 138.80M  22.6MB/s    in 6.6s    \n",
            "\n",
            "2021-02-26 21:29:06 (21.1 MB/s) - written to stdout [145541247/145541247]\n",
            "\n"
          ],
          "name": "stdout"
        }
      ]
    },
    {
      "cell_type": "code",
      "metadata": {
        "id": "qYr0O_PJ40wu",
        "colab": {
          "base_uri": "https://localhost:8080/"
        },
        "outputId": "442b522d-6cbb-4a35-f8c1-66d145e55c5e"
      },
      "source": [
        "%%writefile configs/cleaner.jsonnet\r\n",
        "{\r\n",
        "    \"lang_detect_model_path\": \"models/lang_detect/lang_detect_v10.ftz\",\r\n",
        "    \"cat_detect_model_path\": \"models/cat_detect/ru_cat_v5.ftz\",\r\n",
        "    \"is_lower\": true,\r\n",
        "    \"is_russian_only\": true,\r\n",
        "    \"is_news_only\": true\r\n",
        "}"
      ],
      "execution_count": 6,
      "outputs": [
        {
          "output_type": "stream",
          "text": [
            "Overwriting configs/cleaner.jsonnet\n"
          ],
          "name": "stdout"
        }
      ]
    },
    {
      "cell_type": "code",
      "metadata": {
        "id": "7JOPf8ve47uN",
        "colab": {
          "base_uri": "https://localhost:8080/"
        },
        "outputId": "04864659-cbe3-4e56-ca06-44584bc21068"
      },
      "source": [
        "!rm -f 0525_parsed.db\r\n",
        "!python3 -m purano.run_parse --inputs \"data/20200525\" --output-file 0525_parsed.db --fmt html --cleaner-config configs/cleaner.jsonnet"
      ],
      "execution_count": 7,
      "outputs": [
        {
          "output_type": "stream",
          "text": [
            "Warning : `load_model` does not return WordVectorModel or SupervisedModel any more, but a `FastText` object which is very similar.\n",
            "Warning : `load_model` does not return WordVectorModel or SupervisedModel any more, but a `FastText` object which is very similar.\n",
            "Parsed 10000 documents\n",
            "Parsed 20000 documents\n",
            "Parsed 30000 documents\n",
            "Parsed 40000 documents\n",
            "Parsed 50000 documents\n",
            "Parsed 60000 documents\n",
            "Parsed 70000 documents\n",
            "Parsed 80000 documents\n",
            "19380 will be saved\n",
            "<class 'pandas.core.frame.DataFrame'>\n",
            "Int64Index: 19380 entries, 6779 to 175\n",
            "Data columns (total 8 columns):\n",
            " #   Column         Non-Null Count  Dtype                    \n",
            "---  ------         --------------  -----                    \n",
            " 0   url            19380 non-null  object                   \n",
            " 1   host           19380 non-null  object                   \n",
            " 2   title          19380 non-null  object                   \n",
            " 3   text           19380 non-null  object                   \n",
            " 4   date           19380 non-null  datetime64[ns, tzlocal()]\n",
            " 5   patched_title  19380 non-null  object                   \n",
            " 6   patched_text   19380 non-null  object                   \n",
            " 7   category       19380 non-null  object                   \n",
            "dtypes: datetime64[ns, tzlocal()](1), object(7)\n",
            "memory usage: 1.3+ MB\n",
            "None\n",
            "                                                    url  ...       category\n",
            "6779                 http://kontrakty.ua/article/156481  ...        society\n",
            "6040  https://www.euro-football.ru/article/29/100436...  ...         sports\n",
            "6038  https://provladimir.ru/2020/05/25/zdanie-byvsh...  ...        society\n",
            "6037  https://www.colta.ru/articles/specials/24504-s...  ...  entertainment\n",
            "6036     https://www.paparazzi.ru/blogs/Mchunya/425419/  ...  entertainment\n",
            "\n",
            "[5 rows x 8 columns]\n"
          ],
          "name": "stdout"
        }
      ]
    },
    {
      "cell_type": "code",
      "metadata": {
        "id": "7TNCF75W6PXv"
      },
      "source": [
        "from sqlalchemy import create_engine\r\n",
        "from sqlalchemy.orm import sessionmaker\r\n",
        "\r\n",
        "from purano.models import Document\r\n",
        "\r\n",
        "def parse_db(file_name):\r\n",
        "    db_engine = \"sqlite:///{}\".format(file_name)\r\n",
        "    engine = create_engine(db_engine)\r\n",
        "    Session = sessionmaker(bind=engine)\r\n",
        "    session = Session()\r\n",
        "    query = session.query(Document)\r\n",
        "    docs = query.all()\r\n",
        "    records = []\r\n",
        "    for doc in docs:\r\n",
        "        records.append({\r\n",
        "            \"title\": doc.title,\r\n",
        "            \"text\": doc.text,\r\n",
        "            \"url\": doc.url,\r\n",
        "            \"host\": doc.host,\r\n",
        "            \"timestamp\": doc.date,\r\n",
        "            \"patched_title\": doc.patched_title,\r\n",
        "            \"patched_text\": doc.patched_text\r\n",
        "        })\r\n",
        "    return records\r\n",
        "\r\n",
        "train_records = parse_db(\"0525_parsed.db\")\r\n"
      ],
      "execution_count": 8,
      "outputs": []
    },
    {
      "cell_type": "code",
      "metadata": {
        "colab": {
          "base_uri": "https://localhost:8080/"
        },
        "id": "szdQfF9U608L",
        "outputId": "ce7039e1-5901-442d-f3b4-6358d566c9ee"
      },
      "source": [
        "# Clustering training markup\r\n",
        "!wget https://www.dropbox.com/s/8lu6dw8zcrn840j/ru_clustering_0525_urls.tsv"
      ],
      "execution_count": 9,
      "outputs": [
        {
          "output_type": "stream",
          "text": [
            "--2021-02-26 21:30:50--  https://www.dropbox.com/s/8lu6dw8zcrn840j/ru_clustering_0525_urls.tsv\n",
            "Resolving www.dropbox.com (www.dropbox.com)... 162.125.6.18, 2620:100:601c:18::a27d:612\n",
            "Connecting to www.dropbox.com (www.dropbox.com)|162.125.6.18|:443... connected.\n",
            "HTTP request sent, awaiting response... 301 Moved Permanently\n",
            "Location: /s/raw/8lu6dw8zcrn840j/ru_clustering_0525_urls.tsv [following]\n",
            "--2021-02-26 21:30:50--  https://www.dropbox.com/s/raw/8lu6dw8zcrn840j/ru_clustering_0525_urls.tsv\n",
            "Reusing existing connection to www.dropbox.com:443.\n",
            "HTTP request sent, awaiting response... 302 Found\n",
            "Location: https://uc66bfbc31741b4a130701e83e59.dl.dropboxusercontent.com/cd/0/inline/BJs9Uk6XeRuZvTuRLEcLbuhOEkOgZfrauvCtgVCjPEiZcfSWYRw8dZ8vOMUEV9gvwACyd9OdyNwijcsVDIvc5kGluTBrEpoQsUPajy90k7xNCs_HPwhYfsnqCnjWgUe06p4/file# [following]\n",
            "--2021-02-26 21:30:51--  https://uc66bfbc31741b4a130701e83e59.dl.dropboxusercontent.com/cd/0/inline/BJs9Uk6XeRuZvTuRLEcLbuhOEkOgZfrauvCtgVCjPEiZcfSWYRw8dZ8vOMUEV9gvwACyd9OdyNwijcsVDIvc5kGluTBrEpoQsUPajy90k7xNCs_HPwhYfsnqCnjWgUe06p4/file\n",
            "Resolving uc66bfbc31741b4a130701e83e59.dl.dropboxusercontent.com (uc66bfbc31741b4a130701e83e59.dl.dropboxusercontent.com)... 162.125.6.15, 2620:100:601c:15::a27d:60f\n",
            "Connecting to uc66bfbc31741b4a130701e83e59.dl.dropboxusercontent.com (uc66bfbc31741b4a130701e83e59.dl.dropboxusercontent.com)|162.125.6.15|:443... connected.\n",
            "HTTP request sent, awaiting response... 200 OK\n",
            "Length: 2522689 (2.4M) [text/plain]\n",
            "Saving to: ‘ru_clustering_0525_urls.tsv’\n",
            "\n",
            "ru_clustering_0525_ 100%[===================>]   2.41M  --.-KB/s    in 0.02s   \n",
            "\n",
            "2021-02-26 21:30:51 (121 MB/s) - ‘ru_clustering_0525_urls.tsv’ saved [2522689/2522689]\n",
            "\n"
          ],
          "name": "stdout"
        }
      ]
    },
    {
      "cell_type": "markdown",
      "metadata": {
        "id": "5pgejON07HjD"
      },
      "source": [
        "# Evaluation\r\n"
      ]
    },
    {
      "cell_type": "code",
      "metadata": {
        "id": "L9Jm6vDd7OWi"
      },
      "source": [
        "from purano.io import read_markup_tsv\r\n",
        "\r\n",
        "train_markup = read_markup_tsv(\"ru_clustering_0525_urls.tsv\")"
      ],
      "execution_count": 10,
      "outputs": []
    },
    {
      "cell_type": "code",
      "metadata": {
        "id": "vhz7RV5_7Zdi"
      },
      "source": [
        "from collections import Counter\r\n",
        "from statistics import median, mean\r\n",
        "from sklearn.cluster import AgglomerativeClustering\r\n",
        "from purano.clusterer.metrics import calc_metrics\r\n",
        "\r\n",
        "def get_quality(markup, embeds, records, dist_threshold, print_result=False):\r\n",
        "    clustering_model = AgglomerativeClustering(\r\n",
        "        n_clusters=None,\r\n",
        "        distance_threshold=dist_threshold,\r\n",
        "        linkage=\"average\",\r\n",
        "        affinity=\"cosine\"\r\n",
        "    )\r\n",
        "\r\n",
        "    clustering_model.fit(embeds)\r\n",
        "    labels = clustering_model.labels_\r\n",
        "\r\n",
        "    idx2url = dict()\r\n",
        "    url2record = dict()\r\n",
        "    for i, record in enumerate(records):\r\n",
        "        idx2url[i] = record[\"url\"]\r\n",
        "        url2record[record[\"url\"]] = record\r\n",
        "\r\n",
        "    url2label = dict()\r\n",
        "    for i, label in enumerate(labels):\r\n",
        "        url2label[idx2url[i]] = label\r\n",
        "        \r\n",
        "    metrics = calc_metrics(markup, url2record, url2label)[0]\r\n",
        "    if print_result:\r\n",
        "        print()\r\n",
        "        print(\"Accuracy: {:.1f}\".format(metrics[\"accuracy\"] * 100.0))\r\n",
        "        print(\"Positives Recall: {:.1f}\".format(metrics[\"1\"][\"recall\"] * 100.0))\r\n",
        "        print(\"Positives Precision: {:.1f}\".format(metrics[\"1\"][\"precision\"] * 100.0))\r\n",
        "        print(\"Positives F1: {:.1f}\".format(metrics[\"1\"][\"f1-score\"] * 100.0))\r\n",
        "        print(\"Distance: \", dist_threshold)\r\n",
        "        sizes = list(Counter(labels).values())\r\n",
        "        print(\"Max cluster size: \", max(sizes))\r\n",
        "        print(\"Median cluster size: \", median(sizes))\r\n",
        "        print(\"Avg cluster size: {:.2f}\".format(mean(sizes)))\r\n",
        "        return\r\n",
        "    return metrics[\"1\"][\"f1-score\"]"
      ],
      "execution_count": 11,
      "outputs": []
    },
    {
      "cell_type": "markdown",
      "metadata": {
        "id": "0rcUj0qE71vo"
      },
      "source": [
        "# OurModel"
      ]
    },
    {
      "cell_type": "code",
      "metadata": {
        "id": "hu0Qas-8766H"
      },
      "source": [
        "from torch.utils.data import Dataset, DataLoader\r\n",
        "\r\n",
        "url2record = dict()\r\n",
        "\r\n",
        "class CustomDataset(Dataset):\r\n",
        "\r\n",
        "    def __init__(self, x, y):\r\n",
        "        self.len = len(x)\r\n",
        "        self.data_x = x\r\n",
        "        self.data_y = y\r\n",
        "    \r\n",
        "    def __getitem__(self, index):\r\n",
        "        return (self.data_x[index], self.data_y[index])\r\n",
        "    \r\n",
        "    def __len__(self):\r\n",
        "        return self.len\r\n",
        "\r\n",
        "\r\n",
        "for i, record in enumerate(train_records):\r\n",
        "    url2record[record[\"url\"]] = record\r\n",
        "\r\n",
        "input_samples, pos_samples = [], []\r\n",
        "\r\n",
        "for markup in train_markup:\r\n",
        "    first_url, second_url, quality = markup.values()\r\n",
        "    if quality == 'OK':\r\n",
        "        input_samples.append(url2record[first_url]['title'] + ' ' + url2record[first_url]['text'])\r\n",
        "        pos_samples.append(url2record[second_url]['title'] + ' ' + url2record[second_url]['text'])\r\n",
        "\r\n",
        "\r\n",
        "dataset = CustomDataset(input_samples, pos_samples)"
      ],
      "execution_count": 13,
      "outputs": []
    },
    {
      "cell_type": "code",
      "metadata": {
        "id": "piWszYKS8XY5",
        "colab": {
          "base_uri": "https://localhost:8080/"
        },
        "outputId": "eea13138-d206-4bb5-d634-79b2b19fe974"
      },
      "source": [
        "import sentence_transformers\r\n",
        "\r\n",
        "use = sentence_transformers.SentenceTransformer('distiluse-base-multilingual-cased-v2')"
      ],
      "execution_count": 14,
      "outputs": [
        {
          "output_type": "stream",
          "text": [
            "100%|██████████| 504M/504M [00:17<00:00, 28.2MB/s]\n"
          ],
          "name": "stderr"
        }
      ]
    },
    {
      "cell_type": "code",
      "metadata": {
        "id": "pUwPIUbS8wH6"
      },
      "source": [
        "import math\r\n",
        "\r\n",
        "import torch\r\n",
        "from torch import nn\r\n",
        "\r\n",
        "class GELU(nn.Module):\r\n",
        "    def forward(self, x):\r\n",
        "        return 0.5 * x * (1 + torch.tanh(math.sqrt(2 / math.pi) * (x + 0.044715 * torch.pow(x, 3))))\r\n",
        "\r\n",
        "\r\n",
        "class FeedForwardTop(nn.Module):\r\n",
        "    def __init__(self, dropout = 0.25):\r\n",
        "        super().__init__()\r\n",
        "        self.f1 = nn.Linear(512, 512)\r\n",
        "        self.dropout = nn.Dropout(dropout) \r\n",
        "        self.gelu = GELU()\r\n",
        "        self.f2 = nn.Linear(512, 512)\r\n",
        "\r\n",
        "    \r\n",
        "    def forward(self, x):\r\n",
        "        x = self.dropout(self.gelu(self.f1(x)))\r\n",
        "        x = self.f2(x)\r\n",
        "\r\n",
        "        return x\r\n"
      ],
      "execution_count": 15,
      "outputs": []
    },
    {
      "cell_type": "code",
      "metadata": {
        "id": "i7ExeBozVm1u"
      },
      "source": [
        "from tqdm.notebook import tqdm\r\n",
        "\r\n",
        "def use_get_embedding(text, model, ff):\r\n",
        "    return ff(torch.tensor(model.encode([text]))).detach().numpy()\r\n",
        "\r\n",
        "def use_records_to_embeds(records, model, ff):\r\n",
        "    embeddings = np.zeros((len(records), 512))\r\n",
        "    for i, record in tqdm(enumerate(records)):\r\n",
        "        embeddings[i] = use_get_embedding(record[\"title\"] + \" \" + record[\"text\"], model, ff)\r\n",
        "    return embeddings"
      ],
      "execution_count": 40,
      "outputs": []
    },
    {
      "cell_type": "code",
      "metadata": {
        "colab": {
          "base_uri": "https://localhost:8080/",
          "height": 322,
          "referenced_widgets": [
            "8451063a836549ffac58f5dbbbee1b45",
            "95a8f76dccbb49859e91567ec69b9b70",
            "9a13adf74e834a91b4c0b3a00cc673fe",
            "698e574848e94b2dbc126e0dc34b2f3d",
            "c7902ee239de4073961a45a78d562483",
            "50697a05b93d4b8a991b38ff09bcc948",
            "5af39a94b27745809cf56443cffeb076",
            "8e9225b87aa94944bc4c281620fee17d",
            "152a49942f4447df949db72f6299beec",
            "33641626ce9045909fc0ee6e9f50e054",
            "89c0dd09e9dd486880cfe6a32418451d",
            "b82fbf3325b04fd7aa45ce61ad44c5f0",
            "5bddaadb18c842c3bb10c52afecc3603",
            "47672ecf26f64d10befa7d180ef78b8f",
            "63fb44b147cf4864a2a0f72987c4fd9e",
            "b30c7589ff7d47d88d9b453f1673b515"
          ]
        },
        "id": "jNrZ3koZ-Cqw",
        "outputId": "3d418d12-c6bb-4790-da5f-7509d1827b4d"
      },
      "source": [
        "import torch.nn.functional as F\r\n",
        "import numpy as np\r\n",
        "from tqdm.notebook import tqdm\r\n",
        "\r\n",
        "torch.manual_seed(0)\r\n",
        "\r\n",
        "batch_size = 32\r\n",
        "lr = 0.1\r\n",
        "\r\n",
        "\r\n",
        "device = 'cpu'\r\n",
        "#device = torch.device(\"cuda\" if torch.cuda.is_available() else \"cpu\")\r\n",
        "\r\n",
        "net = FeedForwardTop().to(device)\r\n",
        "\r\n",
        "optimizer = torch.optim.Adam(net.parameters(), lr=lr)\r\n",
        "\r\n",
        "train_dataset, test_dataset = torch.utils.data.random_split(dataset, [round(len(dataset)*0.85), round(len(dataset)*0.15)]) \r\n",
        "train_loader = DataLoader(train_dataset, batch_size=batch_size, shuffle=True)\r\n",
        "\r\n",
        "EPOCHES = 1\r\n",
        "\r\n",
        "total_loss = 0\r\n",
        "\r\n",
        "for epoch in range(EPOCHES):\r\n",
        "    net.train()\r\n",
        "    for i, (input_samples, pos_samples) in enumerate(tqdm(train_loader)):\r\n",
        "        optimizer.zero_grad()\r\n",
        "\r\n",
        "        q_vectors = torch.tensor(use.encode(input_samples)).to(device)\r\n",
        "        ctx_vectors = torch.tensor(use.encode(pos_samples)).to(device)\r\n",
        "\r\n",
        "        q_vectors = net(q_vectors)\r\n",
        "        q_norm = torch.norm(q_vectors, p = 2, dim = 1, keepdim=True)\r\n",
        "        \r\n",
        "        q_vectors = q_vectors.div(q_norm)\r\n",
        "\r\n",
        "        ctx_vectors = net(ctx_vectors)\r\n",
        "        ctx_norm = torch.norm(ctx_vectors, p = 2, dim= 1, keepdim=True)\r\n",
        "        \r\n",
        "        ctx_vectors = ctx_vectors.div(ctx_norm)\r\n",
        "\r\n",
        "        scores = torch.matmul(q_vectors, torch.transpose(ctx_vectors, 0, 1))\r\n",
        "\r\n",
        "        if len(q_vectors.size()) > 1:\r\n",
        "            q_num = q_vectors.size(0)\r\n",
        "            scores = scores.view(q_num, -1)\r\n",
        "        \r\n",
        "        softmax_scores = F.log_softmax(scores, dim=1)\r\n",
        "        \r\n",
        "        pos_idx_per_question = torch.tensor(list(range(q_vectors.size(0)))).to(device)\r\n",
        "\r\n",
        "\r\n",
        "        loss = F.nll_loss(softmax_scores,\r\n",
        "                   pos_idx_per_question,\r\n",
        "                   reduction='mean')\r\n",
        "\r\n",
        "        loss.backward()\r\n",
        "        optimizer.step()\r\n",
        "        \r\n",
        "        total_loss += loss.data\r\n",
        "\r\n",
        "        if (i + 1) % 45 == 0:\r\n",
        "          print(f'epoch: {(epoch)} batch_idx: {(i + 1)} loss: {total_loss/45}')\r\n",
        "          total_loss = 0\r\n",
        "\r\n",
        "    net.eval()\r\n",
        "    embeds = use_records_to_embeds(train_records, use, net)\r\n",
        "    get_quality(train_markup, embeds, train_records, dist_threshold=0.37, print_result=True)\r\n",
        "\r\n",
        "\r\n"
      ],
      "execution_count": 43,
      "outputs": [
        {
          "output_type": "display_data",
          "data": {
            "application/vnd.jupyter.widget-view+json": {
              "model_id": "8451063a836549ffac58f5dbbbee1b45",
              "version_minor": 0,
              "version_major": 2
            },
            "text/plain": [
              "HBox(children=(FloatProgress(value=0.0, max=194.0), HTML(value='')))"
            ]
          },
          "metadata": {
            "tags": []
          }
        },
        {
          "output_type": "stream",
          "text": [
            "\n"
          ],
          "name": "stdout"
        },
        {
          "output_type": "display_data",
          "data": {
            "application/vnd.jupyter.widget-view+json": {
              "model_id": "152a49942f4447df949db72f6299beec",
              "version_minor": 0,
              "version_major": 2
            },
            "text/plain": [
              "HBox(children=(FloatProgress(value=1.0, bar_style='info', max=1.0), HTML(value='')))"
            ]
          },
          "metadata": {
            "tags": []
          }
        },
        {
          "output_type": "stream",
          "text": [
            "\n",
            "\n",
            "Accuracy: 49.2\n",
            "Positives Recall: 100.0\n",
            "Positives Precision: 49.2\n",
            "Positives F1: 66.0\n",
            "Distance:  0.37\n",
            "Max cluster size:  19380\n",
            "Median cluster size:  19380\n",
            "Avg cluster size: 19380.00\n"
          ],
          "name": "stdout"
        },
        {
          "output_type": "stream",
          "text": [
            "/usr/local/lib/python3.7/dist-packages/sklearn/metrics/_classification.py:1272: UndefinedMetricWarning: Precision and F-score are ill-defined and being set to 0.0 in labels with no predicted samples. Use `zero_division` parameter to control this behavior.\n",
            "  _warn_prf(average, modifier, msg_start, len(result))\n"
          ],
          "name": "stderr"
        }
      ]
    }
  ]
}