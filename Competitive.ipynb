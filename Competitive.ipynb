{
  "nbformat": 4,
  "nbformat_minor": 0,
  "metadata": {
    "colab": {
      "name": "Competitive.ipynb",
      "provenance": [],
      "collapsed_sections": [],
      "authorship_tag": "ABX9TyM8TprbXSmIEJGxFG8WxLpy",
      "include_colab_link": true
    },
    "kernelspec": {
      "name": "python3",
      "display_name": "Python 3"
    },
    "accelerator": "GPU",
    "widgets": {
      "application/vnd.jupyter.widget-state+json": {
        "b5804a39080d4b46ac117fac5423ad2b": {
          "model_module": "@jupyter-widgets/controls",
          "model_name": "HBoxModel",
          "state": {
            "_view_name": "HBoxView",
            "_dom_classes": [],
            "_model_name": "HBoxModel",
            "_view_module": "@jupyter-widgets/controls",
            "_model_module_version": "1.5.0",
            "_view_count": null,
            "_view_module_version": "1.5.0",
            "box_style": "",
            "layout": "IPY_MODEL_6b0d4ae354d741a2a745b9f6609b8bca",
            "_model_module": "@jupyter-widgets/controls",
            "children": [
              "IPY_MODEL_e78fadfa6e494035bfba0c789dca7985",
              "IPY_MODEL_4a28b1774aa34ccaa50e14255e57d7c4"
            ]
          }
        },
        "6b0d4ae354d741a2a745b9f6609b8bca": {
          "model_module": "@jupyter-widgets/base",
          "model_name": "LayoutModel",
          "state": {
            "_view_name": "LayoutView",
            "grid_template_rows": null,
            "right": null,
            "justify_content": null,
            "_view_module": "@jupyter-widgets/base",
            "overflow": null,
            "_model_module_version": "1.2.0",
            "_view_count": null,
            "flex_flow": null,
            "width": null,
            "min_width": null,
            "border": null,
            "align_items": null,
            "bottom": null,
            "_model_module": "@jupyter-widgets/base",
            "top": null,
            "grid_column": null,
            "overflow_y": null,
            "overflow_x": null,
            "grid_auto_flow": null,
            "grid_area": null,
            "grid_template_columns": null,
            "flex": null,
            "_model_name": "LayoutModel",
            "justify_items": null,
            "grid_row": null,
            "max_height": null,
            "align_content": null,
            "visibility": null,
            "align_self": null,
            "height": null,
            "min_height": null,
            "padding": null,
            "grid_auto_rows": null,
            "grid_gap": null,
            "max_width": null,
            "order": null,
            "_view_module_version": "1.2.0",
            "grid_template_areas": null,
            "object_position": null,
            "object_fit": null,
            "grid_auto_columns": null,
            "margin": null,
            "display": null,
            "left": null
          }
        },
        "e78fadfa6e494035bfba0c789dca7985": {
          "model_module": "@jupyter-widgets/controls",
          "model_name": "FloatProgressModel",
          "state": {
            "_view_name": "ProgressView",
            "style": "IPY_MODEL_e2447aeac2964765aebbb57361f3d7e0",
            "_dom_classes": [],
            "description": "100%",
            "_model_name": "FloatProgressModel",
            "bar_style": "success",
            "max": 229,
            "_view_module": "@jupyter-widgets/controls",
            "_model_module_version": "1.5.0",
            "value": 229,
            "_view_count": null,
            "_view_module_version": "1.5.0",
            "orientation": "horizontal",
            "min": 0,
            "description_tooltip": null,
            "_model_module": "@jupyter-widgets/controls",
            "layout": "IPY_MODEL_8f4562ce857e46eab0e1de2ff29515a5"
          }
        },
        "4a28b1774aa34ccaa50e14255e57d7c4": {
          "model_module": "@jupyter-widgets/controls",
          "model_name": "HTMLModel",
          "state": {
            "_view_name": "HTMLView",
            "style": "IPY_MODEL_98b08c161ef04197b87ea9a300f6a624",
            "_dom_classes": [],
            "description": "",
            "_model_name": "HTMLModel",
            "placeholder": "​",
            "_view_module": "@jupyter-widgets/controls",
            "_model_module_version": "1.5.0",
            "value": " 229/229 [01:58&lt;00:00,  1.93it/s]",
            "_view_count": null,
            "_view_module_version": "1.5.0",
            "description_tooltip": null,
            "_model_module": "@jupyter-widgets/controls",
            "layout": "IPY_MODEL_f2d56c479f8544738bcf4288b537a358"
          }
        },
        "e2447aeac2964765aebbb57361f3d7e0": {
          "model_module": "@jupyter-widgets/controls",
          "model_name": "ProgressStyleModel",
          "state": {
            "_view_name": "StyleView",
            "_model_name": "ProgressStyleModel",
            "description_width": "initial",
            "_view_module": "@jupyter-widgets/base",
            "_model_module_version": "1.5.0",
            "_view_count": null,
            "_view_module_version": "1.2.0",
            "bar_color": null,
            "_model_module": "@jupyter-widgets/controls"
          }
        },
        "8f4562ce857e46eab0e1de2ff29515a5": {
          "model_module": "@jupyter-widgets/base",
          "model_name": "LayoutModel",
          "state": {
            "_view_name": "LayoutView",
            "grid_template_rows": null,
            "right": null,
            "justify_content": null,
            "_view_module": "@jupyter-widgets/base",
            "overflow": null,
            "_model_module_version": "1.2.0",
            "_view_count": null,
            "flex_flow": null,
            "width": null,
            "min_width": null,
            "border": null,
            "align_items": null,
            "bottom": null,
            "_model_module": "@jupyter-widgets/base",
            "top": null,
            "grid_column": null,
            "overflow_y": null,
            "overflow_x": null,
            "grid_auto_flow": null,
            "grid_area": null,
            "grid_template_columns": null,
            "flex": null,
            "_model_name": "LayoutModel",
            "justify_items": null,
            "grid_row": null,
            "max_height": null,
            "align_content": null,
            "visibility": null,
            "align_self": null,
            "height": null,
            "min_height": null,
            "padding": null,
            "grid_auto_rows": null,
            "grid_gap": null,
            "max_width": null,
            "order": null,
            "_view_module_version": "1.2.0",
            "grid_template_areas": null,
            "object_position": null,
            "object_fit": null,
            "grid_auto_columns": null,
            "margin": null,
            "display": null,
            "left": null
          }
        },
        "98b08c161ef04197b87ea9a300f6a624": {
          "model_module": "@jupyter-widgets/controls",
          "model_name": "DescriptionStyleModel",
          "state": {
            "_view_name": "StyleView",
            "_model_name": "DescriptionStyleModel",
            "description_width": "",
            "_view_module": "@jupyter-widgets/base",
            "_model_module_version": "1.5.0",
            "_view_count": null,
            "_view_module_version": "1.2.0",
            "_model_module": "@jupyter-widgets/controls"
          }
        },
        "f2d56c479f8544738bcf4288b537a358": {
          "model_module": "@jupyter-widgets/base",
          "model_name": "LayoutModel",
          "state": {
            "_view_name": "LayoutView",
            "grid_template_rows": null,
            "right": null,
            "justify_content": null,
            "_view_module": "@jupyter-widgets/base",
            "overflow": null,
            "_model_module_version": "1.2.0",
            "_view_count": null,
            "flex_flow": null,
            "width": null,
            "min_width": null,
            "border": null,
            "align_items": null,
            "bottom": null,
            "_model_module": "@jupyter-widgets/base",
            "top": null,
            "grid_column": null,
            "overflow_y": null,
            "overflow_x": null,
            "grid_auto_flow": null,
            "grid_area": null,
            "grid_template_columns": null,
            "flex": null,
            "_model_name": "LayoutModel",
            "justify_items": null,
            "grid_row": null,
            "max_height": null,
            "align_content": null,
            "visibility": null,
            "align_self": null,
            "height": null,
            "min_height": null,
            "padding": null,
            "grid_auto_rows": null,
            "grid_gap": null,
            "max_width": null,
            "order": null,
            "_view_module_version": "1.2.0",
            "grid_template_areas": null,
            "object_position": null,
            "object_fit": null,
            "grid_auto_columns": null,
            "margin": null,
            "display": null,
            "left": null
          }
        }
      }
    }
  },
  "cells": [
    {
      "cell_type": "markdown",
      "metadata": {
        "id": "view-in-github",
        "colab_type": "text"
      },
      "source": [
        "<a href=\"https://colab.research.google.com/github/alimadelshin/competitive/blob/main/Competitive.ipynb\" target=\"_parent\"><img src=\"https://colab.research.google.com/assets/colab-badge.svg\" alt=\"Open In Colab\"/></a>"
      ]
    },
    {
      "cell_type": "markdown",
      "metadata": {
        "id": "SjB-EYFl7htk"
      },
      "source": [
        "# Preprocessing\r\n"
      ]
    },
    {
      "cell_type": "code",
      "metadata": {
        "colab": {
          "base_uri": "https://localhost:8080/"
        },
        "id": "eVcaPlM_3m6b",
        "outputId": "ad4844f9-6991-4fbc-864d-f7357b2904d3"
      },
      "source": [
        "!git clone https://github.com/IlyaGusev/purano"
      ],
      "execution_count": 1,
      "outputs": [
        {
          "output_type": "stream",
          "text": [
            "fatal: destination path 'purano' already exists and is not an empty directory.\n"
          ],
          "name": "stdout"
        }
      ]
    },
    {
      "cell_type": "code",
      "metadata": {
        "colab": {
          "base_uri": "https://localhost:8080/"
        },
        "id": "DseAf1c633wM",
        "outputId": "291b76f9-fea4-475f-8022-11b1eaa8dbb3"
      },
      "source": [
        "%cd purano"
      ],
      "execution_count": 2,
      "outputs": [
        {
          "output_type": "stream",
          "text": [
            "/content/purano\n"
          ],
          "name": "stdout"
        }
      ]
    },
    {
      "cell_type": "code",
      "metadata": {
        "colab": {
          "base_uri": "https://localhost:8080/",
          "height": 1000
        },
        "id": "mc8g3ghZ36GP",
        "outputId": "a768cd10-3c11-4d37-c1b8-1f4a787d9455"
      },
      "source": [
        "!pip install -r requirements.txt\r\n",
        "!pip install pip install sentence-transformers"
      ],
      "execution_count": 7,
      "outputs": [
        {
          "output_type": "stream",
          "text": [
            "Collecting numpy<1.19.0,>=1.16.0\n",
            "\u001b[?25l  Downloading https://files.pythonhosted.org/packages/d6/c6/58e517e8b1fb192725cfa23c01c2e60e4e6699314ee9684a1c5f5c9b27e1/numpy-1.18.5-cp37-cp37m-manylinux1_x86_64.whl (20.1MB)\n",
            "\u001b[K     |████████████████████████████████| 20.1MB 6.5MB/s \n",
            "\u001b[?25hRequirement already satisfied: pandas>=0.24.0 in /usr/local/lib/python3.7/dist-packages (from -r requirements.txt (line 6)) (1.1.5)\n",
            "Requirement already satisfied: scikit-learn>=0.21.0 in /usr/local/lib/python3.7/dist-packages (from -r requirements.txt (line 7)) (0.22.2.post1)\n",
            "Collecting hyperopt>=0.2.5\n",
            "\u001b[?25l  Downloading https://files.pythonhosted.org/packages/a6/07/bd524635d218adae139be320eeac87fb4fbbd45c63b0bd58930c9e91f1fc/hyperopt-0.2.5-py2.py3-none-any.whl (965kB)\n",
            "\u001b[K     |████████████████████████████████| 972kB 52.2MB/s \n",
            "\u001b[?25hCollecting neptune-client>=0.4.125\n",
            "\u001b[?25l  Downloading https://files.pythonhosted.org/packages/49/1a/a3ad339640f7bd73118b9afeeb4b411ae82c149d258c013075f603e118ef/neptune-client-0.5.1.tar.gz (115kB)\n",
            "\u001b[K     |████████████████████████████████| 122kB 57.0MB/s \n",
            "\u001b[?25hRequirement already satisfied: torch>=1.5.0 in /usr/local/lib/python3.7/dist-packages (from -r requirements.txt (line 12)) (1.7.0+cu101)\n",
            "Collecting pytorch_lightning>=1.0.5\n",
            "\u001b[?25l  Downloading https://files.pythonhosted.org/packages/55/8f/d3379dd306635467637c5516b3a1656a5f651dbf2abe3fd0a7636c18ed3c/pytorch_lightning-1.2.1-py3-none-any.whl (814kB)\n",
            "\u001b[K     |████████████████████████████████| 819kB 43.3MB/s \n",
            "\u001b[?25hRequirement already satisfied: tensorboard>=2.4 in /usr/local/lib/python3.7/dist-packages (from -r requirements.txt (line 14)) (2.4.1)\n",
            "Collecting tensorboardX>=2.1\n",
            "\u001b[?25l  Downloading https://files.pythonhosted.org/packages/af/0c/4f41bcd45db376e6fe5c619c01100e9b7531c55791b7244815bac6eac32c/tensorboardX-2.1-py2.py3-none-any.whl (308kB)\n",
            "\u001b[K     |████████████████████████████████| 317kB 47.0MB/s \n",
            "\u001b[?25hCollecting transformers==3.4.0\n",
            "\u001b[?25l  Downloading https://files.pythonhosted.org/packages/2c/4e/4f1ede0fd7a36278844a277f8d53c21f88f37f3754abf76a5d6224f76d4a/transformers-3.4.0-py3-none-any.whl (1.3MB)\n",
            "\u001b[K     |████████████████████████████████| 1.3MB 45.6MB/s \n",
            "\u001b[?25hRequirement already satisfied: python-dateutil>=2.8.1 in /usr/local/lib/python3.7/dist-packages (from -r requirements.txt (line 19)) (2.8.1)\n",
            "Collecting jsonnet>=0.10.0\n",
            "\u001b[?25l  Downloading https://files.pythonhosted.org/packages/42/40/6f16e5ac994b16fa71c24310f97174ce07d3a97b433275589265c6b94d2b/jsonnet-0.17.0.tar.gz (259kB)\n",
            "\u001b[K     |████████████████████████████████| 266kB 47.9MB/s \n",
            "\u001b[?25hRequirement already satisfied: sqlalchemy>=1.2.0 in /usr/local/lib/python3.7/dist-packages (from -r requirements.txt (line 21)) (1.3.23)\n",
            "Requirement already satisfied: protobuf>=3.10.0 in /usr/local/lib/python3.7/dist-packages (from -r requirements.txt (line 22)) (3.12.4)\n",
            "Requirement already satisfied: flask>=1.1.1 in /usr/local/lib/python3.7/dist-packages (from -r requirements.txt (line 23)) (1.1.2)\n",
            "Collecting flask-sqlalchemy>=2.4.4\n",
            "  Downloading https://files.pythonhosted.org/packages/af/4b/3dd83c3e2c6e3034b804d971952e0120606506f153990cc56d2d33173b72/Flask_SQLAlchemy-2.4.4-py2.py3-none-any.whl\n",
            "Requirement already satisfied: nltk>=3.2.5 in /usr/local/lib/python3.7/dist-packages (from -r requirements.txt (line 27)) (3.2.5)\n",
            "Collecting pyonmttok>=1.22.1\n",
            "\u001b[?25l  Downloading https://files.pythonhosted.org/packages/5f/aa/eaf0eaee095a5d42b6ed9fa969c8a37085e059f71efb1e55cb220e245437/pyonmttok-1.24.0-cp37-cp37m-manylinux1_x86_64.whl (2.6MB)\n",
            "\u001b[K     |████████████████████████████████| 2.6MB 52.3MB/s \n",
            "\u001b[?25hCollecting fasttext>=0.9.1\n",
            "\u001b[?25l  Downloading https://files.pythonhosted.org/packages/f8/85/e2b368ab6d3528827b147fdb814f8189acc981a4bc2f99ab894650e05c40/fasttext-0.9.2.tar.gz (68kB)\n",
            "\u001b[K     |████████████████████████████████| 71kB 10.6MB/s \n",
            "\u001b[?25hCollecting slovnet==0.4.0\n",
            "\u001b[?25l  Downloading https://files.pythonhosted.org/packages/c2/6f/1c989335c9969421f771e4f0410ba70d82fe992ec9f3cbac9f432d8f5733/slovnet-0.4.0-py3-none-any.whl (49kB)\n",
            "\u001b[K     |████████████████████████████████| 51kB 8.7MB/s \n",
            "\u001b[?25hCollecting pymorphy2[fast]==0.9.1\n",
            "\u001b[?25l  Downloading https://files.pythonhosted.org/packages/07/57/b2ff2fae3376d4f3c697b9886b64a54b476e1a332c67eee9f88e7f1ae8c9/pymorphy2-0.9.1-py3-none-any.whl (55kB)\n",
            "\u001b[K     |████████████████████████████████| 61kB 10.8MB/s \n",
            "\u001b[?25hRequirement already satisfied: jupyter>=1.0.0 in /usr/local/lib/python3.7/dist-packages (from -r requirements.txt (line 34)) (1.0.0)\n",
            "Collecting ipymarkup>=0.5.0\n",
            "  Downloading https://files.pythonhosted.org/packages/bf/9b/bf54c98d50735a4a7c84c71e92c5361730c878ebfe903d2c2d196ef66055/ipymarkup-0.9.0-py3-none-any.whl\n",
            "Collecting pyinstrument==3.2.0\n",
            "\u001b[?25l  Downloading https://files.pythonhosted.org/packages/6b/78/f934ffb71299e66bce3bb18d251b347c3777970d36fdf5a1f5486cd584ff/pyinstrument-3.2.0-py2.py3-none-any.whl (85kB)\n",
            "\u001b[K     |████████████████████████████████| 92kB 12.4MB/s \n",
            "\u001b[?25hCollecting hnswlib==0.4.0\n",
            "  Downloading https://files.pythonhosted.org/packages/97/f0/2fa53f02227df57a566a0f25b910066a50fa0cb12ee120717770d657aabd/hnswlib-0.4.0.tar.gz\n",
            "Requirement already satisfied: pytz>=2017.2 in /usr/local/lib/python3.7/dist-packages (from pandas>=0.24.0->-r requirements.txt (line 6)) (2018.9)\n",
            "Requirement already satisfied: scipy>=0.17.0 in /usr/local/lib/python3.7/dist-packages (from scikit-learn>=0.21.0->-r requirements.txt (line 7)) (1.4.1)\n",
            "Requirement already satisfied: joblib>=0.11 in /usr/local/lib/python3.7/dist-packages (from scikit-learn>=0.21.0->-r requirements.txt (line 7)) (1.0.1)\n",
            "Requirement already satisfied: future in /usr/local/lib/python3.7/dist-packages (from hyperopt>=0.2.5->-r requirements.txt (line 8)) (0.16.0)\n",
            "Requirement already satisfied: networkx>=2.2 in /usr/local/lib/python3.7/dist-packages (from hyperopt>=0.2.5->-r requirements.txt (line 8)) (2.5)\n",
            "Requirement already satisfied: tqdm in /usr/local/lib/python3.7/dist-packages (from hyperopt>=0.2.5->-r requirements.txt (line 8)) (4.41.1)\n",
            "Requirement already satisfied: cloudpickle in /usr/local/lib/python3.7/dist-packages (from hyperopt>=0.2.5->-r requirements.txt (line 8)) (1.3.0)\n",
            "Requirement already satisfied: six in /usr/local/lib/python3.7/dist-packages (from hyperopt>=0.2.5->-r requirements.txt (line 8)) (1.15.0)\n",
            "Collecting bravado\n",
            "  Downloading https://files.pythonhosted.org/packages/6d/3d/f8772d9295c03e08a9ab4afc1ccd195efe6cb4d1af3135b7f74eb8beb0d6/bravado-11.0.2-py2.py3-none-any.whl\n",
            "Requirement already satisfied: click>=7.0 in /usr/local/lib/python3.7/dist-packages (from neptune-client>=0.4.125->-r requirements.txt (line 9)) (7.1.2)\n",
            "Requirement already satisfied: oauthlib>=2.1.0 in /usr/local/lib/python3.7/dist-packages (from neptune-client>=0.4.125->-r requirements.txt (line 9)) (3.1.0)\n",
            "Requirement already satisfied: Pillow>=1.1.6 in /usr/local/lib/python3.7/dist-packages (from neptune-client>=0.4.125->-r requirements.txt (line 9)) (7.0.0)\n",
            "Collecting PyJWT\n",
            "  Downloading https://files.pythonhosted.org/packages/b4/9b/8850f99027ed029af6828199cc87179eaccbbf1f9e6e373e7f0177d32dad/PyJWT-2.0.1-py3-none-any.whl\n",
            "Requirement already satisfied: requests>=2.20.0 in /usr/local/lib/python3.7/dist-packages (from neptune-client>=0.4.125->-r requirements.txt (line 9)) (2.23.0)\n",
            "Requirement already satisfied: requests-oauthlib>=1.0.0 in /usr/local/lib/python3.7/dist-packages (from neptune-client>=0.4.125->-r requirements.txt (line 9)) (1.3.0)\n",
            "Collecting websocket-client>=0.35.0\n",
            "\u001b[?25l  Downloading https://files.pythonhosted.org/packages/4c/5f/f61b420143ed1c8dc69f9eaec5ff1ac36109d52c80de49d66e0c36c3dfdf/websocket_client-0.57.0-py2.py3-none-any.whl (200kB)\n",
            "\u001b[K     |████████████████████████████████| 204kB 43.6MB/s \n",
            "\u001b[?25hCollecting GitPython>=2.0.8\n",
            "\u001b[?25l  Downloading https://files.pythonhosted.org/packages/fb/67/47a04d8a9d7f94645676fe683f1ee3fe9be01fe407686c180768a92abaac/GitPython-3.1.13-py3-none-any.whl (159kB)\n",
            "\u001b[K     |████████████████████████████████| 163kB 59.8MB/s \n",
            "\u001b[?25hRequirement already satisfied: packaging in /usr/local/lib/python3.7/dist-packages (from neptune-client>=0.4.125->-r requirements.txt (line 9)) (20.9)\n",
            "Requirement already satisfied: dataclasses in /usr/local/lib/python3.7/dist-packages (from torch>=1.5.0->-r requirements.txt (line 12)) (0.6)\n",
            "Requirement already satisfied: typing-extensions in /usr/local/lib/python3.7/dist-packages (from torch>=1.5.0->-r requirements.txt (line 12)) (3.7.4.3)\n",
            "Collecting fsspec[http]>=0.8.1\n",
            "\u001b[?25l  Downloading https://files.pythonhosted.org/packages/91/0d/a6bfee0ddf47b254286b9bd574e6f50978c69897647ae15b14230711806e/fsspec-0.8.7-py3-none-any.whl (103kB)\n",
            "\u001b[K     |████████████████████████████████| 112kB 61.7MB/s \n",
            "\u001b[?25hCollecting PyYAML!=5.4.*,>=5.1\n",
            "\u001b[?25l  Downloading https://files.pythonhosted.org/packages/64/c2/b80047c7ac2478f9501676c988a5411ed5572f35d1beff9cae07d321512c/PyYAML-5.3.1.tar.gz (269kB)\n",
            "\u001b[K     |████████████████████████████████| 276kB 52.3MB/s \n",
            "\u001b[?25hRequirement already satisfied: markdown>=2.6.8 in /usr/local/lib/python3.7/dist-packages (from tensorboard>=2.4->-r requirements.txt (line 14)) (3.3.3)\n",
            "Requirement already satisfied: absl-py>=0.4 in /usr/local/lib/python3.7/dist-packages (from tensorboard>=2.4->-r requirements.txt (line 14)) (0.10.0)\n",
            "Requirement already satisfied: tensorboard-plugin-wit>=1.6.0 in /usr/local/lib/python3.7/dist-packages (from tensorboard>=2.4->-r requirements.txt (line 14)) (1.8.0)\n",
            "Requirement already satisfied: google-auth-oauthlib<0.5,>=0.4.1 in /usr/local/lib/python3.7/dist-packages (from tensorboard>=2.4->-r requirements.txt (line 14)) (0.4.2)\n",
            "Requirement already satisfied: grpcio>=1.24.3 in /usr/local/lib/python3.7/dist-packages (from tensorboard>=2.4->-r requirements.txt (line 14)) (1.32.0)\n",
            "Requirement already satisfied: werkzeug>=0.11.15 in /usr/local/lib/python3.7/dist-packages (from tensorboard>=2.4->-r requirements.txt (line 14)) (1.0.1)\n",
            "Requirement already satisfied: wheel>=0.26; python_version >= \"3\" in /usr/local/lib/python3.7/dist-packages (from tensorboard>=2.4->-r requirements.txt (line 14)) (0.36.2)\n",
            "Requirement already satisfied: setuptools>=41.0.0 in /usr/local/lib/python3.7/dist-packages (from tensorboard>=2.4->-r requirements.txt (line 14)) (53.0.0)\n",
            "Requirement already satisfied: google-auth<2,>=1.6.3 in /usr/local/lib/python3.7/dist-packages (from tensorboard>=2.4->-r requirements.txt (line 14)) (1.27.0)\n",
            "Collecting tokenizers==0.9.2\n",
            "\u001b[?25l  Downloading https://files.pythonhosted.org/packages/35/e7/edf655ae34925aeaefb7b7fcc3dd0887d2a1203ee6b0df4d1170d1a19d4f/tokenizers-0.9.2-cp37-cp37m-manylinux1_x86_64.whl (2.9MB)\n",
            "\u001b[K     |████████████████████████████████| 2.9MB 49.8MB/s \n",
            "\u001b[?25hCollecting sentencepiece!=0.1.92\n",
            "\u001b[?25l  Downloading https://files.pythonhosted.org/packages/f5/99/e0808cb947ba10f575839c43e8fafc9cc44e4a7a2c8f79c60db48220a577/sentencepiece-0.1.95-cp37-cp37m-manylinux2014_x86_64.whl (1.2MB)\n",
            "\u001b[K     |████████████████████████████████| 1.2MB 43.6MB/s \n",
            "\u001b[?25hCollecting sacremoses\n",
            "\u001b[?25l  Downloading https://files.pythonhosted.org/packages/7d/34/09d19aff26edcc8eb2a01bed8e98f13a1537005d31e95233fd48216eed10/sacremoses-0.0.43.tar.gz (883kB)\n",
            "\u001b[K     |████████████████████████████████| 890kB 50.2MB/s \n",
            "\u001b[?25hRequirement already satisfied: regex!=2019.12.17 in /usr/local/lib/python3.7/dist-packages (from transformers==3.4.0->-r requirements.txt (line 16)) (2019.12.20)\n",
            "Requirement already satisfied: filelock in /usr/local/lib/python3.7/dist-packages (from transformers==3.4.0->-r requirements.txt (line 16)) (3.0.12)\n",
            "Requirement already satisfied: Jinja2>=2.10.1 in /usr/local/lib/python3.7/dist-packages (from flask>=1.1.1->-r requirements.txt (line 23)) (2.11.3)\n",
            "Requirement already satisfied: itsdangerous>=0.24 in /usr/local/lib/python3.7/dist-packages (from flask>=1.1.1->-r requirements.txt (line 23)) (1.1.0)\n",
            "Requirement already satisfied: pybind11>=2.2 in /usr/local/lib/python3.7/dist-packages (from fasttext>=0.9.1->-r requirements.txt (line 29)) (2.6.2)\n",
            "Collecting razdel\n",
            "  Downloading https://files.pythonhosted.org/packages/15/2c/664223a3924aa6e70479f7d37220b3a658765b9cfe760b4af7ffdc50d38f/razdel-0.5.0-py3-none-any.whl\n",
            "Collecting navec\n",
            "  Downloading https://files.pythonhosted.org/packages/bc/c1/771ec5565f0ce24874d7fd325b429f9caa80517a40d2e4ce5705120591f3/navec-0.10.0-py3-none-any.whl\n",
            "Collecting pymorphy2-dicts-ru<3.0,>=2.4\n",
            "\u001b[?25l  Downloading https://files.pythonhosted.org/packages/3a/79/bea0021eeb7eeefde22ef9e96badf174068a2dd20264b9a378f2be1cdd9e/pymorphy2_dicts_ru-2.4.417127.4579844-py2.py3-none-any.whl (8.2MB)\n",
            "\u001b[K     |████████████████████████████████| 8.2MB 23.5MB/s \n",
            "\u001b[?25hRequirement already satisfied: docopt>=0.6 in /usr/local/lib/python3.7/dist-packages (from pymorphy2[fast]==0.9.1->-r requirements.txt (line 31)) (0.6.2)\n",
            "Collecting dawg-python>=0.7.1\n",
            "  Downloading https://files.pythonhosted.org/packages/6a/84/ff1ce2071d4c650ec85745766c0047ccc3b5036f1d03559fd46bb38b5eeb/DAWG_Python-0.7.2-py2.py3-none-any.whl\n",
            "Collecting DAWG>=0.8; extra == \"fast\"\n",
            "\u001b[?25l  Downloading https://files.pythonhosted.org/packages/b8/ef/91b619a399685f7a0a95a03628006ba814d96293bbbbed234ee66fbdefd9/DAWG-0.8.0.tar.gz (371kB)\n",
            "\u001b[K     |████████████████████████████████| 378kB 55.8MB/s \n",
            "\u001b[?25hRequirement already satisfied: jupyter-console in /usr/local/lib/python3.7/dist-packages (from jupyter>=1.0.0->-r requirements.txt (line 34)) (5.2.0)\n",
            "Requirement already satisfied: ipykernel in /usr/local/lib/python3.7/dist-packages (from jupyter>=1.0.0->-r requirements.txt (line 34)) (4.10.1)\n",
            "Requirement already satisfied: ipywidgets in /usr/local/lib/python3.7/dist-packages (from jupyter>=1.0.0->-r requirements.txt (line 34)) (7.6.3)\n",
            "Requirement already satisfied: qtconsole in /usr/local/lib/python3.7/dist-packages (from jupyter>=1.0.0->-r requirements.txt (line 34)) (5.0.2)\n",
            "Requirement already satisfied: nbconvert in /usr/local/lib/python3.7/dist-packages (from jupyter>=1.0.0->-r requirements.txt (line 34)) (5.6.1)\n",
            "Requirement already satisfied: notebook in /usr/local/lib/python3.7/dist-packages (from jupyter>=1.0.0->-r requirements.txt (line 34)) (5.3.1)\n",
            "Collecting intervaltree>=3\n",
            "  Downloading https://files.pythonhosted.org/packages/50/fb/396d568039d21344639db96d940d40eb62befe704ef849b27949ded5c3bb/intervaltree-3.1.0.tar.gz\n",
            "Collecting pyinstrument-cext>=0.2.2\n",
            "  Downloading https://files.pythonhosted.org/packages/65/34/a6499005d697f8e17902954dccfff4f62c0d0802bd67c7e98cdf859b9e9f/pyinstrument_cext-0.2.4-cp37-cp37m-manylinux2010_x86_64.whl\n",
            "Requirement already satisfied: decorator>=4.3.0 in /usr/local/lib/python3.7/dist-packages (from networkx>=2.2->hyperopt>=0.2.5->-r requirements.txt (line 8)) (4.4.2)\n",
            "Collecting bravado-core>=5.16.1\n",
            "\u001b[?25l  Downloading https://files.pythonhosted.org/packages/76/11/18e9d28a156c33f2d5f15a5e155dc7130250acb0a569255a2b6b307b596d/bravado_core-5.17.0-py2.py3-none-any.whl (67kB)\n",
            "\u001b[K     |████████████████████████████████| 71kB 11.5MB/s \n",
            "\u001b[?25hRequirement already satisfied: msgpack in /usr/local/lib/python3.7/dist-packages (from bravado->neptune-client>=0.4.125->-r requirements.txt (line 9)) (1.0.2)\n",
            "Collecting monotonic\n",
            "  Downloading https://files.pythonhosted.org/packages/ac/aa/063eca6a416f397bd99552c534c6d11d57f58f2e94c14780f3bbf818c4cf/monotonic-1.5-py2.py3-none-any.whl\n",
            "Collecting simplejson\n",
            "\u001b[?25l  Downloading https://files.pythonhosted.org/packages/a8/04/377418ac1e530ce2a196b54c6552c018fdf1fe776718053efb1f216bffcd/simplejson-3.17.2-cp37-cp37m-manylinux2010_x86_64.whl (128kB)\n",
            "\u001b[K     |████████████████████████████████| 133kB 41.8MB/s \n",
            "\u001b[?25hRequirement already satisfied: chardet<4,>=3.0.2 in /usr/local/lib/python3.7/dist-packages (from requests>=2.20.0->neptune-client>=0.4.125->-r requirements.txt (line 9)) (3.0.4)\n",
            "Requirement already satisfied: idna<3,>=2.5 in /usr/local/lib/python3.7/dist-packages (from requests>=2.20.0->neptune-client>=0.4.125->-r requirements.txt (line 9)) (2.10)\n",
            "Requirement already satisfied: certifi>=2017.4.17 in /usr/local/lib/python3.7/dist-packages (from requests>=2.20.0->neptune-client>=0.4.125->-r requirements.txt (line 9)) (2020.12.5)\n",
            "Requirement already satisfied: urllib3!=1.25.0,!=1.25.1,<1.26,>=1.21.1 in /usr/local/lib/python3.7/dist-packages (from requests>=2.20.0->neptune-client>=0.4.125->-r requirements.txt (line 9)) (1.24.3)\n",
            "Collecting gitdb<5,>=4.0.1\n",
            "\u001b[?25l  Downloading https://files.pythonhosted.org/packages/48/11/d1800bca0a3bae820b84b7d813ad1eff15a48a64caea9c823fc8c1b119e8/gitdb-4.0.5-py3-none-any.whl (63kB)\n",
            "\u001b[K     |████████████████████████████████| 71kB 12.1MB/s \n",
            "\u001b[?25hRequirement already satisfied: pyparsing>=2.0.2 in /usr/local/lib/python3.7/dist-packages (from packaging->neptune-client>=0.4.125->-r requirements.txt (line 9)) (2.4.7)\n",
            "Requirement already satisfied: importlib-metadata; python_version < \"3.8\" in /usr/local/lib/python3.7/dist-packages (from fsspec[http]>=0.8.1->pytorch_lightning>=1.0.5->-r requirements.txt (line 13)) (3.4.0)\n",
            "Collecting aiohttp; extra == \"http\"\n",
            "\u001b[?25l  Downloading https://files.pythonhosted.org/packages/5b/a6/d36302eba284f4f427dc288f6b3ecd7f89d739cfca206b80311d3158f6d9/aiohttp-3.7.4-cp37-cp37m-manylinux2014_x86_64.whl (1.3MB)\n",
            "\u001b[K     |████████████████████████████████| 1.3MB 47.6MB/s \n",
            "\u001b[?25hRequirement already satisfied: rsa<5,>=3.1.4; python_version >= \"3.6\" in /usr/local/lib/python3.7/dist-packages (from google-auth<2,>=1.6.3->tensorboard>=2.4->-r requirements.txt (line 14)) (4.7.1)\n",
            "Requirement already satisfied: cachetools<5.0,>=2.0.0 in /usr/local/lib/python3.7/dist-packages (from google-auth<2,>=1.6.3->tensorboard>=2.4->-r requirements.txt (line 14)) (4.2.1)\n",
            "Requirement already satisfied: pyasn1-modules>=0.2.1 in /usr/local/lib/python3.7/dist-packages (from google-auth<2,>=1.6.3->tensorboard>=2.4->-r requirements.txt (line 14)) (0.2.8)\n",
            "Requirement already satisfied: MarkupSafe>=0.23 in /usr/local/lib/python3.7/dist-packages (from Jinja2>=2.10.1->flask>=1.1.1->-r requirements.txt (line 23)) (1.1.1)\n",
            "Requirement already satisfied: pygments in /usr/local/lib/python3.7/dist-packages (from jupyter-console->jupyter>=1.0.0->-r requirements.txt (line 34)) (2.6.1)\n",
            "Requirement already satisfied: prompt-toolkit<2.0.0,>=1.0.0 in /usr/local/lib/python3.7/dist-packages (from jupyter-console->jupyter>=1.0.0->-r requirements.txt (line 34)) (1.0.18)\n",
            "Requirement already satisfied: ipython in /usr/local/lib/python3.7/dist-packages (from jupyter-console->jupyter>=1.0.0->-r requirements.txt (line 34)) (5.5.0)\n",
            "Requirement already satisfied: jupyter-client in /usr/local/lib/python3.7/dist-packages (from jupyter-console->jupyter>=1.0.0->-r requirements.txt (line 34)) (5.3.5)\n",
            "Requirement already satisfied: traitlets>=4.1.0 in /usr/local/lib/python3.7/dist-packages (from ipykernel->jupyter>=1.0.0->-r requirements.txt (line 34)) (4.3.3)\n",
            "Requirement already satisfied: tornado>=4.0 in /usr/local/lib/python3.7/dist-packages (from ipykernel->jupyter>=1.0.0->-r requirements.txt (line 34)) (5.1.1)\n",
            "Requirement already satisfied: widgetsnbextension~=3.5.0 in /usr/local/lib/python3.7/dist-packages (from ipywidgets->jupyter>=1.0.0->-r requirements.txt (line 34)) (3.5.1)\n",
            "Requirement already satisfied: jupyterlab-widgets>=1.0.0; python_version >= \"3.6\" in /usr/local/lib/python3.7/dist-packages (from ipywidgets->jupyter>=1.0.0->-r requirements.txt (line 34)) (1.0.0)\n",
            "Requirement already satisfied: nbformat>=4.2.0 in /usr/local/lib/python3.7/dist-packages (from ipywidgets->jupyter>=1.0.0->-r requirements.txt (line 34)) (5.1.2)\n",
            "Requirement already satisfied: ipython-genutils in /usr/local/lib/python3.7/dist-packages (from qtconsole->jupyter>=1.0.0->-r requirements.txt (line 34)) (0.2.0)\n",
            "Requirement already satisfied: pyzmq>=17.1 in /usr/local/lib/python3.7/dist-packages (from qtconsole->jupyter>=1.0.0->-r requirements.txt (line 34)) (22.0.3)\n",
            "Requirement already satisfied: qtpy in /usr/local/lib/python3.7/dist-packages (from qtconsole->jupyter>=1.0.0->-r requirements.txt (line 34)) (1.9.0)\n",
            "Requirement already satisfied: jupyter-core in /usr/local/lib/python3.7/dist-packages (from qtconsole->jupyter>=1.0.0->-r requirements.txt (line 34)) (4.7.1)\n",
            "Requirement already satisfied: entrypoints>=0.2.2 in /usr/local/lib/python3.7/dist-packages (from nbconvert->jupyter>=1.0.0->-r requirements.txt (line 34)) (0.3)\n",
            "Requirement already satisfied: pandocfilters>=1.4.1 in /usr/local/lib/python3.7/dist-packages (from nbconvert->jupyter>=1.0.0->-r requirements.txt (line 34)) (1.4.3)\n",
            "Requirement already satisfied: mistune<2,>=0.8.1 in /usr/local/lib/python3.7/dist-packages (from nbconvert->jupyter>=1.0.0->-r requirements.txt (line 34)) (0.8.4)\n",
            "Requirement already satisfied: testpath in /usr/local/lib/python3.7/dist-packages (from nbconvert->jupyter>=1.0.0->-r requirements.txt (line 34)) (0.4.4)\n",
            "Requirement already satisfied: bleach in /usr/local/lib/python3.7/dist-packages (from nbconvert->jupyter>=1.0.0->-r requirements.txt (line 34)) (3.3.0)\n",
            "Requirement already satisfied: defusedxml in /usr/local/lib/python3.7/dist-packages (from nbconvert->jupyter>=1.0.0->-r requirements.txt (line 34)) (0.6.0)\n",
            "Requirement already satisfied: terminado>=0.8.1 in /usr/local/lib/python3.7/dist-packages (from notebook->jupyter>=1.0.0->-r requirements.txt (line 34)) (0.9.2)\n",
            "Requirement already satisfied: Send2Trash in /usr/local/lib/python3.7/dist-packages (from notebook->jupyter>=1.0.0->-r requirements.txt (line 34)) (1.5.0)\n",
            "Requirement already satisfied: sortedcontainers<3.0,>=2.0 in /usr/local/lib/python3.7/dist-packages (from intervaltree>=3->ipymarkup>=0.5.0->-r requirements.txt (line 35)) (2.3.0)\n",
            "Collecting swagger-spec-validator>=2.0.1\n",
            "  Downloading https://files.pythonhosted.org/packages/09/de/e78cefbf5838b434b63a789264b79821cb2267f1498fbed23ef8590133e4/swagger_spec_validator-2.7.3-py2.py3-none-any.whl\n",
            "Collecting jsonref\n",
            "  Downloading https://files.pythonhosted.org/packages/07/92/f8e4ac824b14af77e613984e480fa818397c72d4141fc466decb26752749/jsonref-0.2-py3-none-any.whl\n",
            "Requirement already satisfied: jsonschema[format]>=2.5.1 in /usr/local/lib/python3.7/dist-packages (from bravado-core>=5.16.1->bravado->neptune-client>=0.4.125->-r requirements.txt (line 9)) (2.6.0)\n",
            "Collecting smmap<4,>=3.0.1\n",
            "  Downloading https://files.pythonhosted.org/packages/d5/1e/6130925131f639b2acde0f7f18b73e33ce082ff2d90783c436b52040af5a/smmap-3.0.5-py2.py3-none-any.whl\n",
            "Requirement already satisfied: zipp>=0.5 in /usr/local/lib/python3.7/dist-packages (from importlib-metadata; python_version < \"3.8\"->fsspec[http]>=0.8.1->pytorch_lightning>=1.0.5->-r requirements.txt (line 13)) (3.4.0)\n",
            "Collecting multidict<7.0,>=4.5\n",
            "\u001b[?25l  Downloading https://files.pythonhosted.org/packages/7c/a6/4123b8165acbe773d1a8dc8e3f0d1edea16d29f7de018eda769abb56bd30/multidict-5.1.0-cp37-cp37m-manylinux2014_x86_64.whl (142kB)\n",
            "\u001b[K     |████████████████████████████████| 143kB 60.5MB/s \n",
            "\u001b[?25hCollecting async-timeout<4.0,>=3.0\n",
            "  Downloading https://files.pythonhosted.org/packages/e1/1e/5a4441be21b0726c4464f3f23c8b19628372f606755a9d2e46c187e65ec4/async_timeout-3.0.1-py3-none-any.whl\n",
            "Collecting yarl<2.0,>=1.0\n",
            "\u001b[?25l  Downloading https://files.pythonhosted.org/packages/f1/62/046834c5fc998c88ab2ef722f5d42122230a632212c8afa76418324f53ff/yarl-1.6.3-cp37-cp37m-manylinux2014_x86_64.whl (294kB)\n",
            "\u001b[K     |████████████████████████████████| 296kB 57.6MB/s \n",
            "\u001b[?25hRequirement already satisfied: attrs>=17.3.0 in /usr/local/lib/python3.7/dist-packages (from aiohttp; extra == \"http\"->fsspec[http]>=0.8.1->pytorch_lightning>=1.0.5->-r requirements.txt (line 13)) (20.3.0)\n",
            "Requirement already satisfied: pyasn1>=0.1.3 in /usr/local/lib/python3.7/dist-packages (from rsa<5,>=3.1.4; python_version >= \"3.6\"->google-auth<2,>=1.6.3->tensorboard>=2.4->-r requirements.txt (line 14)) (0.4.8)\n",
            "Requirement already satisfied: wcwidth in /usr/local/lib/python3.7/dist-packages (from prompt-toolkit<2.0.0,>=1.0.0->jupyter-console->jupyter>=1.0.0->-r requirements.txt (line 34)) (0.2.5)\n",
            "Requirement already satisfied: simplegeneric>0.8 in /usr/local/lib/python3.7/dist-packages (from ipython->jupyter-console->jupyter>=1.0.0->-r requirements.txt (line 34)) (0.8.1)\n",
            "Requirement already satisfied: pexpect; sys_platform != \"win32\" in /usr/local/lib/python3.7/dist-packages (from ipython->jupyter-console->jupyter>=1.0.0->-r requirements.txt (line 34)) (4.8.0)\n",
            "Requirement already satisfied: pickleshare in /usr/local/lib/python3.7/dist-packages (from ipython->jupyter-console->jupyter>=1.0.0->-r requirements.txt (line 34)) (0.7.5)\n",
            "Requirement already satisfied: webencodings in /usr/local/lib/python3.7/dist-packages (from bleach->nbconvert->jupyter>=1.0.0->-r requirements.txt (line 34)) (0.5.1)\n",
            "Requirement already satisfied: ptyprocess; os_name != \"nt\" in /usr/local/lib/python3.7/dist-packages (from terminado>=0.8.1->notebook->jupyter>=1.0.0->-r requirements.txt (line 34)) (0.7.0)\n",
            "Collecting strict-rfc3339; extra == \"format\"\n",
            "  Downloading https://files.pythonhosted.org/packages/56/e4/879ef1dbd6ddea1c77c0078cd59b503368b0456bcca7d063a870ca2119d3/strict-rfc3339-0.7.tar.gz\n",
            "Collecting webcolors; extra == \"format\"\n",
            "  Downloading https://files.pythonhosted.org/packages/12/05/3350559de9714b202e443a9e6312937341bd5f79f4e4f625744295e7dd17/webcolors-1.11.1-py3-none-any.whl\n",
            "Collecting rfc3987; extra == \"format\"\n",
            "  Downloading https://files.pythonhosted.org/packages/65/d4/f7407c3d15d5ac779c3dd34fbbc6ea2090f77bd7dd12f207ccf881551208/rfc3987-1.3.8-py2.py3-none-any.whl\n",
            "Building wheels for collected packages: neptune-client, jsonnet, fasttext, hnswlib, PyYAML, sacremoses, DAWG, intervaltree, strict-rfc3339\n",
            "  Building wheel for neptune-client (setup.py) ... \u001b[?25l\u001b[?25hdone\n",
            "  Created wheel for neptune-client: filename=neptune_client-0.5.1-py2.py3-none-any.whl size=166841 sha256=9269e4a4bd6f31eeb38d15780091e22d38a213dc08ca9f9bbbcd7c98a2372f32\n",
            "  Stored in directory: /root/.cache/pip/wheels/d4/86/b4/7264d87893c539c192b81bec01d3b131d7e71eba5f2936fcde\n",
            "  Building wheel for jsonnet (setup.py) ... \u001b[?25l\u001b[?25hdone\n",
            "  Created wheel for jsonnet: filename=jsonnet-0.17.0-cp37-cp37m-linux_x86_64.whl size=3388781 sha256=6691d06882688270c7f36a222cad8cedbda18347d1550457318161a457a363b2\n",
            "  Stored in directory: /root/.cache/pip/wheels/26/7a/37/7dbcc30a6b4efd17b91ad1f0128b7bbf84813bd4e1cfb8c1e3\n",
            "  Building wheel for fasttext (setup.py) ... \u001b[?25l\u001b[?25hdone\n",
            "  Created wheel for fasttext: filename=fasttext-0.9.2-cp37-cp37m-linux_x86_64.whl size=3095971 sha256=806307238b661b842ad4f2c6fd294af14fda109e84c48d8c3e5bf910fc6df111\n",
            "  Stored in directory: /root/.cache/pip/wheels/98/ba/7f/b154944a1cf5a8cee91c154b75231136cc3a3321ab0e30f592\n",
            "  Building wheel for hnswlib (setup.py) ... \u001b[?25l\u001b[?25hdone\n",
            "  Created wheel for hnswlib: filename=hnswlib-0.4.0-cp37-cp37m-linux_x86_64.whl size=1092476 sha256=425b19d2fab043ea654902b434a4c2ee3526b8761d1966e011a4023733a25200\n",
            "  Stored in directory: /root/.cache/pip/wheels/df/f2/29/022c2c8b188c4daaf0c46b801d304ffaf0091bbe294b94a2d4\n",
            "  Building wheel for PyYAML (setup.py) ... \u001b[?25l\u001b[?25hdone\n",
            "  Created wheel for PyYAML: filename=PyYAML-5.3.1-cp37-cp37m-linux_x86_64.whl size=44620 sha256=644ce1f5178c84ff7dfc62b385c95113d3597c353c84a500af17f428777c0cf5\n",
            "  Stored in directory: /root/.cache/pip/wheels/a7/c1/ea/cf5bd31012e735dc1dfea3131a2d5eae7978b251083d6247bd\n",
            "  Building wheel for sacremoses (setup.py) ... \u001b[?25l\u001b[?25hdone\n",
            "  Created wheel for sacremoses: filename=sacremoses-0.0.43-cp37-none-any.whl size=893262 sha256=a78f7f0ef21cc4b79c100a869fefa60ced681ec6e49952d3dd89351c7d7f03af\n",
            "  Stored in directory: /root/.cache/pip/wheels/29/3c/fd/7ce5c3f0666dab31a50123635e6fb5e19ceb42ce38d4e58f45\n",
            "  Building wheel for DAWG (setup.py) ... \u001b[?25l\u001b[?25hdone\n",
            "  Created wheel for DAWG: filename=DAWG-0.8.0-cp37-cp37m-linux_x86_64.whl size=859047 sha256=1b7ee3b6a4ec4b92bb5ee4e12df1cf3abab9f25a219ae35472a5b9b5c855d7b2\n",
            "  Stored in directory: /root/.cache/pip/wheels/3d/1f/f0/a5b1f9d02e193c997d252c33d215f24dfd7a448bc0166b2a12\n",
            "  Building wheel for intervaltree (setup.py) ... \u001b[?25l\u001b[?25hdone\n",
            "  Created wheel for intervaltree: filename=intervaltree-3.1.0-py2.py3-none-any.whl size=26102 sha256=a3dd55f4b8350850f316ebab31825bf2c2c6503cc3ee35d26c4009103f9440db\n",
            "  Stored in directory: /root/.cache/pip/wheels/f3/f2/66/e9c30d3e9499e65ea2fa0d07c002e64de63bd0adaa49c445bf\n",
            "  Building wheel for strict-rfc3339 (setup.py) ... \u001b[?25l\u001b[?25hdone\n",
            "  Created wheel for strict-rfc3339: filename=strict_rfc3339-0.7-cp37-none-any.whl size=18121 sha256=223c524eaafa6c820eb2e476641ef4bd3db0292c8fc85b3c06d4621ac88b3145\n",
            "  Stored in directory: /root/.cache/pip/wheels/bb/af/c9/b6e9fb5f9b2470e4ed2a7241c9ab3a8cdd3bc8555ae02ca2e6\n",
            "Successfully built neptune-client jsonnet fasttext hnswlib PyYAML sacremoses DAWG intervaltree strict-rfc3339\n",
            "\u001b[31mERROR: tensorflow 2.4.1 has requirement numpy~=1.19.2, but you'll have numpy 1.18.5 which is incompatible.\u001b[0m\n",
            "\u001b[31mERROR: datascience 0.10.6 has requirement folium==0.2.1, but you'll have folium 0.8.3 which is incompatible.\u001b[0m\n",
            "\u001b[31mERROR: albumentations 0.1.12 has requirement imgaug<0.2.7,>=0.2.5, but you'll have imgaug 0.2.9 which is incompatible.\u001b[0m\n",
            "\u001b[31mERROR: neptune-client 0.5.1 has requirement future>=0.17.1, but you'll have future 0.16.0 which is incompatible.\u001b[0m\n",
            "\u001b[31mERROR: pytorch-lightning 1.2.1 has requirement future>=0.17.1, but you'll have future 0.16.0 which is incompatible.\u001b[0m\n",
            "Installing collected packages: numpy, hyperopt, PyYAML, swagger-spec-validator, jsonref, simplejson, bravado-core, monotonic, bravado, PyJWT, websocket-client, smmap, gitdb, GitPython, neptune-client, multidict, async-timeout, yarl, aiohttp, fsspec, pytorch-lightning, tensorboardX, tokenizers, sentencepiece, sacremoses, transformers, jsonnet, flask-sqlalchemy, pyonmttok, fasttext, razdel, navec, slovnet, pymorphy2-dicts-ru, dawg-python, DAWG, pymorphy2, intervaltree, ipymarkup, pyinstrument-cext, pyinstrument, hnswlib, strict-rfc3339, webcolors, rfc3987\n",
            "  Found existing installation: numpy 1.19.5\n",
            "    Uninstalling numpy-1.19.5:\n",
            "      Successfully uninstalled numpy-1.19.5\n",
            "  Found existing installation: hyperopt 0.1.2\n",
            "    Uninstalling hyperopt-0.1.2:\n",
            "      Successfully uninstalled hyperopt-0.1.2\n",
            "  Found existing installation: PyYAML 3.13\n",
            "    Uninstalling PyYAML-3.13:\n",
            "      Successfully uninstalled PyYAML-3.13\n",
            "  Found existing installation: intervaltree 2.1.0\n",
            "    Uninstalling intervaltree-2.1.0:\n",
            "      Successfully uninstalled intervaltree-2.1.0\n",
            "Successfully installed DAWG-0.8.0 GitPython-3.1.13 PyJWT-2.0.1 PyYAML-5.3.1 aiohttp-3.7.4 async-timeout-3.0.1 bravado-11.0.2 bravado-core-5.17.0 dawg-python-0.7.2 fasttext-0.9.2 flask-sqlalchemy-2.4.4 fsspec-0.8.7 gitdb-4.0.5 hnswlib-0.4.0 hyperopt-0.2.5 intervaltree-3.1.0 ipymarkup-0.9.0 jsonnet-0.17.0 jsonref-0.2 monotonic-1.5 multidict-5.1.0 navec-0.10.0 neptune-client-0.5.1 numpy-1.18.5 pyinstrument-3.2.0 pyinstrument-cext-0.2.4 pymorphy2-0.9.1 pymorphy2-dicts-ru-2.4.417127.4579844 pyonmttok-1.24.0 pytorch-lightning-1.2.1 razdel-0.5.0 rfc3987-1.3.8 sacremoses-0.0.43 sentencepiece-0.1.95 simplejson-3.17.2 slovnet-0.4.0 smmap-3.0.5 strict-rfc3339-0.7 swagger-spec-validator-2.7.3 tensorboardX-2.1 tokenizers-0.9.2 transformers-3.4.0 webcolors-1.11.1 websocket-client-0.57.0 yarl-1.6.3\n"
          ],
          "name": "stdout"
        },
        {
          "output_type": "display_data",
          "data": {
            "application/vnd.colab-display-data+json": {
              "pip_warning": {
                "packages": [
                  "numpy"
                ]
              }
            }
          },
          "metadata": {
            "tags": []
          }
        },
        {
          "output_type": "stream",
          "text": [
            "Requirement already satisfied: pip in /usr/local/lib/python3.7/dist-packages (19.3.1)\n",
            "Collecting install\n",
            "  Downloading https://files.pythonhosted.org/packages/f0/a5/fd2eb807a9a593869ee8b7a6bcb4ad84a6eb31cef5c24d1bfbf7c938c13f/install-1.3.4-py3-none-any.whl\n",
            "Collecting sentence-transformers\n",
            "\u001b[?25l  Downloading https://files.pythonhosted.org/packages/6a/e2/84d6acfcee2d83164149778a33b6bdd1a74e1bcb59b2b2cd1b861359b339/sentence-transformers-0.4.1.2.tar.gz (64kB)\n",
            "\u001b[K     |████████████████████████████████| 71kB 5.8MB/s \n",
            "\u001b[?25hRequirement already satisfied: transformers<5.0.0,>=3.1.0 in /usr/local/lib/python3.7/dist-packages (from sentence-transformers) (3.4.0)\n",
            "Requirement already satisfied: tqdm in /usr/local/lib/python3.7/dist-packages (from sentence-transformers) (4.41.1)\n",
            "Requirement already satisfied: torch>=1.6.0 in /usr/local/lib/python3.7/dist-packages (from sentence-transformers) (1.7.0+cu101)\n",
            "Requirement already satisfied: numpy in /usr/local/lib/python3.7/dist-packages (from sentence-transformers) (1.18.5)\n",
            "Requirement already satisfied: scikit-learn in /usr/local/lib/python3.7/dist-packages (from sentence-transformers) (0.22.2.post1)\n",
            "Requirement already satisfied: scipy in /usr/local/lib/python3.7/dist-packages (from sentence-transformers) (1.4.1)\n",
            "Requirement already satisfied: nltk in /usr/local/lib/python3.7/dist-packages (from sentence-transformers) (3.2.5)\n",
            "Requirement already satisfied: sentencepiece in /usr/local/lib/python3.7/dist-packages (from sentence-transformers) (0.1.95)\n",
            "Requirement already satisfied: protobuf in /usr/local/lib/python3.7/dist-packages (from transformers<5.0.0,>=3.1.0->sentence-transformers) (3.12.4)\n",
            "Requirement already satisfied: sacremoses in /usr/local/lib/python3.7/dist-packages (from transformers<5.0.0,>=3.1.0->sentence-transformers) (0.0.43)\n",
            "Requirement already satisfied: requests in /usr/local/lib/python3.7/dist-packages (from transformers<5.0.0,>=3.1.0->sentence-transformers) (2.23.0)\n",
            "Requirement already satisfied: regex!=2019.12.17 in /usr/local/lib/python3.7/dist-packages (from transformers<5.0.0,>=3.1.0->sentence-transformers) (2019.12.20)\n",
            "Requirement already satisfied: packaging in /usr/local/lib/python3.7/dist-packages (from transformers<5.0.0,>=3.1.0->sentence-transformers) (20.9)\n",
            "Requirement already satisfied: tokenizers==0.9.2 in /usr/local/lib/python3.7/dist-packages (from transformers<5.0.0,>=3.1.0->sentence-transformers) (0.9.2)\n",
            "Requirement already satisfied: filelock in /usr/local/lib/python3.7/dist-packages (from transformers<5.0.0,>=3.1.0->sentence-transformers) (3.0.12)\n",
            "Requirement already satisfied: typing-extensions in /usr/local/lib/python3.7/dist-packages (from torch>=1.6.0->sentence-transformers) (3.7.4.3)\n",
            "Requirement already satisfied: dataclasses in /usr/local/lib/python3.7/dist-packages (from torch>=1.6.0->sentence-transformers) (0.6)\n",
            "Requirement already satisfied: future in /usr/local/lib/python3.7/dist-packages (from torch>=1.6.0->sentence-transformers) (0.16.0)\n",
            "Requirement already satisfied: joblib>=0.11 in /usr/local/lib/python3.7/dist-packages (from scikit-learn->sentence-transformers) (1.0.1)\n",
            "Requirement already satisfied: six in /usr/local/lib/python3.7/dist-packages (from nltk->sentence-transformers) (1.15.0)\n",
            "Requirement already satisfied: setuptools in /usr/local/lib/python3.7/dist-packages (from protobuf->transformers<5.0.0,>=3.1.0->sentence-transformers) (53.0.0)\n",
            "Requirement already satisfied: click in /usr/local/lib/python3.7/dist-packages (from sacremoses->transformers<5.0.0,>=3.1.0->sentence-transformers) (7.1.2)\n",
            "Requirement already satisfied: urllib3!=1.25.0,!=1.25.1,<1.26,>=1.21.1 in /usr/local/lib/python3.7/dist-packages (from requests->transformers<5.0.0,>=3.1.0->sentence-transformers) (1.24.3)\n",
            "Requirement already satisfied: idna<3,>=2.5 in /usr/local/lib/python3.7/dist-packages (from requests->transformers<5.0.0,>=3.1.0->sentence-transformers) (2.10)\n",
            "Requirement already satisfied: chardet<4,>=3.0.2 in /usr/local/lib/python3.7/dist-packages (from requests->transformers<5.0.0,>=3.1.0->sentence-transformers) (3.0.4)\n",
            "Requirement already satisfied: certifi>=2017.4.17 in /usr/local/lib/python3.7/dist-packages (from requests->transformers<5.0.0,>=3.1.0->sentence-transformers) (2020.12.5)\n",
            "Requirement already satisfied: pyparsing>=2.0.2 in /usr/local/lib/python3.7/dist-packages (from packaging->transformers<5.0.0,>=3.1.0->sentence-transformers) (2.4.7)\n",
            "Building wheels for collected packages: sentence-transformers\n",
            "  Building wheel for sentence-transformers (setup.py) ... \u001b[?25l\u001b[?25hdone\n",
            "  Created wheel for sentence-transformers: filename=sentence_transformers-0.4.1.2-cp37-none-any.whl size=103068 sha256=c3075ee9cb1d09088c00cc84485ea340487703d6d6f54ae072441a8f175d6867\n",
            "  Stored in directory: /root/.cache/pip/wheels/3d/33/d1/5703dd56199c09d4a1b41e0c07fb4e7765a84d787cbdc48ac3\n",
            "Successfully built sentence-transformers\n",
            "Installing collected packages: install, sentence-transformers\n",
            "Successfully installed install-1.3.4 sentence-transformers-0.4.1.2\n"
          ],
          "name": "stdout"
        }
      ]
    },
    {
      "cell_type": "code",
      "metadata": {
        "colab": {
          "base_uri": "https://localhost:8080/"
        },
        "id": "oS89D_NM4r8h",
        "outputId": "17f4f1f9-01c3-4e6d-a975-e74556d913c4"
      },
      "source": [
        "!mkdir models/lang_detect\r\n",
        "!mkdir models/cat_detect\r\n",
        "!wget https://www.dropbox.com/s/hoapmnvqlknmu6v/lang_detect_v10.ftz -O models/lang_detect/lang_detect_v10.ftz\r\n",
        "!wget https://www.dropbox.com/s/23x35wuet280eh6/ru_cat_v5.ftz -O models/cat_detect/ru_cat_v5.ftz"
      ],
      "execution_count": 3,
      "outputs": [
        {
          "output_type": "stream",
          "text": [
            "--2021-02-26 11:19:34--  https://www.dropbox.com/s/hoapmnvqlknmu6v/lang_detect_v10.ftz\n",
            "Resolving www.dropbox.com (www.dropbox.com)... 162.125.1.18, 2620:100:601a:18::a27d:712\n",
            "Connecting to www.dropbox.com (www.dropbox.com)|162.125.1.18|:443... connected.\n",
            "HTTP request sent, awaiting response... 301 Moved Permanently\n",
            "Location: /s/raw/hoapmnvqlknmu6v/lang_detect_v10.ftz [following]\n",
            "--2021-02-26 11:19:34--  https://www.dropbox.com/s/raw/hoapmnvqlknmu6v/lang_detect_v10.ftz\n",
            "Reusing existing connection to www.dropbox.com:443.\n",
            "HTTP request sent, awaiting response... 302 Found\n",
            "Location: https://uc3760f37cff6a24428ed9cbab47.dl.dropboxusercontent.com/cd/0/inline/BJpAQ4vBbcr8q_qOdjXtafoFI38wPG_NjNkUDdeq3i0MMH3HjnUIZrFdheARmvVfgvEnxIJ74H9QM5NlYblP22mvCOEYw2cNl6BXToTm5yB8HJkoqngfaoh_O9jLHbZ3VFM/file# [following]\n",
            "--2021-02-26 11:19:34--  https://uc3760f37cff6a24428ed9cbab47.dl.dropboxusercontent.com/cd/0/inline/BJpAQ4vBbcr8q_qOdjXtafoFI38wPG_NjNkUDdeq3i0MMH3HjnUIZrFdheARmvVfgvEnxIJ74H9QM5NlYblP22mvCOEYw2cNl6BXToTm5yB8HJkoqngfaoh_O9jLHbZ3VFM/file\n",
            "Resolving uc3760f37cff6a24428ed9cbab47.dl.dropboxusercontent.com (uc3760f37cff6a24428ed9cbab47.dl.dropboxusercontent.com)... 162.125.1.15, 2620:100:601a:15::a27d:70f\n",
            "Connecting to uc3760f37cff6a24428ed9cbab47.dl.dropboxusercontent.com (uc3760f37cff6a24428ed9cbab47.dl.dropboxusercontent.com)|162.125.1.15|:443... connected.\n",
            "HTTP request sent, awaiting response... 302 Found\n",
            "Location: /cd/0/inline2/BJrZCfckZ1yUqKKoLAcbfEEKmhP_dbTulJ6tdAUUencI2iA4xoQC15c9FFguXPn_zH9BKCkbAoXTwqmpkioWGuzkLvDhw4kLkSpk5Qh_dRTgB0y8w2464g6wHG83qSvE1NQkglGq6v_hFdFiEG-pDtrVPbGM0-YPjs6M9JWYF31HIoZBzS8ZY6A7wmmsJ0vU7-B-G2pAEMEO72OezQoQOAy-TC7n00_W_-1ljHyWNW1bp3-XS9wF1EHueGls97_QR0VqltwkDbirzZGRRTMis5WMkyy3h7ctbzhwldsjW1vmFpi_Myuu_HlkhOR3E8vM6D2oKyWD9HVekIbM5Ce_6NeI7m6KBCu5N4_8mh7zvKtLHg/file [following]\n",
            "--2021-02-26 11:19:35--  https://uc3760f37cff6a24428ed9cbab47.dl.dropboxusercontent.com/cd/0/inline2/BJrZCfckZ1yUqKKoLAcbfEEKmhP_dbTulJ6tdAUUencI2iA4xoQC15c9FFguXPn_zH9BKCkbAoXTwqmpkioWGuzkLvDhw4kLkSpk5Qh_dRTgB0y8w2464g6wHG83qSvE1NQkglGq6v_hFdFiEG-pDtrVPbGM0-YPjs6M9JWYF31HIoZBzS8ZY6A7wmmsJ0vU7-B-G2pAEMEO72OezQoQOAy-TC7n00_W_-1ljHyWNW1bp3-XS9wF1EHueGls97_QR0VqltwkDbirzZGRRTMis5WMkyy3h7ctbzhwldsjW1vmFpi_Myuu_HlkhOR3E8vM6D2oKyWD9HVekIbM5Ce_6NeI7m6KBCu5N4_8mh7zvKtLHg/file\n",
            "Reusing existing connection to uc3760f37cff6a24428ed9cbab47.dl.dropboxusercontent.com:443.\n",
            "HTTP request sent, awaiting response... 200 OK\n",
            "Length: 1267083 (1.2M) [application/octet-stream]\n",
            "Saving to: ‘models/lang_detect/lang_detect_v10.ftz’\n",
            "\n",
            "models/lang_detect/ 100%[===================>]   1.21M  --.-KB/s    in 0.05s   \n",
            "\n",
            "2021-02-26 11:19:35 (26.6 MB/s) - ‘models/lang_detect/lang_detect_v10.ftz’ saved [1267083/1267083]\n",
            "\n",
            "--2021-02-26 11:19:35--  https://www.dropbox.com/s/23x35wuet280eh6/ru_cat_v5.ftz\n",
            "Resolving www.dropbox.com (www.dropbox.com)... 162.125.1.18, 2620:100:601a:18::a27d:712\n",
            "Connecting to www.dropbox.com (www.dropbox.com)|162.125.1.18|:443... connected.\n",
            "HTTP request sent, awaiting response... 301 Moved Permanently\n",
            "Location: /s/raw/23x35wuet280eh6/ru_cat_v5.ftz [following]\n",
            "--2021-02-26 11:19:35--  https://www.dropbox.com/s/raw/23x35wuet280eh6/ru_cat_v5.ftz\n",
            "Reusing existing connection to www.dropbox.com:443.\n",
            "HTTP request sent, awaiting response... 302 Found\n",
            "Location: https://ucb4d7bb4738c2ba0207298ffc81.dl.dropboxusercontent.com/cd/0/inline/BJr907eDKP-uqX0R20myBWICSN2dwnfgfOx9FvHsd3BPKl6AQSsY53CZyZ2RjkOyfA-UsuTRZw1XX0gDVerOQT5NdCUYRwVhmMr1pUMk9vm7GeyoOQOfGeXBU8c7MQNh71o/file# [following]\n",
            "--2021-02-26 11:19:35--  https://ucb4d7bb4738c2ba0207298ffc81.dl.dropboxusercontent.com/cd/0/inline/BJr907eDKP-uqX0R20myBWICSN2dwnfgfOx9FvHsd3BPKl6AQSsY53CZyZ2RjkOyfA-UsuTRZw1XX0gDVerOQT5NdCUYRwVhmMr1pUMk9vm7GeyoOQOfGeXBU8c7MQNh71o/file\n",
            "Resolving ucb4d7bb4738c2ba0207298ffc81.dl.dropboxusercontent.com (ucb4d7bb4738c2ba0207298ffc81.dl.dropboxusercontent.com)... 162.125.1.15, 2620:100:6016:15::a27d:10f\n",
            "Connecting to ucb4d7bb4738c2ba0207298ffc81.dl.dropboxusercontent.com (ucb4d7bb4738c2ba0207298ffc81.dl.dropboxusercontent.com)|162.125.1.15|:443... connected.\n",
            "HTTP request sent, awaiting response... 302 Found\n",
            "Location: /cd/0/inline2/BJoi9ieKOVDVvh2C6YxWw9lxi5HS5pgcojgrbkontJuYw4r99A6F-eAKSbjf_dnSR0VuX1LN8248sbu-7nIfOkYQVJFGuR0goFbMsP4VcVcJYsHRwePQ4piBlFp3T0CxlZlCUWUvs0wrOaZy-yhdx9v-7QjuSz-o16xUsZJdEfHuXUiWk07YStHpGYepX9D_IH7NSXLPm4QKaeqVEKaMy-p9ripJj0mHjhUuZ4KtwIEvYiQsb6Bzibo9znn4AMP1k5zitFIaaJ8jU8loTtOhwjUHuTdpk-b5yQNBp3fF5yCR3X3U6xbR670XD02WBPni7Qyu_KG9o39E5A9U6EmYA_5Mh8arrEGXxr-ndZxN44-vWQ/file [following]\n",
            "--2021-02-26 11:19:36--  https://ucb4d7bb4738c2ba0207298ffc81.dl.dropboxusercontent.com/cd/0/inline2/BJoi9ieKOVDVvh2C6YxWw9lxi5HS5pgcojgrbkontJuYw4r99A6F-eAKSbjf_dnSR0VuX1LN8248sbu-7nIfOkYQVJFGuR0goFbMsP4VcVcJYsHRwePQ4piBlFp3T0CxlZlCUWUvs0wrOaZy-yhdx9v-7QjuSz-o16xUsZJdEfHuXUiWk07YStHpGYepX9D_IH7NSXLPm4QKaeqVEKaMy-p9ripJj0mHjhUuZ4KtwIEvYiQsb6Bzibo9znn4AMP1k5zitFIaaJ8jU8loTtOhwjUHuTdpk-b5yQNBp3fF5yCR3X3U6xbR670XD02WBPni7Qyu_KG9o39E5A9U6EmYA_5Mh8arrEGXxr-ndZxN44-vWQ/file\n",
            "Reusing existing connection to ucb4d7bb4738c2ba0207298ffc81.dl.dropboxusercontent.com:443.\n",
            "HTTP request sent, awaiting response... 200 OK\n",
            "Length: 103892031 (99M) [application/octet-stream]\n",
            "Saving to: ‘models/cat_detect/ru_cat_v5.ftz’\n",
            "\n",
            "models/cat_detect/r 100%[===================>]  99.08M  79.9MB/s    in 1.2s    \n",
            "\n",
            "2021-02-26 11:19:38 (79.9 MB/s) - ‘models/cat_detect/ru_cat_v5.ftz’ saved [103892031/103892031]\n",
            "\n"
          ],
          "name": "stdout"
        }
      ]
    },
    {
      "cell_type": "code",
      "metadata": {
        "colab": {
          "base_uri": "https://localhost:8080/"
        },
        "id": "IkWaqvA54tIy",
        "outputId": "7b4cf8fa-7cc1-44bc-e46c-67a98c1b6a4a"
      },
      "source": [
        "# May 25 (training)\r\n",
        "!rm -rf data\r\n",
        "!mkdir -p data\r\n",
        "!cd data && wget https://data-static.usercontent.dev/DataClusteringDataset0525.tar.gz -O - | tar -xz && cd ../"
      ],
      "execution_count": 4,
      "outputs": [
        {
          "output_type": "stream",
          "text": [
            "--2021-02-26 11:19:43--  https://data-static.usercontent.dev/DataClusteringDataset0525.tar.gz\n",
            "Resolving data-static.usercontent.dev (data-static.usercontent.dev)... 178.128.255.27\n",
            "Connecting to data-static.usercontent.dev (data-static.usercontent.dev)|178.128.255.27|:443... connected.\n",
            "HTTP request sent, awaiting response... 200 OK\n",
            "Length: 145541247 (139M) [application/octet-stream]\n",
            "Saving to: ‘STDOUT’\n",
            "\n",
            "-                   100%[===================>] 138.80M  18.0MB/s    in 9.3s    \n",
            "\n",
            "2021-02-26 11:19:53 (14.9 MB/s) - written to stdout [145541247/145541247]\n",
            "\n"
          ],
          "name": "stdout"
        }
      ]
    },
    {
      "cell_type": "code",
      "metadata": {
        "id": "qYr0O_PJ40wu",
        "colab": {
          "base_uri": "https://localhost:8080/"
        },
        "outputId": "06f9d791-ba07-4207-a224-30f898e858ea"
      },
      "source": [
        "%%writefile configs/cleaner.jsonnet\r\n",
        "{\r\n",
        "    \"lang_detect_model_path\": \"models/lang_detect/lang_detect_v10.ftz\",\r\n",
        "    \"cat_detect_model_path\": \"models/cat_detect/ru_cat_v5.ftz\",\r\n",
        "    \"is_lower\": true,\r\n",
        "    \"is_russian_only\": true,\r\n",
        "    \"is_news_only\": true\r\n",
        "}"
      ],
      "execution_count": 5,
      "outputs": [
        {
          "output_type": "stream",
          "text": [
            "Overwriting configs/cleaner.jsonnet\n"
          ],
          "name": "stdout"
        }
      ]
    },
    {
      "cell_type": "code",
      "metadata": {
        "id": "7JOPf8ve47uN",
        "colab": {
          "base_uri": "https://localhost:8080/"
        },
        "outputId": "623639ed-1e0d-4be5-b90a-835f805dcf88"
      },
      "source": [
        "!rm -f 0525_parsed.db\r\n",
        "!python3 -m purano.run_parse --inputs \"data/20200525\" --output-file 0525_parsed.db --fmt html --cleaner-config configs/cleaner.jsonnet"
      ],
      "execution_count": 6,
      "outputs": [
        {
          "output_type": "stream",
          "text": [
            "Warning : `load_model` does not return WordVectorModel or SupervisedModel any more, but a `FastText` object which is very similar.\n",
            "Warning : `load_model` does not return WordVectorModel or SupervisedModel any more, but a `FastText` object which is very similar.\n",
            "Parsed 10000 documents\n",
            "Parsed 20000 documents\n",
            "Parsed 30000 documents\n",
            "Parsed 40000 documents\n",
            "Parsed 50000 documents\n",
            "Parsed 60000 documents\n",
            "Parsed 70000 documents\n",
            "Parsed 80000 documents\n",
            "19380 will be saved\n",
            "<class 'pandas.core.frame.DataFrame'>\n",
            "Int64Index: 19380 entries, 19379 to 15162\n",
            "Data columns (total 8 columns):\n",
            " #   Column         Non-Null Count  Dtype                    \n",
            "---  ------         --------------  -----                    \n",
            " 0   url            19380 non-null  object                   \n",
            " 1   host           19380 non-null  object                   \n",
            " 2   title          19380 non-null  object                   \n",
            " 3   text           19380 non-null  object                   \n",
            " 4   date           19380 non-null  datetime64[ns, tzlocal()]\n",
            " 5   patched_title  19380 non-null  object                   \n",
            " 6   patched_text   19380 non-null  object                   \n",
            " 7   category       19380 non-null  object                   \n",
            "dtypes: datetime64[ns, tzlocal()](1), object(7)\n",
            "memory usage: 1.3+ MB\n",
            "None\n",
            "                                                     url  ...       category\n",
            "19379  https://www.overclockers.ua/games/saints-row-h...  ...  entertainment\n",
            "18527  https://mordoviatv.ru/v-mordovii-letom-otkroet...  ...        society\n",
            "18528  http://rodgor-vlg.ru/na-severe-volgograda-kvad...  ...        society\n",
            "18529  https://www.stroygaz.ru/publication/item/chuzh...  ...        economy\n",
            "18530  https://www.dgl.ru/news/sredi-nedorogih-umnyh-...  ...     technology\n",
            "\n",
            "[5 rows x 8 columns]\n"
          ],
          "name": "stdout"
        }
      ]
    },
    {
      "cell_type": "code",
      "metadata": {
        "id": "7TNCF75W6PXv"
      },
      "source": [
        "from sqlalchemy import create_engine\r\n",
        "from sqlalchemy.orm import sessionmaker\r\n",
        "\r\n",
        "from purano.models import Document\r\n",
        "\r\n",
        "def parse_db(file_name):\r\n",
        "    db_engine = \"sqlite:///{}\".format(file_name)\r\n",
        "    engine = create_engine(db_engine)\r\n",
        "    Session = sessionmaker(bind=engine)\r\n",
        "    session = Session()\r\n",
        "    query = session.query(Document)\r\n",
        "    docs = query.all()\r\n",
        "    records = []\r\n",
        "    for doc in docs:\r\n",
        "        records.append({\r\n",
        "            \"title\": doc.title,\r\n",
        "            \"text\": doc.text,\r\n",
        "            \"url\": doc.url,\r\n",
        "            \"host\": doc.host,\r\n",
        "            \"timestamp\": doc.date,\r\n",
        "            \"patched_title\": doc.patched_title,\r\n",
        "            \"patched_text\": doc.patched_text\r\n",
        "        })\r\n",
        "    return records\r\n",
        "\r\n",
        "train_records = parse_db(\"0525_parsed.db\")\r\n"
      ],
      "execution_count": 7,
      "outputs": []
    },
    {
      "cell_type": "code",
      "metadata": {
        "colab": {
          "base_uri": "https://localhost:8080/"
        },
        "id": "szdQfF9U608L",
        "outputId": "2e926eb1-9040-4f2e-825d-5fc84829bd64"
      },
      "source": [
        "# Clustering training markup\r\n",
        "!wget https://www.dropbox.com/s/8lu6dw8zcrn840j/ru_clustering_0525_urls.tsv"
      ],
      "execution_count": 8,
      "outputs": [
        {
          "output_type": "stream",
          "text": [
            "--2021-02-26 11:23:25--  https://www.dropbox.com/s/8lu6dw8zcrn840j/ru_clustering_0525_urls.tsv\n",
            "Resolving www.dropbox.com (www.dropbox.com)... 162.125.1.18, 2620:100:601a:18::a27d:712\n",
            "Connecting to www.dropbox.com (www.dropbox.com)|162.125.1.18|:443... connected.\n",
            "HTTP request sent, awaiting response... 301 Moved Permanently\n",
            "Location: /s/raw/8lu6dw8zcrn840j/ru_clustering_0525_urls.tsv [following]\n",
            "--2021-02-26 11:23:26--  https://www.dropbox.com/s/raw/8lu6dw8zcrn840j/ru_clustering_0525_urls.tsv\n",
            "Reusing existing connection to www.dropbox.com:443.\n",
            "HTTP request sent, awaiting response... 302 Found\n",
            "Location: https://uc7e0476845f956a2bcfb50b1dfe.dl.dropboxusercontent.com/cd/0/inline/BJqol1tAI9tPSsT2ZerfFbAwEUs3rQ0DQtCbn5kHOqy0QacspFxSzrEwuwMMRUbx-tFeAWTuzGrOeqb3KO7vsES2_CVP56foYaQYiThC25Qf7ToDlP2me6_Df23mwN8hzoc/file# [following]\n",
            "--2021-02-26 11:23:26--  https://uc7e0476845f956a2bcfb50b1dfe.dl.dropboxusercontent.com/cd/0/inline/BJqol1tAI9tPSsT2ZerfFbAwEUs3rQ0DQtCbn5kHOqy0QacspFxSzrEwuwMMRUbx-tFeAWTuzGrOeqb3KO7vsES2_CVP56foYaQYiThC25Qf7ToDlP2me6_Df23mwN8hzoc/file\n",
            "Resolving uc7e0476845f956a2bcfb50b1dfe.dl.dropboxusercontent.com (uc7e0476845f956a2bcfb50b1dfe.dl.dropboxusercontent.com)... 162.125.1.15, 2620:100:6017:15::a27d:20f\n",
            "Connecting to uc7e0476845f956a2bcfb50b1dfe.dl.dropboxusercontent.com (uc7e0476845f956a2bcfb50b1dfe.dl.dropboxusercontent.com)|162.125.1.15|:443... connected.\n",
            "HTTP request sent, awaiting response... 200 OK\n",
            "Length: 2522689 (2.4M) [text/plain]\n",
            "Saving to: ‘ru_clustering_0525_urls.tsv’\n",
            "\n",
            "ru_clustering_0525_ 100%[===================>]   2.41M  --.-KB/s    in 0.1s    \n",
            "\n",
            "2021-02-26 11:23:26 (17.1 MB/s) - ‘ru_clustering_0525_urls.tsv’ saved [2522689/2522689]\n",
            "\n"
          ],
          "name": "stdout"
        }
      ]
    },
    {
      "cell_type": "markdown",
      "metadata": {
        "id": "5pgejON07HjD"
      },
      "source": [
        "# Evaluation\r\n"
      ]
    },
    {
      "cell_type": "code",
      "metadata": {
        "id": "L9Jm6vDd7OWi"
      },
      "source": [
        "from purano.io import read_markup_tsv\r\n",
        "\r\n",
        "train_markup = read_markup_tsv(\"ru_clustering_0525_urls.tsv\")"
      ],
      "execution_count": 9,
      "outputs": []
    },
    {
      "cell_type": "code",
      "metadata": {
        "id": "vhz7RV5_7Zdi"
      },
      "source": [
        "from collections import Counter\r\n",
        "from statistics import median, mean\r\n",
        "from sklearn.cluster import AgglomerativeClustering\r\n",
        "from purano.clusterer.metrics import calc_metrics\r\n",
        "\r\n",
        "def get_quality(markup, embeds, records, dist_threshold, print_result=False):\r\n",
        "    clustering_model = AgglomerativeClustering(\r\n",
        "        n_clusters=None,\r\n",
        "        distance_threshold=dist_threshold,\r\n",
        "        linkage=\"average\",\r\n",
        "        affinity=\"cosine\"\r\n",
        "    )\r\n",
        "\r\n",
        "    clustering_model.fit(embeds)\r\n",
        "    labels = clustering_model.labels_\r\n",
        "\r\n",
        "    idx2url = dict()\r\n",
        "    url2record = dict()\r\n",
        "    for i, record in enumerate(records):\r\n",
        "        idx2url[i] = record[\"url\"]\r\n",
        "        url2record[record[\"url\"]] = record\r\n",
        "\r\n",
        "    url2label = dict()\r\n",
        "    for i, label in enumerate(labels):\r\n",
        "        url2label[idx2url[i]] = label\r\n",
        "        \r\n",
        "    metrics = calc_metrics(markup, url2record, url2label)[0]\r\n",
        "    if print_result:\r\n",
        "        print()\r\n",
        "        print(\"Accuracy: {:.1f}\".format(metrics[\"accuracy\"] * 100.0))\r\n",
        "        print(\"Positives Recall: {:.1f}\".format(metrics[\"1\"][\"recall\"] * 100.0))\r\n",
        "        print(\"Positives Precision: {:.1f}\".format(metrics[\"1\"][\"precision\"] * 100.0))\r\n",
        "        print(\"Positives F1: {:.1f}\".format(metrics[\"1\"][\"f1-score\"] * 100.0))\r\n",
        "        print(\"Distance: \", dist_threshold)\r\n",
        "        sizes = list(Counter(labels).values())\r\n",
        "        print(\"Max cluster size: \", max(sizes))\r\n",
        "        print(\"Median cluster size: \", median(sizes))\r\n",
        "        print(\"Avg cluster size: {:.2f}\".format(mean(sizes)))\r\n",
        "        return\r\n",
        "    return metrics[\"1\"][\"f1-score\"]"
      ],
      "execution_count": 10,
      "outputs": []
    },
    {
      "cell_type": "markdown",
      "metadata": {
        "id": "0rcUj0qE71vo"
      },
      "source": [
        "# OurModel"
      ]
    },
    {
      "cell_type": "code",
      "metadata": {
        "id": "hu0Qas-8766H"
      },
      "source": [
        "from torch.utils.data import Dataset, DataLoader\r\n",
        "\r\n",
        "url2record = dict()\r\n",
        "\r\n",
        "class CustomDataset(Dataset):\r\n",
        "\r\n",
        "    def __init__(self, x, y):\r\n",
        "        self.len = len(x)\r\n",
        "        self.data_x = x\r\n",
        "        self.data_y = y\r\n",
        "    \r\n",
        "    def __getitem__(self, index):\r\n",
        "        return (self.data_x[index], self.data_y[index])\r\n",
        "    \r\n",
        "    def __len__(self):\r\n",
        "        return self.len\r\n",
        "\r\n",
        "\r\n",
        "for i, record in enumerate(train_records):\r\n",
        "    url2record[record[\"url\"]] = record\r\n",
        "\r\n",
        "input_samples, pos_samples = [], []\r\n",
        "\r\n",
        "for markup in train_markup:\r\n",
        "    first_url, second_url, quality = markup.values()\r\n",
        "    if quality == 'OK':\r\n",
        "        input_samples.append(url2record[first_url]['title'] + ' ' + url2record[first_url]['text'])\r\n",
        "        pos_samples.append(url2record[second_url]['title'] + ' ' + url2record[second_url]['text'])\r\n",
        "\r\n",
        "\r\n",
        "dataset_train = CustomDataset(input_samples, pos_samples)"
      ],
      "execution_count": 11,
      "outputs": []
    },
    {
      "cell_type": "code",
      "metadata": {
        "colab": {
          "base_uri": "https://localhost:8080/"
        },
        "id": "piWszYKS8XY5",
        "outputId": "fbdabca0-2a62-4670-cd71-60eb40c0164d"
      },
      "source": [
        "import sentence_transformers\r\n",
        "\r\n",
        "use = sentence_transformers.SentenceTransformer('distiluse-base-multilingual-cased-v2')"
      ],
      "execution_count": 12,
      "outputs": [
        {
          "output_type": "stream",
          "text": [
            "100%|██████████| 504M/504M [00:30<00:00, 16.5MB/s]\n"
          ],
          "name": "stderr"
        }
      ]
    },
    {
      "cell_type": "code",
      "metadata": {
        "id": "pUwPIUbS8wH6"
      },
      "source": [
        "import math\r\n",
        "\r\n",
        "import torch\r\n",
        "from torch import nn\r\n",
        "\r\n",
        "class GELU(nn.Module):\r\n",
        "    def forward(self, x):\r\n",
        "        return 0.5 * x * (1 + torch.tanh(math.sqrt(2 / math.pi) * (x + 0.044715 * torch.pow(x, 3))))\r\n",
        "\r\n",
        "\r\n",
        "class FeedForwardTop(nn.Module):\r\n",
        "    def __init__(self, dropout = 0.25):\r\n",
        "        super().__init__()\r\n",
        "        self.f1 = nn.Linear(512, 512)\r\n",
        "        self.dropout = nn.Dropout(dropout) \r\n",
        "        self.gelu = GELU()\r\n",
        "        self.f2 = nn.Linear(512, 512)\r\n",
        "\r\n",
        "    \r\n",
        "    def forward(self, x):\r\n",
        "        x = self.dropout(self.gelu(self.f1(x)))\r\n",
        "        x = self.f2(x)\r\n",
        "\r\n",
        "        return x\r\n"
      ],
      "execution_count": 13,
      "outputs": []
    },
    {
      "cell_type": "code",
      "metadata": {
        "colab": {
          "base_uri": "https://localhost:8080/",
          "height": 134,
          "referenced_widgets": [
            "b5804a39080d4b46ac117fac5423ad2b",
            "6b0d4ae354d741a2a745b9f6609b8bca",
            "e78fadfa6e494035bfba0c789dca7985",
            "4a28b1774aa34ccaa50e14255e57d7c4",
            "e2447aeac2964765aebbb57361f3d7e0",
            "8f4562ce857e46eab0e1de2ff29515a5",
            "98b08c161ef04197b87ea9a300f6a624",
            "f2d56c479f8544738bcf4288b537a358"
          ]
        },
        "id": "jNrZ3koZ-Cqw",
        "outputId": "19b573fa-5b64-4add-b341-098a5ab4c389"
      },
      "source": [
        "import torch.nn.functional as F\r\n",
        "import datetime\r\n",
        "\r\n",
        "from tqdm.notebook import tqdm\r\n",
        "\r\n",
        "device = torch.device(\"cuda\" if torch.cuda.is_available() else \"cpu\")\r\n",
        "\r\n",
        "batch_size = 32\r\n",
        "lr = 0.01\r\n",
        "\r\n",
        "net = FeedForwardTop().to(device)\r\n",
        "use.to(device)\r\n",
        "optimizer = torch.optim.Adam(net.parameters(), lr=lr)\r\n",
        "train_loader = DataLoader(dataset_train, batch_size=batch_size, shuffle=True)\r\n",
        "\r\n",
        "EPOCHES = 1\r\n",
        "\r\n",
        "total_loss = 0\r\n",
        "\r\n",
        "for epoch in range(EPOCHES):\r\n",
        "    for i, (input_samples, pos_samples) in enumerate(tqdm(train_loader)):\r\n",
        "        optimizer.zero_grad()\r\n",
        "\r\n",
        "        q_vectors = torch.tensor(use.encode(input_samples)).to(device)\r\n",
        "        ctx_vectors = torch.tensor(use.encode(pos_samples)).to(device)\r\n",
        "\r\n",
        "        q_vectors = net(q_vectors)\r\n",
        "        \r\n",
        "        scores = torch.matmul(q_vectors, torch.transpose(ctx_vectors, 0, 1))\r\n",
        "        '''\r\n",
        "        scores = F.cosine_similarity(q_vectors, ctx_vectors, dim=1)\r\n",
        "        '''\r\n",
        "        \r\n",
        "        if len(q_vectors.size()) > 1:\r\n",
        "            q_num = q_vectors.size(0)\r\n",
        "            scores = scores.view(q_num, -1)\r\n",
        "        \r\n",
        "        softmax_scores = F.log_softmax(scores, dim=1)\r\n",
        "        \r\n",
        "        pos_idx_per_question = torch.tensor(list(range(q_vectors.size(0)))).to(device)\r\n",
        "\r\n",
        "\r\n",
        "        loss = F.nll_loss(softmax_scores,\r\n",
        "                   pos_idx_per_question,\r\n",
        "                   reduction='mean')\r\n",
        "\r\n",
        "        loss.backward()\r\n",
        "        optimizer.step()\r\n",
        "        \r\n",
        "        total_loss += loss.data\r\n",
        "\r\n",
        "        if (i + 1) % 50 == 0:\r\n",
        "          print(f'epoch: {(epoch)} batch_idx: {(i + 1)} loss: {total_loss/50} time: {datetime.datetime.now().strftime(\"%H:%M:%S\")}')\r\n",
        "          total_loss = 0"
      ],
      "execution_count": 32,
      "outputs": [
        {
          "output_type": "display_data",
          "data": {
            "application/vnd.jupyter.widget-view+json": {
              "model_id": "b5804a39080d4b46ac117fac5423ad2b",
              "version_minor": 0,
              "version_major": 2
            },
            "text/plain": [
              "HBox(children=(FloatProgress(value=0.0, max=229.0), HTML(value='')))"
            ]
          },
          "metadata": {
            "tags": []
          }
        },
        {
          "output_type": "stream",
          "text": [
            "epoch: 0 batch_idx: 50 loss: 1.3525751829147339 time: 12:08:40\n",
            "epoch: 0 batch_idx: 100 loss: 0.3449355363845825 time: 12:09:06\n",
            "epoch: 0 batch_idx: 150 loss: 0.23972895741462708 time: 12:09:32\n",
            "epoch: 0 batch_idx: 200 loss: 0.1965307891368866 time: 12:09:58\n",
            "\n"
          ],
          "name": "stdout"
        }
      ]
    }
  ]
}