{
 "cells": [
  {
   "cell_type": "code",
   "execution_count": 1,
   "id": "extra-guess",
   "metadata": {},
   "outputs": [
    {
     "name": "stdout",
     "output_type": "stream",
     "text": [
      "0\n"
     ]
    }
   ],
   "source": [
    "import torch\n",
    "import sentence_transformers\n",
    "\n",
    "print(torch.cuda.memory_allocated())"
   ]
  },
  {
   "cell_type": "code",
   "execution_count": 2,
   "id": "smaller-lithuania",
   "metadata": {},
   "outputs": [
    {
     "name": "stderr",
     "output_type": "stream",
     "text": [
      "I0316 18:43:54.184403  9512 SentenceTransformer.py:39] Load pretrained SentenceTransformer: distiluse-base-multilingual-cased-v2\n",
      "I0316 18:43:54.185370  9512 SentenceTransformer.py:43] Did not find folder distiluse-base-multilingual-cased-v2\n",
      "I0316 18:43:54.185370  9512 SentenceTransformer.py:49] Try to download model from server: https://sbert.net/models/distiluse-base-multilingual-cased-v2.zip\n",
      "I0316 18:43:54.187366  9512 SentenceTransformer.py:100] Load SentenceTransformer from folder: C:\\Users\\Ellie/.cache\\torch\\sentence_transformers\\sbert.net_models_distiluse-base-multilingual-cased-v2\n",
      "I0316 18:43:55.937504  9512 SentenceTransformer.py:124] Use pytorch device: cuda\n"
     ]
    }
   ],
   "source": [
    "model = sentence_transformers.SentenceTransformer('distiluse-base-multilingual-cased-v2')"
   ]
  },
  {
   "cell_type": "code",
   "execution_count": 3,
   "id": "regional-producer",
   "metadata": {},
   "outputs": [
    {
     "name": "stdout",
     "output_type": "stream",
     "text": [
      "0\n"
     ]
    }
   ],
   "source": [
    "print(torch.cuda.memory_allocated())"
   ]
  },
  {
   "cell_type": "code",
   "execution_count": 3,
   "id": "falling-alaska",
   "metadata": {},
   "outputs": [
    {
     "data": {
      "application/vnd.jupyter.widget-view+json": {
       "model_id": "59e1436e3f23438197c9f7b0d36e3096",
       "version_major": 2,
       "version_minor": 0
      },
      "text/plain": [
       "HBox(children=(FloatProgress(value=0.0, description='Batches', max=1.0, style=ProgressStyle(description_width=…"
      ]
     },
     "metadata": {},
     "output_type": "display_data"
    },
    {
     "name": "stdout",
     "output_type": "stream",
     "text": [
      "\n"
     ]
    },
    {
     "data": {
      "text/plain": [
       "array([[-0.0398099 ,  0.05295566, -0.04987829, ...,  0.00410214,\n",
       "         0.0435486 ,  0.02699569],\n",
       "       [-0.0398099 ,  0.05295566, -0.04987829, ...,  0.00410214,\n",
       "         0.0435486 ,  0.02699569],\n",
       "       [-0.0398099 ,  0.05295566, -0.04987829, ...,  0.00410214,\n",
       "         0.0435486 ,  0.02699569],\n",
       "       ...,\n",
       "       [-0.0398099 ,  0.05295566, -0.04987829, ...,  0.00410214,\n",
       "         0.0435486 ,  0.02699569],\n",
       "       [-0.0398099 ,  0.05295566, -0.04987829, ...,  0.00410214,\n",
       "         0.0435486 ,  0.02699569],\n",
       "       [-0.0398099 ,  0.05295566, -0.04987829, ...,  0.00410214,\n",
       "         0.0435486 ,  0.02699569]], dtype=float32)"
      ]
     },
     "execution_count": 3,
     "metadata": {},
     "output_type": "execute_result"
    }
   ],
   "source": [
    "data = ['text'] * 30\n",
    "\n",
    "model.encode(data)"
   ]
  },
  {
   "cell_type": "code",
   "execution_count": 4,
   "id": "prerequisite-aircraft",
   "metadata": {},
   "outputs": [
    {
     "name": "stdout",
     "output_type": "stream",
     "text": [
      "541313024\n"
     ]
    }
   ],
   "source": [
    "print(torch.cuda.memory_allocated())"
   ]
  },
  {
   "cell_type": "code",
   "execution_count": 5,
   "id": "devoted-rocket",
   "metadata": {},
   "outputs": [],
   "source": [
    "del model\n",
    "torch.cuda.empty_cache()"
   ]
  },
  {
   "cell_type": "code",
   "execution_count": 6,
   "id": "acceptable-carter",
   "metadata": {},
   "outputs": [
    {
     "name": "stdout",
     "output_type": "stream",
     "text": [
      "0\n"
     ]
    }
   ],
   "source": [
    "print(torch.cuda.memory_allocated())"
   ]
  },
  {
   "cell_type": "code",
   "execution_count": 7,
   "id": "collectible-collective",
   "metadata": {},
   "outputs": [
    {
     "name": "stderr",
     "output_type": "stream",
     "text": [
      "c:\\users\\ellie\\appdata\\local\\programs\\python\\python36\\lib\\site-packages\\torch\\distributed\\distributed_c10d.py:126: UserWarning: torch.distributed.reduce_op is deprecated, please use torch.distributed.ReduceOp instead\n",
      "  warnings.warn(\"torch.distributed.reduce_op is deprecated, please use \"\n",
      "c:\\users\\ellie\\appdata\\local\\programs\\python\\python36\\lib\\site-packages\\pandas\\util\\__init__.py:23: FutureWarning: pandas.util.testing is deprecated. Use the functions in the public API at pandas.testing instead.\n",
      "  import pandas.util.testing\n",
      "c:\\users\\ellie\\appdata\\local\\programs\\python\\python36\\lib\\site-packages\\ipykernel_launcher.py:5: FutureWarning: The pandas.np module is deprecated and will be removed from pandas in a future version. Import numpy directly instead\n",
      "  \"\"\"\n",
      "c:\\users\\ellie\\appdata\\local\\programs\\python\\python36\\lib\\site-packages\\ipykernel_launcher.py:5: FutureWarning: The pandas.datetime class is deprecated and will be removed from pandas in a future version. Import from datetime instead.\n",
      "  \"\"\"\n"
     ]
    }
   ],
   "source": [
    "import gc\n",
    "\n",
    "for obj in gc.get_objects():\n",
    "    try:\n",
    "        if torch.is_tensor(obj) or (hasattr(obj, 'data') and torch.is_tensor(obj.data)):\n",
    "            print(type(obj), obj.size())\n",
    "    except:\n",
    "        pass"
   ]
  },
  {
   "cell_type": "code",
   "execution_count": null,
   "id": "associate-alexander",
   "metadata": {},
   "outputs": [],
   "source": [
    "from sentence_transformers import CrossEncoder\n",
    "\n",
    "model = CrossEncoder('bert-base-multilingual-uncased')"
   ]
  },
  {
   "cell_type": "code",
   "execution_count": 10,
   "id": "second-apartment",
   "metadata": {},
   "outputs": [
    {
     "name": "stdout",
     "output_type": "stream",
     "text": [
      "541313024\n"
     ]
    }
   ],
   "source": [
    "print(torch.cuda.memory_allocated())"
   ]
  },
  {
   "cell_type": "code",
   "execution_count": 11,
   "id": "separated-fabric",
   "metadata": {},
   "outputs": [
    {
     "data": {
      "application/vnd.jupyter.widget-view+json": {
       "model_id": "cf09f657d3914c598cbe77e1f2d6c844",
       "version_major": 2,
       "version_minor": 0
      },
      "text/plain": [
       "HBox(children=(FloatProgress(value=0.0, description='Batches', max=1.0, style=ProgressStyle(description_width=…"
      ]
     },
     "metadata": {},
     "output_type": "display_data"
    },
    {
     "name": "stdout",
     "output_type": "stream",
     "text": [
      "\n"
     ]
    },
    {
     "data": {
      "text/plain": [
       "array([0.46081397, 0.46081397, 0.46081397, 0.46081397, 0.46081397,\n",
       "       0.46081397, 0.46081397, 0.46081397, 0.46081397, 0.46081397,\n",
       "       0.46081397, 0.46081397, 0.46081397, 0.46081397, 0.46081397,\n",
       "       0.46081397, 0.46081397, 0.46081397, 0.46081397, 0.46081397,\n",
       "       0.46081397, 0.46081397, 0.46081397, 0.46081397, 0.46081397,\n",
       "       0.46081397, 0.46081397, 0.46081397, 0.46081397, 0.46081397],\n",
       "      dtype=float32)"
      ]
     },
     "execution_count": 11,
     "metadata": {},
     "output_type": "execute_result"
    }
   ],
   "source": [
    "data = [['text', 'text']] * 30\n",
    "\n",
    "model.predict(data)"
   ]
  },
  {
   "cell_type": "code",
   "execution_count": 12,
   "id": "level-boston",
   "metadata": {},
   "outputs": [
    {
     "name": "stdout",
     "output_type": "stream",
     "text": [
      "1211068928\n"
     ]
    }
   ],
   "source": [
    "print(torch.cuda.memory_allocated())"
   ]
  },
  {
   "cell_type": "code",
   "execution_count": 13,
   "id": "sharing-manor",
   "metadata": {},
   "outputs": [],
   "source": [
    "del model\n",
    "torch.cuda.empty_cache()"
   ]
  },
  {
   "cell_type": "code",
   "execution_count": 14,
   "id": "military-battlefield",
   "metadata": {},
   "outputs": [
    {
     "name": "stdout",
     "output_type": "stream",
     "text": [
      "1211068928\n"
     ]
    }
   ],
   "source": [
    "print(torch.cuda.memory_allocated())"
   ]
  },
  {
   "cell_type": "code",
   "execution_count": 15,
   "id": "aquatic-portsmouth",
   "metadata": {},
   "outputs": [
    {
     "name": "stdout",
     "output_type": "stream",
     "text": [
      "<class 'torch.Tensor'> torch.Size([1, 512])\n",
      "<class 'torch.nn.parameter.Parameter'> torch.Size([105879, 768])\n",
      "<class 'torch.nn.parameter.Parameter'> torch.Size([512, 768])\n",
      "<class 'torch.nn.parameter.Parameter'> torch.Size([2, 768])\n",
      "<class 'torch.nn.parameter.Parameter'> torch.Size([768])\n",
      "<class 'torch.nn.parameter.Parameter'> torch.Size([768])\n",
      "<class 'torch.nn.parameter.Parameter'> torch.Size([3072])\n",
      "<class 'torch.nn.parameter.Parameter'> torch.Size([768, 768])\n",
      "<class 'torch.nn.parameter.Parameter'> torch.Size([768])\n",
      "<class 'torch.nn.parameter.Parameter'> torch.Size([768, 768])\n",
      "<class 'torch.nn.parameter.Parameter'> torch.Size([768])\n",
      "<class 'torch.nn.parameter.Parameter'> torch.Size([768, 768])\n",
      "<class 'torch.nn.parameter.Parameter'> torch.Size([768])\n",
      "<class 'torch.nn.parameter.Parameter'> torch.Size([768, 768])\n",
      "<class 'torch.nn.parameter.Parameter'> torch.Size([768])\n",
      "<class 'torch.nn.parameter.Parameter'> torch.Size([768])\n",
      "<class 'torch.nn.parameter.Parameter'> torch.Size([768])\n",
      "<class 'torch.nn.parameter.Parameter'> torch.Size([3072, 768])\n",
      "<class 'torch.nn.parameter.Parameter'> torch.Size([3072])\n",
      "<class 'torch.nn.parameter.Parameter'> torch.Size([768, 3072])\n",
      "<class 'torch.nn.parameter.Parameter'> torch.Size([768])\n",
      "<class 'torch.nn.parameter.Parameter'> torch.Size([768])\n",
      "<class 'torch.nn.parameter.Parameter'> torch.Size([768])\n",
      "<class 'torch.nn.parameter.Parameter'> torch.Size([768, 768])\n",
      "<class 'torch.nn.parameter.Parameter'> torch.Size([768])\n",
      "<class 'torch.nn.parameter.Parameter'> torch.Size([768, 768])\n",
      "<class 'torch.nn.parameter.Parameter'> torch.Size([768])\n",
      "<class 'torch.nn.parameter.Parameter'> torch.Size([768, 768])\n",
      "<class 'torch.nn.parameter.Parameter'> torch.Size([768])\n",
      "<class 'torch.nn.parameter.Parameter'> torch.Size([768, 768])\n",
      "<class 'torch.nn.parameter.Parameter'> torch.Size([768])\n",
      "<class 'torch.nn.parameter.Parameter'> torch.Size([768])\n",
      "<class 'torch.nn.parameter.Parameter'> torch.Size([768])\n",
      "<class 'torch.nn.parameter.Parameter'> torch.Size([3072, 768])\n",
      "<class 'torch.nn.parameter.Parameter'> torch.Size([3072])\n",
      "<class 'torch.nn.parameter.Parameter'> torch.Size([768, 3072])\n",
      "<class 'torch.nn.parameter.Parameter'> torch.Size([768])\n",
      "<class 'torch.nn.parameter.Parameter'> torch.Size([768])\n",
      "<class 'torch.nn.parameter.Parameter'> torch.Size([768])\n",
      "<class 'torch.nn.parameter.Parameter'> torch.Size([768, 768])\n",
      "<class 'torch.nn.parameter.Parameter'> torch.Size([768])\n",
      "<class 'torch.nn.parameter.Parameter'> torch.Size([768, 768])\n",
      "<class 'torch.nn.parameter.Parameter'> torch.Size([768])\n",
      "<class 'torch.nn.parameter.Parameter'> torch.Size([768, 768])\n",
      "<class 'torch.nn.parameter.Parameter'> torch.Size([768])\n",
      "<class 'torch.nn.parameter.Parameter'> torch.Size([768, 768])\n",
      "<class 'torch.nn.parameter.Parameter'> torch.Size([768])\n",
      "<class 'torch.nn.parameter.Parameter'> torch.Size([768])\n",
      "<class 'torch.nn.parameter.Parameter'> torch.Size([768])\n",
      "<class 'torch.nn.parameter.Parameter'> torch.Size([3072, 768])\n",
      "<class 'torch.nn.parameter.Parameter'> torch.Size([3072])\n",
      "<class 'torch.nn.parameter.Parameter'> torch.Size([768, 3072])\n",
      "<class 'torch.nn.parameter.Parameter'> torch.Size([768])\n",
      "<class 'torch.nn.parameter.Parameter'> torch.Size([768])\n",
      "<class 'torch.nn.parameter.Parameter'> torch.Size([768])\n",
      "<class 'torch.nn.parameter.Parameter'> torch.Size([768, 768])\n",
      "<class 'torch.nn.parameter.Parameter'> torch.Size([768])\n",
      "<class 'torch.nn.parameter.Parameter'> torch.Size([768, 768])\n",
      "<class 'torch.nn.parameter.Parameter'> torch.Size([768])\n",
      "<class 'torch.nn.parameter.Parameter'> torch.Size([768, 768])\n",
      "<class 'torch.nn.parameter.Parameter'> torch.Size([768])\n",
      "<class 'torch.nn.parameter.Parameter'> torch.Size([768, 768])\n",
      "<class 'torch.nn.parameter.Parameter'> torch.Size([768])\n",
      "<class 'torch.nn.parameter.Parameter'> torch.Size([768])\n",
      "<class 'torch.nn.parameter.Parameter'> torch.Size([768])\n",
      "<class 'torch.nn.parameter.Parameter'> torch.Size([3072, 768])\n",
      "<class 'torch.nn.parameter.Parameter'> torch.Size([768, 3072])\n",
      "<class 'torch.nn.parameter.Parameter'> torch.Size([768])\n",
      "<class 'torch.nn.parameter.Parameter'> torch.Size([768])\n",
      "<class 'torch.nn.parameter.Parameter'> torch.Size([768])\n",
      "<class 'torch.nn.parameter.Parameter'> torch.Size([768, 768])\n",
      "<class 'torch.nn.parameter.Parameter'> torch.Size([768])\n",
      "<class 'torch.nn.parameter.Parameter'> torch.Size([768, 768])\n",
      "<class 'torch.nn.parameter.Parameter'> torch.Size([768])\n",
      "<class 'torch.nn.parameter.Parameter'> torch.Size([768, 768])\n",
      "<class 'torch.nn.parameter.Parameter'> torch.Size([768])\n",
      "<class 'torch.nn.parameter.Parameter'> torch.Size([768, 768])\n",
      "<class 'torch.nn.parameter.Parameter'> torch.Size([768])\n",
      "<class 'torch.nn.parameter.Parameter'> torch.Size([768])\n",
      "<class 'torch.nn.parameter.Parameter'> torch.Size([768])\n",
      "<class 'torch.nn.parameter.Parameter'> torch.Size([3072, 768])\n",
      "<class 'torch.nn.parameter.Parameter'> torch.Size([3072])\n",
      "<class 'torch.nn.parameter.Parameter'> torch.Size([768, 3072])\n",
      "<class 'torch.nn.parameter.Parameter'> torch.Size([768])\n",
      "<class 'torch.nn.parameter.Parameter'> torch.Size([768])\n",
      "<class 'torch.nn.parameter.Parameter'> torch.Size([768])\n",
      "<class 'torch.nn.parameter.Parameter'> torch.Size([768, 768])\n",
      "<class 'torch.nn.parameter.Parameter'> torch.Size([768])\n",
      "<class 'torch.nn.parameter.Parameter'> torch.Size([768, 768])\n",
      "<class 'torch.nn.parameter.Parameter'> torch.Size([768])\n",
      "<class 'torch.nn.parameter.Parameter'> torch.Size([768, 768])\n",
      "<class 'torch.nn.parameter.Parameter'> torch.Size([768])\n",
      "<class 'torch.nn.parameter.Parameter'> torch.Size([768, 768])\n",
      "<class 'torch.nn.parameter.Parameter'> torch.Size([768])\n",
      "<class 'torch.nn.parameter.Parameter'> torch.Size([768])\n",
      "<class 'torch.nn.parameter.Parameter'> torch.Size([768])\n",
      "<class 'torch.nn.parameter.Parameter'> torch.Size([3072, 768])\n",
      "<class 'torch.nn.parameter.Parameter'> torch.Size([3072])\n",
      "<class 'torch.nn.parameter.Parameter'> torch.Size([768, 3072])\n",
      "<class 'torch.nn.parameter.Parameter'> torch.Size([768])\n",
      "<class 'torch.nn.parameter.Parameter'> torch.Size([768])\n",
      "<class 'torch.nn.parameter.Parameter'> torch.Size([768])\n",
      "<class 'torch.nn.parameter.Parameter'> torch.Size([768, 768])\n",
      "<class 'torch.nn.parameter.Parameter'> torch.Size([768])\n",
      "<class 'torch.nn.parameter.Parameter'> torch.Size([768, 768])\n",
      "<class 'torch.nn.parameter.Parameter'> torch.Size([768])\n",
      "<class 'torch.nn.parameter.Parameter'> torch.Size([768, 768])\n",
      "<class 'torch.nn.parameter.Parameter'> torch.Size([768])\n",
      "<class 'torch.nn.parameter.Parameter'> torch.Size([768, 768])\n",
      "<class 'torch.nn.parameter.Parameter'> torch.Size([768])\n",
      "<class 'torch.nn.parameter.Parameter'> torch.Size([768])\n",
      "<class 'torch.nn.parameter.Parameter'> torch.Size([768])\n",
      "<class 'torch.nn.parameter.Parameter'> torch.Size([3072, 768])\n",
      "<class 'torch.nn.parameter.Parameter'> torch.Size([3072])\n",
      "<class 'torch.nn.parameter.Parameter'> torch.Size([768, 3072])\n",
      "<class 'torch.nn.parameter.Parameter'> torch.Size([768])\n",
      "<class 'torch.nn.parameter.Parameter'> torch.Size([768])\n",
      "<class 'torch.nn.parameter.Parameter'> torch.Size([768])\n",
      "<class 'torch.nn.parameter.Parameter'> torch.Size([768, 768])\n",
      "<class 'torch.nn.parameter.Parameter'> torch.Size([768])\n",
      "<class 'torch.nn.parameter.Parameter'> torch.Size([768, 768])\n",
      "<class 'torch.nn.parameter.Parameter'> torch.Size([768])\n",
      "<class 'torch.nn.parameter.Parameter'> torch.Size([768, 768])\n",
      "<class 'torch.nn.parameter.Parameter'> torch.Size([768])\n",
      "<class 'torch.nn.parameter.Parameter'> torch.Size([768, 768])\n",
      "<class 'torch.nn.parameter.Parameter'> torch.Size([768])\n",
      "<class 'torch.nn.parameter.Parameter'> torch.Size([768])\n",
      "<class 'torch.nn.parameter.Parameter'> torch.Size([768])\n",
      "<class 'torch.nn.parameter.Parameter'> torch.Size([3072, 768])\n",
      "<class 'torch.nn.parameter.Parameter'> torch.Size([3072])\n",
      "<class 'torch.nn.parameter.Parameter'> torch.Size([768, 3072])\n",
      "<class 'torch.nn.parameter.Parameter'> torch.Size([768])\n",
      "<class 'torch.nn.parameter.Parameter'> torch.Size([768])\n",
      "<class 'torch.nn.parameter.Parameter'> torch.Size([768])\n",
      "<class 'torch.nn.parameter.Parameter'> torch.Size([768, 768])\n",
      "<class 'torch.nn.parameter.Parameter'> torch.Size([768])\n",
      "<class 'torch.nn.parameter.Parameter'> torch.Size([768, 768])\n",
      "<class 'torch.nn.parameter.Parameter'> torch.Size([768])\n",
      "<class 'torch.nn.parameter.Parameter'> torch.Size([768, 768])\n",
      "<class 'torch.nn.parameter.Parameter'> torch.Size([768])\n",
      "<class 'torch.nn.parameter.Parameter'> torch.Size([768, 768])\n",
      "<class 'torch.nn.parameter.Parameter'> torch.Size([768])\n",
      "<class 'torch.nn.parameter.Parameter'> torch.Size([768])\n",
      "<class 'torch.nn.parameter.Parameter'> torch.Size([768])\n",
      "<class 'torch.nn.parameter.Parameter'> torch.Size([3072, 768])\n",
      "<class 'torch.nn.parameter.Parameter'> torch.Size([3072])\n",
      "<class 'torch.nn.parameter.Parameter'> torch.Size([768, 3072])\n",
      "<class 'torch.nn.parameter.Parameter'> torch.Size([768])\n",
      "<class 'torch.nn.parameter.Parameter'> torch.Size([768])\n",
      "<class 'torch.nn.parameter.Parameter'> torch.Size([768])\n",
      "<class 'torch.nn.parameter.Parameter'> torch.Size([768, 768])\n",
      "<class 'torch.nn.parameter.Parameter'> torch.Size([768])\n",
      "<class 'torch.nn.parameter.Parameter'> torch.Size([768, 768])\n",
      "<class 'torch.nn.parameter.Parameter'> torch.Size([768])\n",
      "<class 'torch.nn.parameter.Parameter'> torch.Size([768, 768])\n",
      "<class 'torch.nn.parameter.Parameter'> torch.Size([768])\n",
      "<class 'torch.nn.parameter.Parameter'> torch.Size([768, 768])\n",
      "<class 'torch.nn.parameter.Parameter'> torch.Size([768])\n",
      "<class 'torch.nn.parameter.Parameter'> torch.Size([768])\n",
      "<class 'torch.nn.parameter.Parameter'> torch.Size([768])\n",
      "<class 'torch.nn.parameter.Parameter'> torch.Size([3072, 768])\n",
      "<class 'torch.nn.parameter.Parameter'> torch.Size([3072])\n",
      "<class 'torch.nn.parameter.Parameter'> torch.Size([768, 3072])\n",
      "<class 'torch.nn.parameter.Parameter'> torch.Size([768])\n",
      "<class 'torch.nn.parameter.Parameter'> torch.Size([768])\n",
      "<class 'torch.nn.parameter.Parameter'> torch.Size([768])\n",
      "<class 'torch.nn.parameter.Parameter'> torch.Size([768, 768])\n",
      "<class 'torch.nn.parameter.Parameter'> torch.Size([768])\n",
      "<class 'torch.nn.parameter.Parameter'> torch.Size([768, 768])\n",
      "<class 'torch.nn.parameter.Parameter'> torch.Size([768])\n",
      "<class 'torch.nn.parameter.Parameter'> torch.Size([768, 768])\n",
      "<class 'torch.nn.parameter.Parameter'> torch.Size([768])\n",
      "<class 'torch.nn.parameter.Parameter'> torch.Size([768, 768])\n",
      "<class 'torch.nn.parameter.Parameter'> torch.Size([768])\n",
      "<class 'torch.nn.parameter.Parameter'> torch.Size([768])\n",
      "<class 'torch.nn.parameter.Parameter'> torch.Size([768])\n",
      "<class 'torch.Tensor'> torch.Size([105879, 768])\n",
      "<class 'torch.Tensor'> torch.Size([512, 768])\n",
      "<class 'torch.Tensor'> torch.Size([2, 768])\n",
      "<class 'torch.Tensor'> torch.Size([768])\n",
      "<class 'torch.Tensor'> torch.Size([768])\n",
      "<class 'torch.Tensor'> torch.Size([768, 768])\n",
      "<class 'torch.Tensor'> torch.Size([768])\n",
      "<class 'torch.Tensor'> torch.Size([768, 768])\n",
      "<class 'torch.Tensor'> torch.Size([768])\n",
      "<class 'torch.Tensor'> torch.Size([768, 768])\n",
      "<class 'torch.Tensor'> torch.Size([768])\n",
      "<class 'torch.Tensor'> torch.Size([768, 768])\n",
      "<class 'torch.Tensor'> torch.Size([768])\n",
      "<class 'torch.Tensor'> torch.Size([768])\n",
      "<class 'torch.Tensor'> torch.Size([768])\n",
      "<class 'torch.Tensor'> torch.Size([3072, 768])\n",
      "<class 'torch.Tensor'> torch.Size([3072])\n",
      "<class 'torch.Tensor'> torch.Size([768, 3072])\n",
      "<class 'torch.Tensor'> torch.Size([768])\n",
      "<class 'torch.Tensor'> torch.Size([768])\n",
      "<class 'torch.Tensor'> torch.Size([768])\n",
      "<class 'torch.Tensor'> torch.Size([768, 768])\n",
      "<class 'torch.Tensor'> torch.Size([768])\n",
      "<class 'torch.Tensor'> torch.Size([768, 768])\n",
      "<class 'torch.Tensor'> torch.Size([768])\n",
      "<class 'torch.Tensor'> torch.Size([768, 768])\n",
      "<class 'torch.Tensor'> torch.Size([768])\n",
      "<class 'torch.Tensor'> torch.Size([768, 768])\n",
      "<class 'torch.Tensor'> torch.Size([768])\n",
      "<class 'torch.Tensor'> torch.Size([768])\n",
      "<class 'torch.Tensor'> torch.Size([768])\n",
      "<class 'torch.Tensor'> torch.Size([3072, 768])\n",
      "<class 'torch.Tensor'> torch.Size([3072])\n",
      "<class 'torch.Tensor'> torch.Size([768, 3072])\n",
      "<class 'torch.Tensor'> torch.Size([768])\n",
      "<class 'torch.Tensor'> torch.Size([768])\n",
      "<class 'torch.Tensor'> torch.Size([768])\n",
      "<class 'torch.Tensor'> torch.Size([768, 768])\n",
      "<class 'torch.Tensor'> torch.Size([768])\n",
      "<class 'torch.Tensor'> torch.Size([768, 768])\n",
      "<class 'torch.Tensor'> torch.Size([768])\n",
      "<class 'torch.Tensor'> torch.Size([768, 768])\n",
      "<class 'torch.Tensor'> torch.Size([768])\n",
      "<class 'torch.Tensor'> torch.Size([768, 768])\n",
      "<class 'torch.Tensor'> torch.Size([768])\n",
      "<class 'torch.Tensor'> torch.Size([768])\n",
      "<class 'torch.Tensor'> torch.Size([768])\n",
      "<class 'torch.Tensor'> torch.Size([3072, 768])\n",
      "<class 'torch.Tensor'> torch.Size([3072])\n",
      "<class 'torch.Tensor'> torch.Size([768, 3072])\n",
      "<class 'torch.Tensor'> torch.Size([768])\n",
      "<class 'torch.Tensor'> torch.Size([768])\n",
      "<class 'torch.Tensor'> torch.Size([768])\n",
      "<class 'torch.Tensor'> torch.Size([768, 768])\n",
      "<class 'torch.Tensor'> torch.Size([768])\n",
      "<class 'torch.Tensor'> torch.Size([768, 768])\n",
      "<class 'torch.Tensor'> torch.Size([768])\n",
      "<class 'torch.Tensor'> torch.Size([768, 768])\n",
      "<class 'torch.Tensor'> torch.Size([768])\n",
      "<class 'torch.Tensor'> torch.Size([768, 768])\n",
      "<class 'torch.Tensor'> torch.Size([768])\n",
      "<class 'torch.Tensor'> torch.Size([768])\n",
      "<class 'torch.Tensor'> torch.Size([768])\n",
      "<class 'torch.Tensor'> torch.Size([3072, 768])\n",
      "<class 'torch.Tensor'> torch.Size([3072])\n",
      "<class 'torch.Tensor'> torch.Size([768, 3072])\n",
      "<class 'torch.Tensor'> torch.Size([768])\n",
      "<class 'torch.Tensor'> torch.Size([768])\n",
      "<class 'torch.Tensor'> torch.Size([768])\n",
      "<class 'torch.Tensor'> torch.Size([768, 768])\n",
      "<class 'torch.Tensor'> torch.Size([768])\n",
      "<class 'torch.Tensor'> torch.Size([768, 768])\n",
      "<class 'torch.Tensor'> torch.Size([768])\n",
      "<class 'torch.Tensor'> torch.Size([768, 768])\n",
      "<class 'torch.Tensor'> torch.Size([768])\n",
      "<class 'torch.Tensor'> torch.Size([768, 768])\n",
      "<class 'torch.Tensor'> torch.Size([768])\n",
      "<class 'torch.Tensor'> torch.Size([768])\n",
      "<class 'torch.Tensor'> torch.Size([768])\n",
      "<class 'torch.Tensor'> torch.Size([3072, 768])\n",
      "<class 'torch.Tensor'> torch.Size([3072])\n",
      "<class 'torch.Tensor'> torch.Size([768, 3072])\n",
      "<class 'torch.Tensor'> torch.Size([768])\n",
      "<class 'torch.Tensor'> torch.Size([768])\n",
      "<class 'torch.Tensor'> torch.Size([768])\n",
      "<class 'torch.Tensor'> torch.Size([768, 768])\n",
      "<class 'torch.Tensor'> torch.Size([768])\n",
      "<class 'torch.Tensor'> torch.Size([768, 768])\n",
      "<class 'torch.Tensor'> torch.Size([768])\n",
      "<class 'torch.Tensor'> torch.Size([768, 768])\n",
      "<class 'torch.Tensor'> torch.Size([768])\n",
      "<class 'torch.Tensor'> torch.Size([768, 768])\n",
      "<class 'torch.Tensor'> torch.Size([768])\n",
      "<class 'torch.Tensor'> torch.Size([768])\n",
      "<class 'torch.Tensor'> torch.Size([768])\n",
      "<class 'torch.Tensor'> torch.Size([3072, 768])\n",
      "<class 'torch.Tensor'> torch.Size([3072])\n",
      "<class 'torch.Tensor'> torch.Size([768, 3072])\n",
      "<class 'torch.Tensor'> torch.Size([768])\n",
      "<class 'torch.Tensor'> torch.Size([768])\n",
      "<class 'torch.Tensor'> torch.Size([768])\n",
      "<class 'torch.Tensor'> torch.Size([768, 768])\n",
      "<class 'torch.nn.parameter.Parameter'> torch.Size([3072, 768])\n",
      "<class 'torch.nn.parameter.Parameter'> torch.Size([3072])\n",
      "<class 'torch.nn.parameter.Parameter'> torch.Size([768, 3072])\n",
      "<class 'torch.nn.parameter.Parameter'> torch.Size([768])\n",
      "<class 'torch.nn.parameter.Parameter'> torch.Size([768])\n",
      "<class 'torch.nn.parameter.Parameter'> torch.Size([768])\n",
      "<class 'torch.nn.parameter.Parameter'> torch.Size([768, 768])\n",
      "<class 'torch.nn.parameter.Parameter'> torch.Size([768])\n",
      "<class 'torch.nn.parameter.Parameter'> torch.Size([1, 768])\n",
      "<class 'torch.nn.parameter.Parameter'> torch.Size([1])\n",
      "<class 'torch.nn.parameter.Parameter'> torch.Size([3072, 768])\n",
      "<class 'torch.nn.parameter.Parameter'> torch.Size([3072])\n",
      "<class 'torch.nn.parameter.Parameter'> torch.Size([768, 3072])\n",
      "<class 'torch.nn.parameter.Parameter'> torch.Size([768])\n",
      "<class 'torch.nn.parameter.Parameter'> torch.Size([768])\n",
      "<class 'torch.nn.parameter.Parameter'> torch.Size([768])\n",
      "<class 'torch.nn.parameter.Parameter'> torch.Size([768, 768])\n",
      "<class 'torch.nn.parameter.Parameter'> torch.Size([768])\n",
      "<class 'torch.nn.parameter.Parameter'> torch.Size([768, 768])\n",
      "<class 'torch.nn.parameter.Parameter'> torch.Size([768])\n",
      "<class 'torch.nn.parameter.Parameter'> torch.Size([768, 768])\n",
      "<class 'torch.nn.parameter.Parameter'> torch.Size([768])\n",
      "<class 'torch.nn.parameter.Parameter'> torch.Size([768, 768])\n",
      "<class 'torch.nn.parameter.Parameter'> torch.Size([768])\n",
      "<class 'torch.nn.parameter.Parameter'> torch.Size([768])\n",
      "<class 'torch.nn.parameter.Parameter'> torch.Size([768])\n",
      "<class 'torch.Tensor'> torch.Size([768])\n",
      "<class 'torch.Tensor'> torch.Size([768, 768])\n",
      "<class 'torch.Tensor'> torch.Size([768])\n",
      "<class 'torch.Tensor'> torch.Size([768, 768])\n",
      "<class 'torch.Tensor'> torch.Size([768])\n",
      "<class 'torch.Tensor'> torch.Size([768, 768])\n",
      "<class 'torch.Tensor'> torch.Size([768])\n",
      "<class 'torch.Tensor'> torch.Size([768])\n",
      "<class 'torch.Tensor'> torch.Size([768])\n",
      "<class 'torch.Tensor'> torch.Size([3072, 768])\n",
      "<class 'torch.Tensor'> torch.Size([3072])\n",
      "<class 'torch.Tensor'> torch.Size([768, 3072])\n",
      "<class 'torch.Tensor'> torch.Size([768])\n",
      "<class 'torch.Tensor'> torch.Size([768])\n",
      "<class 'torch.Tensor'> torch.Size([768])\n",
      "<class 'torch.Tensor'> torch.Size([768, 768])\n",
      "<class 'torch.Tensor'> torch.Size([768])\n",
      "<class 'torch.Tensor'> torch.Size([768, 768])\n",
      "<class 'torch.Tensor'> torch.Size([768])\n",
      "<class 'torch.Tensor'> torch.Size([768, 768])\n",
      "<class 'torch.Tensor'> torch.Size([768])\n",
      "<class 'torch.Tensor'> torch.Size([768, 768])\n",
      "<class 'torch.Tensor'> torch.Size([768])\n",
      "<class 'torch.Tensor'> torch.Size([768])\n",
      "<class 'torch.Tensor'> torch.Size([768])\n",
      "<class 'torch.Tensor'> torch.Size([3072, 768])\n",
      "<class 'torch.Tensor'> torch.Size([3072])\n",
      "<class 'torch.Tensor'> torch.Size([768, 3072])\n",
      "<class 'torch.Tensor'> torch.Size([768])\n",
      "<class 'torch.Tensor'> torch.Size([768])\n",
      "<class 'torch.Tensor'> torch.Size([768])\n",
      "<class 'torch.Tensor'> torch.Size([768, 768])\n",
      "<class 'torch.Tensor'> torch.Size([768])\n",
      "<class 'torch.Tensor'> torch.Size([768, 768])\n",
      "<class 'torch.Tensor'> torch.Size([768])\n",
      "<class 'torch.Tensor'> torch.Size([768, 768])\n",
      "<class 'torch.Tensor'> torch.Size([768])\n",
      "<class 'torch.Tensor'> torch.Size([768, 768])\n",
      "<class 'torch.Tensor'> torch.Size([768])\n",
      "<class 'torch.Tensor'> torch.Size([768])\n",
      "<class 'torch.Tensor'> torch.Size([768])\n",
      "<class 'torch.Tensor'> torch.Size([3072, 768])\n",
      "<class 'torch.Tensor'> torch.Size([3072])\n",
      "<class 'torch.Tensor'> torch.Size([768, 3072])\n",
      "<class 'torch.Tensor'> torch.Size([768])\n",
      "<class 'torch.Tensor'> torch.Size([768])\n",
      "<class 'torch.Tensor'> torch.Size([768])\n",
      "<class 'torch.Tensor'> torch.Size([768, 768])\n",
      "<class 'torch.Tensor'> torch.Size([768])\n",
      "<class 'torch.Tensor'> torch.Size([768, 768])\n",
      "<class 'torch.Tensor'> torch.Size([768])\n",
      "<class 'torch.Tensor'> torch.Size([768, 768])\n",
      "<class 'torch.Tensor'> torch.Size([768])\n",
      "<class 'torch.Tensor'> torch.Size([768, 768])\n",
      "<class 'torch.Tensor'> torch.Size([768])\n",
      "<class 'torch.Tensor'> torch.Size([768])\n",
      "<class 'torch.Tensor'> torch.Size([768])\n",
      "<class 'torch.Tensor'> torch.Size([3072, 768])\n",
      "<class 'torch.Tensor'> torch.Size([3072])\n",
      "<class 'torch.Tensor'> torch.Size([768, 3072])\n",
      "<class 'torch.Tensor'> torch.Size([768])\n",
      "<class 'torch.Tensor'> torch.Size([768])\n",
      "<class 'torch.Tensor'> torch.Size([768])\n",
      "<class 'torch.Tensor'> torch.Size([768, 768])\n",
      "<class 'torch.Tensor'> torch.Size([768])\n",
      "<class 'torch.Tensor'> torch.Size([768, 768])\n",
      "<class 'torch.Tensor'> torch.Size([768])\n",
      "<class 'torch.Tensor'> torch.Size([768, 768])\n",
      "<class 'torch.Tensor'> torch.Size([768])\n",
      "<class 'torch.Tensor'> torch.Size([768, 768])\n",
      "<class 'torch.Tensor'> torch.Size([768])\n",
      "<class 'torch.Tensor'> torch.Size([768])\n",
      "<class 'torch.Tensor'> torch.Size([768])\n",
      "<class 'torch.Tensor'> torch.Size([3072, 768])\n",
      "<class 'torch.Tensor'> torch.Size([3072])\n",
      "<class 'torch.Tensor'> torch.Size([768, 3072])\n",
      "<class 'torch.Tensor'> torch.Size([768])\n",
      "<class 'torch.Tensor'> torch.Size([768])\n",
      "<class 'torch.Tensor'> torch.Size([768])\n",
      "<class 'torch.Tensor'> torch.Size([768, 768])\n",
      "<class 'torch.Tensor'> torch.Size([768])\n",
      "<class 'torch.Tensor'> torch.Size([768, 768])\n",
      "<class 'torch.Tensor'> torch.Size([768])\n",
      "<class 'torch.Tensor'> torch.Size([768, 768])\n",
      "<class 'torch.Tensor'> torch.Size([768])\n",
      "<class 'torch.Tensor'> torch.Size([768, 768])\n",
      "<class 'torch.Tensor'> torch.Size([768])\n",
      "<class 'torch.Tensor'> torch.Size([768])\n",
      "<class 'torch.Tensor'> torch.Size([768])\n",
      "<class 'torch.Tensor'> torch.Size([3072, 768])\n",
      "<class 'torch.Tensor'> torch.Size([3072])\n",
      "<class 'torch.Tensor'> torch.Size([768, 3072])\n",
      "<class 'torch.Tensor'> torch.Size([768])\n",
      "<class 'torch.Tensor'> torch.Size([768])\n",
      "<class 'torch.Tensor'> torch.Size([768])\n",
      "<class 'torch.Tensor'> torch.Size([768, 768])\n",
      "<class 'torch.Tensor'> torch.Size([768])\n",
      "<class 'torch.Tensor'> torch.Size([105879])\n",
      "<class 'torch.Tensor'> torch.Size([768, 768])\n",
      "<class 'torch.Tensor'> torch.Size([768])\n",
      "<class 'torch.Tensor'> torch.Size([768])\n",
      "<class 'torch.Tensor'> torch.Size([768])\n",
      "<class 'torch.Tensor'> torch.Size([105879, 768])\n",
      "<class 'torch.Tensor'> torch.Size([2, 768])\n",
      "<class 'torch.Tensor'> torch.Size([2])\n"
     ]
    },
    {
     "name": "stdout",
     "output_type": "stream",
     "text": [
      "<class 'torch.nn.parameter.Parameter'> torch.Size([119547, 768])\n",
      "<class 'torch.nn.parameter.Parameter'> torch.Size([512, 768])\n",
      "<class 'torch.nn.parameter.Parameter'> torch.Size([768])\n",
      "<class 'torch.nn.parameter.Parameter'> torch.Size([768])\n",
      "<class 'torch.nn.parameter.Parameter'> torch.Size([768])\n",
      "<class 'torch.nn.parameter.Parameter'> torch.Size([768])\n",
      "<class 'torch.nn.parameter.Parameter'> torch.Size([768])\n",
      "<class 'torch.nn.parameter.Parameter'> torch.Size([768])\n",
      "<class 'torch.nn.parameter.Parameter'> torch.Size([768])\n",
      "<class 'torch.nn.parameter.Parameter'> torch.Size([768])\n",
      "<class 'torch.nn.parameter.Parameter'> torch.Size([768])\n",
      "<class 'torch.nn.parameter.Parameter'> torch.Size([768])\n",
      "<class 'torch.nn.parameter.Parameter'> torch.Size([768])\n",
      "<class 'torch.nn.parameter.Parameter'> torch.Size([768])\n",
      "<class 'torch.nn.parameter.Parameter'> torch.Size([768])\n",
      "<class 'torch.nn.parameter.Parameter'> torch.Size([768])\n",
      "<class 'torch.nn.parameter.Parameter'> torch.Size([768])\n",
      "<class 'torch.nn.parameter.Parameter'> torch.Size([768])\n",
      "<class 'torch.nn.parameter.Parameter'> torch.Size([768])\n",
      "<class 'torch.nn.parameter.Parameter'> torch.Size([768])\n",
      "<class 'torch.nn.parameter.Parameter'> torch.Size([768])\n",
      "<class 'torch.nn.parameter.Parameter'> torch.Size([768])\n",
      "<class 'torch.nn.parameter.Parameter'> torch.Size([768])\n",
      "<class 'torch.nn.parameter.Parameter'> torch.Size([768])\n",
      "<class 'torch.nn.parameter.Parameter'> torch.Size([768])\n",
      "<class 'torch.nn.parameter.Parameter'> torch.Size([768])\n",
      "<class 'torch.nn.parameter.Parameter'> torch.Size([768])\n",
      "<class 'torch.nn.parameter.Parameter'> torch.Size([768])\n",
      "<class 'torch.nn.parameter.Parameter'> torch.Size([768, 768])\n",
      "<class 'torch.nn.parameter.Parameter'> torch.Size([768])\n",
      "<class 'torch.nn.parameter.Parameter'> torch.Size([768, 768])\n",
      "<class 'torch.nn.parameter.Parameter'> torch.Size([768])\n",
      "<class 'torch.nn.parameter.Parameter'> torch.Size([768, 768])\n",
      "<class 'torch.nn.parameter.Parameter'> torch.Size([768])\n",
      "<class 'torch.nn.parameter.Parameter'> torch.Size([768, 768])\n",
      "<class 'torch.nn.parameter.Parameter'> torch.Size([768])\n",
      "<class 'torch.nn.parameter.Parameter'> torch.Size([3072, 768])\n",
      "<class 'torch.nn.parameter.Parameter'> torch.Size([3072])\n",
      "<class 'torch.nn.parameter.Parameter'> torch.Size([768, 3072])\n",
      "<class 'torch.nn.parameter.Parameter'> torch.Size([768])\n",
      "<class 'torch.nn.parameter.Parameter'> torch.Size([768, 768])\n",
      "<class 'torch.nn.parameter.Parameter'> torch.Size([768])\n",
      "<class 'torch.nn.parameter.Parameter'> torch.Size([768, 768])\n",
      "<class 'torch.nn.parameter.Parameter'> torch.Size([768])\n",
      "<class 'torch.nn.parameter.Parameter'> torch.Size([768, 768])\n",
      "<class 'torch.nn.parameter.Parameter'> torch.Size([768])\n",
      "<class 'torch.nn.parameter.Parameter'> torch.Size([768, 768])\n",
      "<class 'torch.nn.parameter.Parameter'> torch.Size([768])\n",
      "<class 'torch.nn.parameter.Parameter'> torch.Size([3072, 768])\n",
      "<class 'torch.nn.parameter.Parameter'> torch.Size([3072])\n",
      "<class 'torch.nn.parameter.Parameter'> torch.Size([768, 3072])\n",
      "<class 'torch.nn.parameter.Parameter'> torch.Size([768])\n",
      "<class 'torch.nn.parameter.Parameter'> torch.Size([768, 768])\n",
      "<class 'torch.nn.parameter.Parameter'> torch.Size([768])\n",
      "<class 'torch.nn.parameter.Parameter'> torch.Size([768, 768])\n",
      "<class 'torch.nn.parameter.Parameter'> torch.Size([768])\n",
      "<class 'torch.nn.parameter.Parameter'> torch.Size([768, 768])\n",
      "<class 'torch.nn.parameter.Parameter'> torch.Size([768])\n",
      "<class 'torch.nn.parameter.Parameter'> torch.Size([768, 768])\n",
      "<class 'torch.nn.parameter.Parameter'> torch.Size([768])\n",
      "<class 'torch.nn.parameter.Parameter'> torch.Size([3072, 768])\n",
      "<class 'torch.nn.parameter.Parameter'> torch.Size([3072])\n",
      "<class 'torch.nn.parameter.Parameter'> torch.Size([768, 3072])\n",
      "<class 'torch.nn.parameter.Parameter'> torch.Size([768])\n",
      "<class 'torch.nn.parameter.Parameter'> torch.Size([768, 768])\n",
      "<class 'torch.nn.parameter.Parameter'> torch.Size([768])\n",
      "<class 'torch.nn.parameter.Parameter'> torch.Size([768, 768])\n",
      "<class 'torch.nn.parameter.Parameter'> torch.Size([768])\n",
      "<class 'torch.nn.parameter.Parameter'> torch.Size([768, 768])\n",
      "<class 'torch.nn.parameter.Parameter'> torch.Size([768])\n",
      "<class 'torch.nn.parameter.Parameter'> torch.Size([768, 768])\n",
      "<class 'torch.nn.parameter.Parameter'> torch.Size([768])\n",
      "<class 'torch.nn.parameter.Parameter'> torch.Size([3072, 768])\n",
      "<class 'torch.nn.parameter.Parameter'> torch.Size([3072])\n",
      "<class 'torch.nn.parameter.Parameter'> torch.Size([768, 3072])\n",
      "<class 'torch.nn.parameter.Parameter'> torch.Size([768])\n",
      "<class 'torch.nn.parameter.Parameter'> torch.Size([768, 768])\n",
      "<class 'torch.nn.parameter.Parameter'> torch.Size([768])\n",
      "<class 'torch.nn.parameter.Parameter'> torch.Size([768, 768])\n",
      "<class 'torch.nn.parameter.Parameter'> torch.Size([768])\n",
      "<class 'torch.nn.parameter.Parameter'> torch.Size([768, 768])\n",
      "<class 'torch.nn.parameter.Parameter'> torch.Size([768])\n",
      "<class 'torch.nn.parameter.Parameter'> torch.Size([768, 768])\n",
      "<class 'torch.nn.parameter.Parameter'> torch.Size([768])\n",
      "<class 'torch.nn.parameter.Parameter'> torch.Size([3072, 768])\n",
      "<class 'torch.nn.parameter.Parameter'> torch.Size([3072])\n",
      "<class 'torch.nn.parameter.Parameter'> torch.Size([768, 3072])\n",
      "<class 'torch.nn.parameter.Parameter'> torch.Size([768])\n",
      "<class 'torch.nn.parameter.Parameter'> torch.Size([768, 768])\n",
      "<class 'torch.nn.parameter.Parameter'> torch.Size([768])\n",
      "<class 'torch.nn.parameter.Parameter'> torch.Size([768, 768])\n",
      "<class 'torch.nn.parameter.Parameter'> torch.Size([768])\n",
      "<class 'torch.nn.parameter.Parameter'> torch.Size([768, 768])\n",
      "<class 'torch.nn.parameter.Parameter'> torch.Size([768])\n",
      "<class 'torch.nn.parameter.Parameter'> torch.Size([768, 768])\n",
      "<class 'torch.nn.parameter.Parameter'> torch.Size([768])\n",
      "<class 'torch.nn.parameter.Parameter'> torch.Size([3072, 768])\n",
      "<class 'torch.nn.parameter.Parameter'> torch.Size([3072])\n",
      "<class 'torch.nn.parameter.Parameter'> torch.Size([768, 3072])\n",
      "<class 'torch.nn.parameter.Parameter'> torch.Size([768])\n",
      "<class 'torch.nn.parameter.Parameter'> torch.Size([512, 768])\n",
      "<class 'torch.nn.parameter.Parameter'> torch.Size([512])\n"
     ]
    },
    {
     "name": "stderr",
     "output_type": "stream",
     "text": [
      "c:\\users\\ellie\\appdata\\local\\programs\\python\\python36\\lib\\site-packages\\torch\\distributed\\distributed_c10d.py:126: UserWarning: torch.distributed.reduce_op is deprecated, please use torch.distributed.ReduceOp instead\n",
      "  warnings.warn(\"torch.distributed.reduce_op is deprecated, please use \"\n",
      "c:\\users\\ellie\\appdata\\local\\programs\\python\\python36\\lib\\site-packages\\pandas\\util\\__init__.py:23: FutureWarning: pandas.util.testing is deprecated. Use the functions in the public API at pandas.testing instead.\n",
      "  import pandas.util.testing\n",
      "c:\\users\\ellie\\appdata\\local\\programs\\python\\python36\\lib\\site-packages\\ipykernel_launcher.py:5: FutureWarning: The pandas.np module is deprecated and will be removed from pandas in a future version. Import numpy directly instead\n",
      "  \"\"\"\n",
      "c:\\users\\ellie\\appdata\\local\\programs\\python\\python36\\lib\\site-packages\\ipykernel_launcher.py:5: FutureWarning: The pandas.datetime class is deprecated and will be removed from pandas in a future version. Import from datetime instead.\n",
      "  \"\"\"\n"
     ]
    }
   ],
   "source": [
    "import gc\n",
    "\n",
    "for obj in gc.get_objects():\n",
    "    try:\n",
    "        if torch.is_tensor(obj) or (hasattr(obj, 'data') and torch.is_tensor(obj.data)):\n",
    "            print(type(obj), obj.size())\n",
    "    except:\n",
    "        pass"
   ]
  },
  {
   "cell_type": "code",
   "execution_count": null,
   "id": "unauthorized-regulation",
   "metadata": {},
   "outputs": [],
   "source": []
  }
 ],
 "metadata": {
  "kernelspec": {
   "display_name": "Python 3",
   "language": "python",
   "name": "python3"
  },
  "language_info": {
   "codemirror_mode": {
    "name": "ipython",
    "version": 3
   },
   "file_extension": ".py",
   "mimetype": "text/x-python",
   "name": "python",
   "nbconvert_exporter": "python",
   "pygments_lexer": "ipython3",
   "version": "3.6.2"
  }
 },
 "nbformat": 4,
 "nbformat_minor": 5
}
