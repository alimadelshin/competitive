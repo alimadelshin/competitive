{
 "cells": [
  {
   "cell_type": "code",
   "execution_count": 1,
   "id": "stopped-membership",
   "metadata": {},
   "outputs": [],
   "source": [
    "import math\n",
    "import torch\n",
    "\n",
    "from torch import nn\n",
    "\n",
    "\n",
    "class FeedForward(nn.Module):\n",
    "    def __init__(self):\n",
    "        super().__init__()\n",
    "        self.f = nn.Linear(2, 1)\n",
    "\n",
    "    def forward(self, x):\n",
    "        x = self.f(x)\n",
    "        return x\n"
   ]
  },
  {
   "cell_type": "code",
   "execution_count": 2,
   "id": "initial-battle",
   "metadata": {},
   "outputs": [],
   "source": [
    "import torch.nn.functional as F\n",
    "import numpy as np\n",
    "\n",
    "torch.manual_seed(0)\n",
    "\n",
    "net = FeedForward()\n",
    "\n",
    "net.train()\n",
    "\n",
    "q_vectors = torch.normal(0, 1, size = (1,2), requires_grad = True)\n",
    "ctx_vectors = torch.normal(0, 1, size = (1,2), requires_grad = True)\n",
    "\n",
    "targets = torch.normal(0, 1, size = (1,1))\n",
    "\n",
    "w_a = net(q_vectors)\n",
    "w_p = net(ctx_vectors)\n",
    "\n",
    "w_a.retain_grad()\n",
    "w_p.retain_grad()\n",
    "\n",
    "\n",
    "scores = torch.matmul(w_a, torch.transpose(w_p, 0, 1))\n",
    "\n",
    "loss = F.mse_loss(scores,\n",
    "                    targets,\n",
    "                    reduction='mean')"
   ]
  },
  {
   "cell_type": "code",
   "execution_count": 3,
   "id": "covered-butter",
   "metadata": {},
   "outputs": [
    {
     "name": "stdout",
     "output_type": "stream",
     "text": [
      "tensor([[0.3643, 0.1344]], requires_grad=True)\n"
     ]
    }
   ],
   "source": [
    "print(q_vectors)"
   ]
  },
  {
   "cell_type": "code",
   "execution_count": 4,
   "id": "heated-berlin",
   "metadata": {},
   "outputs": [],
   "source": [
    "loss.backward()"
   ]
  },
  {
   "cell_type": "code",
   "execution_count": 5,
   "id": "eight-journalist",
   "metadata": {},
   "outputs": [
    {
     "name": "stdout",
     "output_type": "stream",
     "text": [
      "dL/da : tensor([[-0.0363]])\n",
      "dL/dp : tensor([[-0.0414]])\n",
      "\n"
     ]
    }
   ],
   "source": [
    "print(f'dL/da : {w_a.grad}\\ndL/dp : {w_p.grad}\\n')"
   ]
  },
  {
   "cell_type": "code",
   "execution_count": null,
   "id": "recognized-virtue",
   "metadata": {},
   "outputs": [],
   "source": []
  }
 ],
 "metadata": {
  "kernelspec": {
   "display_name": "Python 3",
   "language": "python",
   "name": "python3"
  },
  "language_info": {
   "codemirror_mode": {
    "name": "ipython",
    "version": 3
   },
   "file_extension": ".py",
   "mimetype": "text/x-python",
   "name": "python",
   "nbconvert_exporter": "python",
   "pygments_lexer": "ipython3",
   "version": "3.6.2"
  }
 },
 "nbformat": 4,
 "nbformat_minor": 5
}
