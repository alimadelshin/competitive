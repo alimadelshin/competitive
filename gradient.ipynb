{
 "cells": [
  {
   "cell_type": "code",
   "execution_count": 1,
   "id": "noble-senior",
   "metadata": {},
   "outputs": [],
   "source": [
    "import math\n",
    "import torch\n",
    "\n",
    "from torch import nn\n",
    "\n",
    "\n",
    "class FeedForward(nn.Module):\n",
    "    def __init__(self):\n",
    "        super().__init__()\n",
    "        self.f = nn.Linear(2, 1)\n",
    "\n",
    "    def forward(self, x):\n",
    "        x = self.f(x)\n",
    "        return x\n"
   ]
  },
  {
   "cell_type": "code",
   "execution_count": 2,
   "id": "premium-murray",
   "metadata": {},
   "outputs": [],
   "source": [
    "import torch.nn.functional as F\n",
    "import numpy as np\n",
    "\n",
    "net = FeedForward()\n",
    "\n",
    "net.train()\n",
    "\n",
    "q_vectors = torch.normal(0, 1, size = (1,2), requires_grad = True)\n",
    "ctx_vectors = torch.normal(0, 1, size = (1,2), requires_grad = True)\n",
    "\n",
    "targets = torch.normal(0, 1, size = (1,1))\n",
    "\n",
    "#Ключевой момент\n",
    "q_vectors.retain_grad()\n",
    "ctx_vectors.retain_grad()\n",
    "\n",
    "q_out = net(q_vectors)\n",
    "ctx_out = net(ctx_vectors)\n",
    "\n",
    "scores = torch.matmul(q_out, torch.transpose(ctx_out, 0, 1))\n",
    "\n",
    "loss = F.mse_loss(scores,\n",
    "                    targets,\n",
    "                    reduction='mean')"
   ]
  },
  {
   "cell_type": "code",
   "execution_count": 3,
   "id": "statistical-result",
   "metadata": {},
   "outputs": [
    {
     "name": "stdout",
     "output_type": "stream",
     "text": [
      "None\n"
     ]
    }
   ],
   "source": [
    "print(q_vectors.grad)"
   ]
  },
  {
   "cell_type": "code",
   "execution_count": 4,
   "id": "aboriginal-burden",
   "metadata": {},
   "outputs": [],
   "source": [
    "loss.backward()"
   ]
  },
  {
   "cell_type": "code",
   "execution_count": 5,
   "id": "romantic-feedback",
   "metadata": {},
   "outputs": [
    {
     "name": "stdout",
     "output_type": "stream",
     "text": [
      "dL/da : tensor([[0.0041, 0.1985]])\n",
      "dL/dp : tensor([[-0.0029, -0.1375]])\n"
     ]
    }
   ],
   "source": [
    "print(f'dL/da : {q_vectors.grad}\\ndL/dp : {ctx_vectors.grad}')\n"
   ]
  },
  {
   "cell_type": "code",
   "execution_count": null,
   "id": "comparable-characterization",
   "metadata": {},
   "outputs": [],
   "source": []
  }
 ],
 "metadata": {
  "kernelspec": {
   "display_name": "Python 3",
   "language": "python",
   "name": "python3"
  },
  "language_info": {
   "codemirror_mode": {
    "name": "ipython",
    "version": 3
   },
   "file_extension": ".py",
   "mimetype": "text/x-python",
   "name": "python",
   "nbconvert_exporter": "python",
   "pygments_lexer": "ipython3",
   "version": "3.6.2"
  }
 },
 "nbformat": 4,
 "nbformat_minor": 5
}
